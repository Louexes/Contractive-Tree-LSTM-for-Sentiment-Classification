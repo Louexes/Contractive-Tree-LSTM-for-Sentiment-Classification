{
 "cells": [
  {
   "cell_type": "markdown",
   "metadata": {
    "id": "ptMZZMQlfn7c"
   },
   "source": [
    "------\n",
    "**You cannot apply any changes to this file, so please make sure to save it on your Google Colab drive or download it as a .ipynb file.**\n",
    "\n",
    "------\n"
   ]
  },
  {
   "cell_type": "markdown",
   "metadata": {
    "id": "jILqpPLlE9r0"
   },
   "source": [
    "# Practical 2: Representing Sentences with Neural Models"
   ]
  },
  {
   "cell_type": "markdown",
   "metadata": {
    "id": "8JXOZ5uhQ8Qq"
   },
   "source": [
    "In this second practical, we will train neural network models to obtain sentence representations. We can then use these sentence representations for a downstream task such as sentiment classification.\n",
    "\n",
    "In this notebook, we will help you to develop models for your experiments. But this time, next to completing the notebook, **you are expected to write a four-page scientific report with your findings**. Please still submit the notebook together with your scientific report so that we can reproduce your experiments. (Note: if you find it useful, you can split this notebook into multiple notebooks. If you do so, keep it mind that it should be possible for your TAs to reproduce the entire content of the notebooks without having to ask for clarifications or to copy and paste functions from one sub-notebook to another.) Make sure your code corresponds to the description you give in the report; we will deduct points if this is not the case. **Make sure you run all your code before submitting the notebook, and do not leave unnecessary print statements / cells in your notebook that are not intended for the grader.**\n",
    "\n",
    "**Important!** The main purpose of this lab is for you to learn how to answer research questions by experimenting and then writing a scientific report.\n",
    "So you will be *judged by the quality of your report* but will lose points if your experiments are not reproducible.\n",
    "You can find the requirements for the report at the end of this notebook.\n",
    "\n",
    "\n",
    "### Data set\n",
    "We will use the [Stanford Sentiment Treebank](https://nlp.stanford.edu/sentiment/) (SST), which provides sentences, their binary tree structure, and fine-grained sentiment scores.\n",
    "This dataset is different from the one we used in the first practical.\n",
    "In Practical 1, a review consisted of several sentences, and we had one sentiment score for the whole review. Now, a review consists of a single sentence, and we have a sentiment score for each node in the binary tree that makes up the sentence, including the root node (i.e., we still have an overall sentiment score for the entire review). We will look at an example below.\n",
    "\n",
    "In the first part of this practical we will only make use of the sentence tokens whereas in the second part we will also exploit the tree structure that is provided by the SST.\n",
    "\n",
    "We will cover the following approaches:\n",
    "\n",
    "- Bag-of-words (BOW)\n",
    "- Continuous bag-of-words (CBOW)\n",
    "- Deep continuous bag-of-words (Deep CBOW)\n",
    "- LSTM\n",
    "- Tree-LSTM\n"
   ]
  },
  {
   "cell_type": "markdown",
   "metadata": {
    "id": "YbNKef3lymaj"
   },
   "source": [
    "## Preparing the data"
   ]
  },
  {
   "cell_type": "markdown",
   "metadata": {
    "id": "9jxTkpg59FlU"
   },
   "source": [
    "Let's first download the data set and take a look."
   ]
  },
  {
   "cell_type": "code",
   "execution_count": 1,
   "metadata": {
    "id": "WZp53HmMP3F2"
   },
   "outputs": [],
   "source": [
    "import re\n",
    "import random\n",
    "import time\n",
    "import math\n",
    "import numpy as np\n",
    "import nltk\n",
    "import matplotlib.pyplot as plt\n",
    "plt.style.use('default')"
   ]
  },
  {
   "cell_type": "code",
   "execution_count": 2,
   "metadata": {
    "id": "TovFkDTgE_d6"
   },
   "outputs": [
    {
     "name": "stdout",
     "output_type": "stream",
     "text": [
      "--2024-12-13 12:45:38--  http://nlp.stanford.edu/sentiment/trainDevTestTrees_PTB.zip\n",
      "Resolving nlp.stanford.edu (nlp.stanford.edu)... 171.64.67.140\n",
      "Connecting to nlp.stanford.edu (nlp.stanford.edu)|171.64.67.140|:80... connected.\n",
      "HTTP request sent, awaiting response... 302 Found\n",
      "Location: https://nlp.stanford.edu/sentiment/trainDevTestTrees_PTB.zip [following]\n",
      "--2024-12-13 12:45:39--  https://nlp.stanford.edu/sentiment/trainDevTestTrees_PTB.zip\n",
      "Connecting to nlp.stanford.edu (nlp.stanford.edu)|171.64.67.140|:443... connected.\n",
      "HTTP request sent, awaiting response... 200 OK\n",
      "Length: 789539 (771K) [application/zip]\n",
      "Saving to: ‘trainDevTestTrees_PTB.zip’\n",
      "\n",
      "trainDevTestTrees_P 100%[===================>] 771.03K   416KB/s    in 1.9s    \n",
      "\n",
      "2024-12-13 12:45:41 (416 KB/s) - ‘trainDevTestTrees_PTB.zip’ saved [789539/789539]\n",
      "\n",
      "Archive:  trainDevTestTrees_PTB.zip\n"
     ]
    }
   ],
   "source": [
    "!wget -nc http://nlp.stanford.edu/sentiment/trainDevTestTrees_PTB.zip\n",
    "!unzip -n trainDevTestTrees_PTB.zip"
   ]
  },
  {
   "cell_type": "code",
   "execution_count": 3,
   "metadata": {
    "id": "0IpAphkBO5eW"
   },
   "outputs": [],
   "source": [
    "# this function reads in a textfile and fixes an issue with \"\\\\\"\n",
    "def filereader(path):\n",
    "  with open(path, mode=\"r\", encoding=\"utf-8\") as f:\n",
    "    for line in f:\n",
    "      yield line.strip().replace(\"\\\\\",\"\")"
   ]
  },
  {
   "cell_type": "markdown",
   "metadata": {
    "id": "yP_jpquiprH8"
   },
   "source": [
    "Let's look at a data point. It is a **flattened binary tree**, with sentiment scores at every node, and words as the leaves (or *terminal nodes*)."
   ]
  },
  {
   "cell_type": "code",
   "execution_count": 4,
   "metadata": {
    "colab": {
     "base_uri": "https://localhost:8080/"
    },
    "id": "ylkIopm0QJML",
    "outputId": "6dc60009-e7a4-4002-db37-d4f49bca1607"
   },
   "outputs": [
    {
     "name": "stdout",
     "output_type": "stream",
     "text": [
      "(3 (2 It) (4 (4 (2 's) (4 (3 (2 a) (4 (3 lovely) (2 film))) (3 (2 with) (4 (3 (3 lovely) (2 performances)) (2 (2 by) (2 (2 (2 Buy) (2 and)) (2 Accorsi))))))) (2 .)))\n"
     ]
    }
   ],
   "source": [
    "s = next(filereader(\"trees/dev.txt\"))\n",
    "print(s)"
   ]
  },
  {
   "cell_type": "code",
   "execution_count": 5,
   "metadata": {
    "colab": {
     "base_uri": "https://localhost:8080/"
    },
    "id": "7_U7HTFwdrWt",
    "outputId": "80055d7f-8755-423b-8804-3363222bc06b"
   },
   "outputs": [
    {
     "name": "stdout",
     "output_type": "stream",
     "text": [
      "              3                                                                     \n",
      "  ____________|____________________                                                  \n",
      " |                                 4                                                \n",
      " |        _________________________|______________________________________________   \n",
      " |       4                                                                        | \n",
      " |    ___|______________                                                          |  \n",
      " |   |                  4                                                         | \n",
      " |   |         _________|__________                                               |  \n",
      " |   |        |                    3                                              | \n",
      " |   |        |               _____|______________________                        |  \n",
      " |   |        |              |                            4                       | \n",
      " |   |        |              |            ________________|_______                |  \n",
      " |   |        |              |           |                        2               | \n",
      " |   |        |              |           |                 _______|___            |  \n",
      " |   |        3              |           |                |           2           | \n",
      " |   |    ____|_____         |           |                |        ___|_____      |  \n",
      " |   |   |          4        |           3                |       2         |     | \n",
      " |   |   |     _____|___     |      _____|_______         |    ___|___      |     |  \n",
      " 2   2   2    3         2    2     3             2        2   2       2     2     2 \n",
      " |   |   |    |         |    |     |             |        |   |       |     |     |  \n",
      " It  's  a  lovely     film with lovely     performances  by Buy     and Accorsi  . \n",
      "\n"
     ]
    },
    {
     "name": "stderr",
     "output_type": "stream",
     "text": [
      "/var/folders/nn/3ytl4vrn4ln2fzrpggw5l8300000gn/T/ipykernel_64685/348436308.py:5: DeprecationWarning: \n",
      "    Class TreePrettyPrinter has been deprecated.  Import\n",
      "    `TreePrettyPrinter` using `from nltk.tree import\n",
      "    TreePrettyPrinter` instead.\n",
      "  print(TreePrettyPrinter(tree))\n"
     ]
    }
   ],
   "source": [
    "# We can use NLTK to better visualise the tree structure of the sentence\n",
    "from nltk import Tree\n",
    "from nltk.treeprettyprinter import TreePrettyPrinter\n",
    "tree = Tree.fromstring(s)\n",
    "print(TreePrettyPrinter(tree))"
   ]
  },
  {
   "cell_type": "markdown",
   "metadata": {
    "id": "ekAWKsji9t93"
   },
   "source": [
    "The sentiment scores range from 0 (very negative) to 5 (very positive). Again, as you can see, every node in the tree is labeled with a sentiment score. For now, we will only use the score at the **root node**, i.e., the sentiment score for the complete sentence."
   ]
  },
  {
   "cell_type": "code",
   "execution_count": 6,
   "metadata": {
    "colab": {
     "base_uri": "https://localhost:8080/"
    },
    "id": "DKynLm0xPKr2",
    "outputId": "bc0a3ccf-2ed2-4f4d-e3f8-e3330dcb18de"
   },
   "outputs": [
    {
     "name": "stdout",
     "output_type": "stream",
     "text": [
      "['It', \"'s\", 'a', 'lovely', 'film', 'with', 'lovely', 'performances', 'by', 'Buy', 'and', 'Accorsi', '.']\n",
      "13\n"
     ]
    }
   ],
   "source": [
    "# Let's first make a function that extracts the tokens (the leaves).\n",
    "\n",
    "def tokens_from_treestring(s):\n",
    "  \"\"\"extract the tokens from a sentiment tree\"\"\"\n",
    "  return re.sub(r\"\\([0-9] |\\)\", \"\", s).split()\n",
    "\n",
    "# let's try it on our example tree\n",
    "tokens = tokens_from_treestring(s)\n",
    "print(tokens)\n",
    "print(len(tokens))"
   ]
  },
  {
   "cell_type": "markdown",
   "metadata": {
    "id": "B8vFkeqN-NLP"
   },
   "source": [
    "> *Warning: you could also parse a treestring using NLTK and ask it to return the leaves, but there seems to be an issue with NLTK not always correctly parsing the input, so do not rely on it.*"
   ]
  },
  {
   "cell_type": "code",
   "execution_count": 7,
   "metadata": {
    "id": "Akr9K_Mv4dym"
   },
   "outputs": [
    {
     "name": "stderr",
     "output_type": "stream",
     "text": [
      "<>:9: SyntaxWarning: invalid escape sequence '\\('\n",
      "<>:10: SyntaxWarning: invalid escape sequence '\\)'\n",
      "<>:11: SyntaxWarning: invalid escape sequence '\\('\n",
      "<>:12: SyntaxWarning: invalid escape sequence '\\('\n",
      "<>:13: SyntaxWarning: invalid escape sequence '\\)'\n",
      "<>:9: SyntaxWarning: invalid escape sequence '\\('\n",
      "<>:10: SyntaxWarning: invalid escape sequence '\\)'\n",
      "<>:11: SyntaxWarning: invalid escape sequence '\\('\n",
      "<>:12: SyntaxWarning: invalid escape sequence '\\('\n",
      "<>:13: SyntaxWarning: invalid escape sequence '\\)'\n",
      "/var/folders/nn/3ytl4vrn4ln2fzrpggw5l8300000gn/T/ipykernel_64685/1625531552.py:9: SyntaxWarning: invalid escape sequence '\\('\n",
      "  s = re.sub(\"\\([0-5] ([^)]+)\\)\", \"0\", s)\n",
      "/var/folders/nn/3ytl4vrn4ln2fzrpggw5l8300000gn/T/ipykernel_64685/1625531552.py:10: SyntaxWarning: invalid escape sequence '\\)'\n",
      "  s = re.sub(\"\\)\", \" )\", s)\n",
      "/var/folders/nn/3ytl4vrn4ln2fzrpggw5l8300000gn/T/ipykernel_64685/1625531552.py:11: SyntaxWarning: invalid escape sequence '\\('\n",
      "  s = re.sub(\"\\([0-4] \", \"\", s)\n",
      "/var/folders/nn/3ytl4vrn4ln2fzrpggw5l8300000gn/T/ipykernel_64685/1625531552.py:12: SyntaxWarning: invalid escape sequence '\\('\n",
      "  s = re.sub(\"\\([0-4] \", \"\", s)\n",
      "/var/folders/nn/3ytl4vrn4ln2fzrpggw5l8300000gn/T/ipykernel_64685/1625531552.py:13: SyntaxWarning: invalid escape sequence '\\)'\n",
      "  s = re.sub(\"\\)\", \"1\", s)\n"
     ]
    }
   ],
   "source": [
    "# We will also need the following function, but you can ignore this for now.\n",
    "# It is explained later on.\n",
    "\n",
    "SHIFT = 0\n",
    "REDUCE = 1\n",
    "\n",
    "\n",
    "def transitions_from_treestring(s):\n",
    "  s = re.sub(\"\\([0-5] ([^)]+)\\)\", \"0\", s)\n",
    "  s = re.sub(\"\\)\", \" )\", s)\n",
    "  s = re.sub(\"\\([0-4] \", \"\", s)\n",
    "  s = re.sub(\"\\([0-4] \", \"\", s)\n",
    "  s = re.sub(\"\\)\", \"1\", s)\n",
    "  return list(map(int, s.split()))"
   ]
  },
  {
   "cell_type": "code",
   "execution_count": 8,
   "metadata": {
    "colab": {
     "base_uri": "https://localhost:8080/"
    },
    "id": "mNtPdlwPgRat",
    "outputId": "9c999c1a-80e0-4e56-cfe0-b543b20985f2"
   },
   "outputs": [
    {
     "name": "stdout",
     "output_type": "stream",
     "text": [
      "trees/train.txt  8544\n",
      "trees/dev.txt    1101\n",
      "trees/test.txt   2210\n"
     ]
    }
   ],
   "source": [
    "# Now let's first see how large our data sets are.\n",
    "for path in (\"trees/train.txt\", \"trees/dev.txt\", \"trees/test.txt\"):\n",
    "  print(\"{:16s} {:4d}\".format(path, sum(1 for _ in filereader(path))))"
   ]
  },
  {
   "cell_type": "markdown",
   "metadata": {
    "id": "HexlSqTR_UrY"
   },
   "source": [
    "You can see that the number of sentences is not very large. That's probably because the data set required so much manual annotation. However, it is large enough to train a neural network on."
   ]
  },
  {
   "cell_type": "markdown",
   "metadata": {
    "id": "IfRjelOcsXuC"
   },
   "source": [
    "It will be useful to store each data example in an `Example` object,\n",
    "containing everything that we may need for each data point.\n",
    "It will contain the tokens, the tree, the top-level sentiment label, and\n",
    "the transitions (explained later)."
   ]
  },
  {
   "cell_type": "code",
   "execution_count": 9,
   "metadata": {
    "colab": {
     "base_uri": "https://localhost:8080/"
    },
    "id": "4I07Hb_-q8wg",
    "outputId": "cc2a8f6b-3170-45be-a6d5-9b68d34b80ff"
   },
   "outputs": [
    {
     "name": "stdout",
     "output_type": "stream",
     "text": [
      "train 8544\n",
      "dev 1101\n",
      "test 2210\n"
     ]
    }
   ],
   "source": [
    "from collections import namedtuple\n",
    "from nltk import Tree\n",
    "\n",
    "# A simple way to define a class is using namedtuple.\n",
    "Example = namedtuple(\"Example\", [\"tokens\", \"tree\", \"label\", \"transitions\"])\n",
    "\n",
    "\n",
    "def examplereader(path, lower=False):\n",
    "  \"\"\"Returns all examples in a file one by one.\"\"\"\n",
    "  for line in filereader(path):\n",
    "    line = line.lower() if lower else line\n",
    "    tokens = tokens_from_treestring(line)\n",
    "    tree = Tree.fromstring(line)  # use NLTK's Tree\n",
    "    label = int(line[1])\n",
    "    trans = transitions_from_treestring(line)\n",
    "    yield Example(tokens=tokens, tree=tree, label=label, transitions=trans)\n",
    "\n",
    "\n",
    "# Let's load the data into memory.\n",
    "LOWER = False  # we will keep the original casing\n",
    "train_data = list(examplereader(\"trees/train.txt\", lower=LOWER))\n",
    "dev_data = list(examplereader(\"trees/dev.txt\", lower=LOWER))\n",
    "test_data = list(examplereader(\"trees/test.txt\", lower=LOWER))\n",
    "\n",
    "print(\"train\", len(train_data))\n",
    "print(\"dev\", len(dev_data))\n",
    "print(\"test\", len(test_data))"
   ]
  },
  {
   "cell_type": "markdown",
   "metadata": {
    "id": "6KM0bDyeVZtP"
   },
   "source": [
    "Let's check out an `Example` object."
   ]
  },
  {
   "cell_type": "code",
   "execution_count": 10,
   "metadata": {
    "colab": {
     "base_uri": "https://localhost:8080/"
    },
    "id": "J8mwcaZwxP1c",
    "outputId": "a3772e01-41db-4f93-8c78-c8dd70591cfc"
   },
   "outputs": [
    {
     "name": "stdout",
     "output_type": "stream",
     "text": [
      "First example: Example(tokens=['It', \"'s\", 'a', 'lovely', 'film', 'with', 'lovely', 'performances', 'by', 'Buy', 'and', 'Accorsi', '.'], tree=Tree('3', [Tree('2', ['It']), Tree('4', [Tree('4', [Tree('2', [\"'s\"]), Tree('4', [Tree('3', [Tree('2', ['a']), Tree('4', [Tree('3', ['lovely']), Tree('2', ['film'])])]), Tree('3', [Tree('2', ['with']), Tree('4', [Tree('3', [Tree('3', ['lovely']), Tree('2', ['performances'])]), Tree('2', [Tree('2', ['by']), Tree('2', [Tree('2', [Tree('2', ['Buy']), Tree('2', ['and'])]), Tree('2', ['Accorsi'])])])])])])]), Tree('2', ['.'])])]), label=3, transitions=[0, 0, 0, 0, 0, 1, 1, 0, 0, 0, 1, 0, 0, 0, 1, 0, 1, 1, 1, 1, 1, 1, 0, 1, 1])\n",
      "First example tokens: ['It', \"'s\", 'a', 'lovely', 'film', 'with', 'lovely', 'performances', 'by', 'Buy', 'and', 'Accorsi', '.']\n",
      "First example label: 3\n"
     ]
    }
   ],
   "source": [
    "example = dev_data[0]\n",
    "print(\"First example:\", example)\n",
    "print(\"First example tokens:\", example.tokens)\n",
    "print(\"First example label:\",  example.label)"
   ]
  },
  {
   "cell_type": "markdown",
   "metadata": {
    "id": "-WDSprDBVcr-"
   },
   "source": [
    "#### Vocabulary\n",
    "A first step in most NLP tasks is collecting all the word types that appear in the data into a vocabulary, and counting the frequency of their occurrences. On the one hand, this will give us an overview of the word distribution of the data set (what are the most frequent words, how many rare words are there, ...). On the other hand, we will also use the vocabulary to map each word to a unique numeric ID, which is a more handy index than a string."
   ]
  },
  {
   "cell_type": "code",
   "execution_count": 11,
   "metadata": {
    "id": "VvNgKx7usRSt"
   },
   "outputs": [],
   "source": [
    "# Here we first define a class that can map a word to an ID (w2i)\n",
    "# and back (i2w).\n",
    "\n",
    "from collections import Counter, OrderedDict, defaultdict\n",
    "\n",
    "\n",
    "class OrderedCounter(Counter, OrderedDict):\n",
    "  \"\"\"Counter that remembers the order elements are first seen\"\"\"\n",
    "  def __repr__(self):\n",
    "    return '%s(%r)' % (self.__class__.__name__,\n",
    "                      OrderedDict(self))\n",
    "  def __reduce__(self):\n",
    "    return self.__class__, (OrderedDict(self),)\n",
    "\n",
    "\n",
    "class Vocabulary:\n",
    "  \"\"\"A vocabulary, assigns IDs to tokens\"\"\"\n",
    "\n",
    "  def __init__(self):\n",
    "    self.freqs = OrderedCounter()\n",
    "    self.w2i = {}\n",
    "    self.i2w = []\n",
    "\n",
    "  def count_token(self, t):\n",
    "    self.freqs[t] += 1\n",
    "\n",
    "  def add_token(self, t):\n",
    "    self.w2i[t] = len(self.w2i)\n",
    "    self.i2w.append(t)\n",
    "\n",
    "  def build(self, min_freq=0):\n",
    "    '''\n",
    "    min_freq: minimum number of occurrences for a word to be included\n",
    "              in the vocabulary\n",
    "    '''\n",
    "    self.add_token(\"<unk>\")  # reserve 0 for <unk> (unknown words)\n",
    "    self.add_token(\"<pad>\")  # reserve 1 for <pad> (discussed later)\n",
    "\n",
    "    tok_freq = list(self.freqs.items())\n",
    "    tok_freq.sort(key=lambda x: x[1], reverse=True)\n",
    "    for tok, freq in tok_freq:\n",
    "      if freq >= min_freq:\n",
    "        self.add_token(tok)"
   ]
  },
  {
   "cell_type": "markdown",
   "metadata": {
    "id": "kOvkH_llVsoW"
   },
   "source": [
    "The vocabulary has by default an `<unk>` token and a `<pad>` token. The `<unk>` token is reserved for all words which do not appear in the training data (and for which, therefore, we cannot learn word representations). The function of the `<pad>` token will be explained later.\n",
    "\n",
    "\n",
    "Let's build the vocabulary!\n"
   ]
  },
  {
   "cell_type": "code",
   "execution_count": 12,
   "metadata": {
    "colab": {
     "base_uri": "https://localhost:8080/"
    },
    "id": "GwGQgQQBNUSq",
    "outputId": "6b0be0c8-f97b-4845-f070-bd51614b5a4c"
   },
   "outputs": [
    {
     "name": "stdout",
     "output_type": "stream",
     "text": [
      "Vocabulary size: 18280\n"
     ]
    }
   ],
   "source": [
    "# This process should be deterministic and should have the same result\n",
    "# if run multiple times on the same data set.\n",
    "\n",
    "v = Vocabulary()\n",
    "for data_set in (train_data,):\n",
    "  for ex in data_set:\n",
    "    for token in ex.tokens:\n",
    "      v.count_token(token)\n",
    "\n",
    "v.build()\n",
    "print(\"Vocabulary size:\", len(v.w2i))"
   ]
  },
  {
   "cell_type": "markdown",
   "metadata": {
    "id": "-UNIedPrPdCw"
   },
   "source": [
    "Let's have a closer look at the properties of our vocabulary. Having a good idea of what it is like can facilitate data analysis and debugging later on."
   ]
  },
  {
   "cell_type": "code",
   "execution_count": 13,
   "metadata": {
    "id": "oJyuogmh0CA7"
   },
   "outputs": [
    {
     "name": "stdout",
     "output_type": "stream",
     "text": [
      "ID of 'century': 1973\n"
     ]
    }
   ],
   "source": [
    "# What is the ID for \"century?\"\n",
    "print(\"ID of 'century':\", v.w2i.get(\"century\"))"
   ]
  },
  {
   "cell_type": "code",
   "execution_count": 14,
   "metadata": {
    "id": "O8OkPQ8Zv-rI"
   },
   "outputs": [
    {
     "name": "stdout",
     "output_type": "stream",
     "text": [
      "First 10 words in vocab: ['<unk>', '<pad>', '.', ',', 'the', 'and', 'a', 'of', 'to', \"'s\"]\n"
     ]
    }
   ],
   "source": [
    "# What are the first 10 words in the vocabulary (based on their IDs)?\n",
    "print(\"First 10 words in vocab:\", v.i2w[:10])"
   ]
  },
  {
   "cell_type": "code",
   "execution_count": 15,
   "metadata": {
    "id": "kmXwu02lOLWI"
   },
   "outputs": [
    {
     "name": "stdout",
     "output_type": "stream",
     "text": [
      "Most common words: [('.', 8024), (',', 7131), ('the', 6037), ('and', 4431), ('a', 4403), ('of', 4386), ('to', 2995), (\"'s\", 2544), ('is', 2536), ('that', 1915)]\n"
     ]
    }
   ],
   "source": [
    "# What are the 10 most common words?\n",
    "print(\"Most common words:\", v.freqs.most_common(10))"
   ]
  },
  {
   "cell_type": "code",
   "execution_count": 16,
   "metadata": {
    "id": "__NDPaCeOT_m"
   },
   "outputs": [
    {
     "name": "stdout",
     "output_type": "stream",
     "text": [
      "Hapax legomena (freq 1): 9543\n"
     ]
    }
   ],
   "source": [
    "# And how many words are there with frequency 1?\n",
    "# (A fancy name for these is hapax legomena.)\n",
    "print(\"Hapax legomena (freq 1):\", sum(1 for w, c in v.freqs.items() if c == 1))"
   ]
  },
  {
   "cell_type": "code",
   "execution_count": 17,
   "metadata": {
    "id": "xKHocugctZGM"
   },
   "outputs": [
    {
     "name": "stdout",
     "output_type": "stream",
     "text": [
      "Random sample from vocab: ['Warner', 'former', 'gibberish', 'uncertain', 'whirling', 'fades', 'effort', 'cold-blooded', 'identity-seeking', 'formalism', '7th', 'variation', 'rollerball', 'traps', 'held', 'Drowning', 'way-cool', 'Changing', 'Brash', 'footage']\n"
     ]
    }
   ],
   "source": [
    "# Finally 20 random words from the vocabulary.\n",
    "# This is a simple way to get a feeling for the data.\n",
    "# You could use the `choice` function from the already imported `random` package\n",
    "\n",
    "print(\"Random sample from vocab:\", [random.choice(v.i2w) for _ in range(20)])"
   ]
  },
  {
   "cell_type": "markdown",
   "metadata": {
    "id": "nGWaZahKV_dH"
   },
   "source": [
    "#### Sentiment label vocabulary"
   ]
  },
  {
   "cell_type": "code",
   "execution_count": 18,
   "metadata": {
    "colab": {
     "base_uri": "https://localhost:8080/"
    },
    "id": "AmTC-rvQelpl",
    "outputId": "9837d4ce-2323-43c8-bf19-e4ad60ae5564"
   },
   "outputs": [
    {
     "name": "stdout",
     "output_type": "stream",
     "text": [
      "['very negative', 'negative', 'neutral', 'positive', 'very positive']\n",
      "very positive\n"
     ]
    }
   ],
   "source": [
    "# Now let's map the sentiment labels 0-4 to a more readable form\n",
    "i2t = [\"very negative\", \"negative\", \"neutral\", \"positive\", \"very positive\"]\n",
    "print(i2t)\n",
    "print(i2t[4])"
   ]
  },
  {
   "cell_type": "code",
   "execution_count": 19,
   "metadata": {
    "colab": {
     "base_uri": "https://localhost:8080/"
    },
    "id": "D7UI26DP2dr2",
    "outputId": "8e004ef7-8c95-4980-fa9b-c859927192fb"
   },
   "outputs": [
    {
     "name": "stdout",
     "output_type": "stream",
     "text": [
      "OrderedDict({'very negative': 0, 'negative': 1, 'neutral': 2, 'positive': 3, 'very positive': 4})\n",
      "4\n"
     ]
    }
   ],
   "source": [
    "# And let's also create the opposite mapping.\n",
    "# We won't use a Vocabulary for this (although we could), since the labels\n",
    "# are already numeric.\n",
    "t2i = OrderedDict({p : i for p, i in zip(i2t, range(len(i2t)))})\n",
    "print(t2i)\n",
    "print(t2i['very positive'])"
   ]
  },
  {
   "cell_type": "markdown",
   "metadata": {
    "id": "y0067ax54-rd"
   },
   "source": [
    "## PyTorch\n",
    "\n",
    "We are going to need PyTorch and Google Colab does not have it installed by default. Run the cell below to install it.\n",
    "\n",
    "*For installing PyTorch in your own computer, follow the instructions on [pytorch.org](pytorch.org) instead. This is for Google Colab only.*"
   ]
  },
  {
   "cell_type": "code",
   "execution_count": 20,
   "metadata": {
    "colab": {
     "base_uri": "https://localhost:8080/"
    },
    "id": "qKQMGtkR5KWr",
    "outputId": "ceb01077-6c2c-4e9b-b9e1-8b0ad13b88b7"
   },
   "outputs": [
    {
     "name": "stdout",
     "output_type": "stream",
     "text": [
      "Using torch 2.5.1\n"
     ]
    }
   ],
   "source": [
    "import torch\n",
    "print(\"Using torch\", torch.__version__) # should say 1.7.0+cu101"
   ]
  },
  {
   "cell_type": "code",
   "execution_count": 21,
   "metadata": {
    "id": "mnvPcd_E1xH8"
   },
   "outputs": [],
   "source": [
    "# Let's also import torch.nn, a PyTorch package that\n",
    "# makes building neural networks more convenient.\n",
    "from torch import nn"
   ]
  },
  {
   "cell_type": "code",
   "execution_count": 22,
   "metadata": {
    "id": "BYt8uTyGCKc7"
   },
   "outputs": [
    {
     "data": {
      "text/plain": [
       "device(type='cpu')"
      ]
     },
     "execution_count": 22,
     "metadata": {},
     "output_type": "execute_result"
    }
   ],
   "source": [
    "# PyTorch can run on CPU or on Nvidia GPU (video card) using CUDA\n",
    "# This cell selects the GPU if one is available.\n",
    "device = torch.device('cuda' if torch.cuda.is_available() else 'cpu')\n",
    "device"
   ]
  },
  {
   "cell_type": "code",
   "execution_count": 23,
   "metadata": {
    "id": "2d1VMOOYx1Bw"
   },
   "outputs": [],
   "source": [
    "# Seed manually to make runs reproducible\n",
    "# You need to set this again if you do multiple runs of the same model\n",
    "torch.manual_seed(42)\n",
    "\n",
    "# When running on the CuDNN backend two further options must be set for reproducibility\n",
    "if torch.cuda.is_available():\n",
    "  torch.backends.cudnn.deterministic = True\n",
    "  torch.backends.cudnn.benchmark = False"
   ]
  },
  {
   "cell_type": "markdown",
   "metadata": {
    "id": "uWBTzkuE3CtZ"
   },
   "source": [
    "# BOW"
   ]
  },
  {
   "cell_type": "markdown",
   "metadata": {
    "id": "TBAjYYySOA5W"
   },
   "source": [
    "Our first model is a rather simple neural **bag-of-words (BOW) model**.\n",
    "Unlike the bag-of-words model that you used in the previous lab, where we would look at the presence / frequency of words in a text, here we associate each word with a multi-dimensional vector which expresses what sentiment is conveyed by the word. In particular, our BOW vectors will be of size 5, exactly our number of sentiment classes.\n",
    "\n",
    "To classify a sentence, we **sum** the vectors of the words in the sentence and a bias vector. Because we sum the vectors, we lose word order: that's why we call this a neural bag-of-words model.\n",
    "\n",
    "```\n",
    "this   [0.0, 0.1, 0.1, 0.1, 0.0]\n",
    "movie  [0.0, 0.1, 0.1, 0.2, 0.1]\n",
    "is     [0.0, 0.1, 0.0, 0.0, 0.0]\n",
    "stupid [0.9, 0.5, 0.1, 0.0, 0.0]\n",
    "\n",
    "bias   [0.0, 0.0, 0.0, 0.0, 0.0]\n",
    "--------------------------------\n",
    "sum    [0.9, 0.8, 0.3, 0.3, 0.1]\n",
    "\n",
    "argmax: 0 (very negative)\n",
    "```\n",
    "\n",
    "The **argmax** of this sum is our predicted label.\n",
    "\n",
    "We initialize all vectors *randomly* and train them using cross-entropy loss."
   ]
  },
  {
   "cell_type": "markdown",
   "metadata": {
    "id": "rLtBAIQGynkB"
   },
   "source": [
    "#### Model class"
   ]
  },
  {
   "cell_type": "code",
   "execution_count": 24,
   "metadata": {
    "id": "QZfNklWf3tvs"
   },
   "outputs": [],
   "source": [
    "class BOW(nn.Module):\n",
    "  \"\"\"A simple bag-of-words model\"\"\"\n",
    "\n",
    "  def __init__(self, vocab_size, embedding_dim, vocab):\n",
    "    super(BOW, self).__init__()\n",
    "    self.vocab = vocab\n",
    "\n",
    "    # this is a trainable look-up table with word embeddings\n",
    "    self.embed = nn.Embedding(vocab_size, embedding_dim)\n",
    "\n",
    "    # this is a trainable bias term\n",
    "    self.bias = nn.Parameter(torch.zeros(embedding_dim), requires_grad=True)\n",
    "\n",
    "  def forward(self, inputs):\n",
    "    # this is the forward pass of the neural network\n",
    "    # it applies a function to the input and returns the output\n",
    "\n",
    "    # this looks up the embeddings for each word ID in inputs\n",
    "    # the result is a sequence of word embeddings\n",
    "    embeds = self.embed(inputs)\n",
    "\n",
    "    # the output is the sum across the time dimension (1)\n",
    "    # with the bias term added\n",
    "    logits = embeds.sum(1) + self.bias\n",
    "\n",
    "    return logits"
   ]
  },
  {
   "cell_type": "code",
   "execution_count": 25,
   "metadata": {
    "colab": {
     "base_uri": "https://localhost:8080/"
    },
    "id": "eKHvBnoBAr6z",
    "outputId": "a22d497a-1fa7-4027-d42d-6d9e3f459295"
   },
   "outputs": [
    {
     "name": "stdout",
     "output_type": "stream",
     "text": [
      "BOW(\n",
      "  (embed): Embedding(18280, 5)\n",
      ")\n"
     ]
    }
   ],
   "source": [
    "# Let's create a model.\n",
    "vocab_size = len(v.w2i)\n",
    "n_classes = len(t2i)\n",
    "bow_model = BOW(vocab_size, n_classes, v)\n",
    "print(bow_model)"
   ]
  },
  {
   "cell_type": "markdown",
   "metadata": {
    "id": "vfCx-HvMH1qQ"
   },
   "source": [
    "> **Hey, wait, where is the bias vector?**\n",
    "> PyTorch does not print Parameters, only Modules!\n",
    "\n",
    "> We can print it ourselves though, to check that it is there."
   ]
  },
  {
   "cell_type": "code",
   "execution_count": 26,
   "metadata": {
    "colab": {
     "base_uri": "https://localhost:8080/"
    },
    "id": "Fhvk5HenAroT",
    "outputId": "abf205db-9edc-41fb-b224-ea7ce321b07b"
   },
   "outputs": [
    {
     "name": "stdout",
     "output_type": "stream",
     "text": [
      "bias                     [5]          requires_grad=True\n",
      "embed.weight             [18280, 5]   requires_grad=True\n",
      "\n",
      "Total number of parameters: 91405\n",
      "\n"
     ]
    }
   ],
   "source": [
    "\n",
    "# Here we print each parameter name, shape, and if it is trainable.\n",
    "def print_parameters(model):\n",
    "  total = 0\n",
    "  for name, p in model.named_parameters():\n",
    "    total += np.prod(p.shape)\n",
    "    print(\"{:24s} {:12s} requires_grad={}\".format(name, str(list(p.shape)), p.requires_grad))\n",
    "  print(\"\\nTotal number of parameters: {}\\n\".format(total))\n",
    "\n",
    "\n",
    "print_parameters(bow_model)"
   ]
  },
  {
   "cell_type": "markdown",
   "metadata": {
    "id": "WSAw292WxuP4"
   },
   "source": [
    "#### Preparing an example for input\n",
    "\n",
    "To feed sentences to our PyTorch model, we need to convert a sequence of tokens to a sequence of IDs. The `prepare_example` function below takes care of this for us. We then use these IDs as indices for the word embedding table."
   ]
  },
  {
   "cell_type": "code",
   "execution_count": 27,
   "metadata": {
    "id": "YWeGTC_OGReV"
   },
   "outputs": [],
   "source": [
    "def prepare_example(example, vocab):\n",
    "  \"\"\"\n",
    "  Map tokens to their IDs for a single example\n",
    "  \"\"\"\n",
    "\n",
    "  # vocab returns 0 if the word is not there (i2w[0] = <unk>)\n",
    "  x = [vocab.w2i.get(t, 0) for t in example.tokens]\n",
    "\n",
    "  x = torch.LongTensor([x])\n",
    "  x = x.to(device)\n",
    "\n",
    "  y = torch.LongTensor([example.label])\n",
    "  y = y.to(device)\n",
    "\n",
    "  return x, y"
   ]
  },
  {
   "cell_type": "code",
   "execution_count": 28,
   "metadata": {
    "colab": {
     "base_uri": "https://localhost:8080/"
    },
    "id": "sfbdv9px3uFF",
    "outputId": "423ec782-a269-4a4a-fcd5-a54239e372dd"
   },
   "outputs": [
    {
     "name": "stdout",
     "output_type": "stream",
     "text": [
      "x: tensor([[  28,    9,    6,  998,   16,   18,  998,  135,   32, 7688,    5,    0,\n",
      "            2]])\n",
      "y: tensor([3])\n"
     ]
    }
   ],
   "source": [
    "x, y = prepare_example(dev_data[0], v)\n",
    "print('x:', x)\n",
    "print('y:', y)"
   ]
  },
  {
   "cell_type": "markdown",
   "metadata": {
    "id": "oKNQjEc0yXnJ"
   },
   "source": [
    "#### Evaluation\n",
    "We now need to define an evaluation metric.\n",
    "How many predictions do we get right? The accuracy will tell us.\n",
    "Make sure that you understand this code block.\n"
   ]
  },
  {
   "cell_type": "code",
   "execution_count": 29,
   "metadata": {
    "id": "yGmQLcVYKZsh"
   },
   "outputs": [],
   "source": [
    "def simple_evaluate(model, data, prep_fn=prepare_example, **kwargs):\n",
    "  \"\"\"Accuracy of a model on given data set.\"\"\"\n",
    "  correct = 0\n",
    "  total = 0\n",
    "  model.eval()  # disable dropout (explained later)\n",
    "\n",
    "  for example in data:\n",
    "\n",
    "    # convert the example input and label to PyTorch tensors\n",
    "    x, target = prep_fn(example, model.vocab)\n",
    "\n",
    "    # forward pass without backpropagation (no_grad)\n",
    "    # get the output from the neural network for input x\n",
    "    with torch.no_grad():\n",
    "      logits = model(x)\n",
    "\n",
    "    # get the prediction\n",
    "    prediction = logits.argmax(dim=-1)\n",
    "\n",
    "    # add the number of correct predictions to the total correct\n",
    "    correct += (prediction == target).sum().item()\n",
    "    total += 1\n",
    "\n",
    "  return correct, total, correct / float(total)"
   ]
  },
  {
   "cell_type": "markdown",
   "metadata": {
    "id": "5KlIGFXllWWm"
   },
   "source": [
    "We are using accuracy as a handy evaluation metric. Please consider using [alternative metrics](https://scikit-learn.org/stable/modules/classes.html#classification-metrics) for your experiments if that makes more theoretical sense."
   ]
  },
  {
   "cell_type": "markdown",
   "metadata": {
    "id": "dIk6OtSdzGRP"
   },
   "source": [
    "#### Example feed\n",
    "For stochastic gradient descent (SGD) we will need a random training example for every update.\n",
    "We implement this by shuffling the training data and returning examples one by one using `yield`.\n",
    "\n",
    "Shuffling is optional so that we get to use this function to get validation and test examples, too."
   ]
  },
  {
   "cell_type": "code",
   "execution_count": 30,
   "metadata": {
    "id": "dxDFOZLfCXvJ"
   },
   "outputs": [],
   "source": [
    "def get_examples(data, shuffle=True, **kwargs):\n",
    "  \"\"\"Shuffle data set and return 1 example at a time (until nothing left)\"\"\"\n",
    "  if shuffle:\n",
    "    print(\"Shuffling training data\")\n",
    "    random.shuffle(data)  # shuffle training data each epoch\n",
    "  for example in data:\n",
    "    yield example"
   ]
  },
  {
   "cell_type": "markdown",
   "metadata": {
    "id": "g09SM8yb2cjx"
   },
   "source": [
    "#### Exercise: Training function\n",
    "\n",
    "Your task is now to complete the training loop below.\n",
    "Before you do so, please read the section about optimisation."
   ]
  },
  {
   "cell_type": "markdown",
   "metadata": {
    "id": "TVfUukVdM_1c"
   },
   "source": [
    "**Optimisation**\n",
    "\n",
    "As mentioned in the \"Intro to PyTorch\" notebook, one of the perks of using PyTorch is automatic differentiation. We will use it to train our BOW model.\n",
    "\n",
    "We train our model by feeding it an input, performing a **forward** pass, obtaining an output prediction, and calculating a **loss** with our loss function.\n",
    "After the gradients are computed in the **backward** pass, we can take a step on the surface of the loss function towards more optimal parameter settings (gradient descent).\n",
    "\n",
    "The package we will use to do this optimisation is [torch.optim](https://pytorch.org/docs/stable/optim.html)."
   ]
  },
  {
   "cell_type": "code",
   "execution_count": 31,
   "metadata": {
    "id": "KhQigDrQ--YU"
   },
   "outputs": [],
   "source": [
    "from torch import optim"
   ]
  },
  {
   "cell_type": "markdown",
   "metadata": {
    "id": "wGIvcTZU_Cez"
   },
   "source": [
    "Besides implementations of stochastic gradient descent (SGD), this package also implements the optimisation algorithm Adam, which we'll be using in this practical.\n",
    "For the purposes of this assignment you do not need to know what Adam does besides that it uses gradient information to update our model parameters by calling:\n",
    "\n",
    "```\n",
    "optimizer.step()\n",
    "```\n",
    "Remember when we updated our parameters in the PyTorch tutorial in a loop?\n",
    "\n",
    "\n",
    "```python\n",
    "# update weights\n",
    "learning_rate = 0.5\n",
    "for f in net.parameters():\n",
    "    # for each parameter, take a small step in the opposite dir of the gradient\n",
    "    p.data = p.data - p.grad.data * learning_rate\n",
    "\n",
    "```\n",
    "The function call optimizer.step() does effectively the same thing.\n",
    "\n",
    "*(If you want to know more about optimisation algorithms using gradient information, [this blog](http://ruder.io/optimizing-gradient-descent/.) gives a nice intuitive overview.)*"
   ]
  },
  {
   "cell_type": "code",
   "execution_count": 32,
   "metadata": {
    "id": "ktFnKBux25lD"
   },
   "outputs": [],
   "source": [
    "def train_model(model, optimizer, num_iterations=10000,\n",
    "                print_every=1000, eval_every=1000,\n",
    "                batch_fn=get_examples,\n",
    "                prep_fn=prepare_example,\n",
    "                eval_fn=simple_evaluate,\n",
    "                batch_size=1, eval_batch_size=None):\n",
    "  \"\"\"Train a model.\"\"\"\n",
    "  iter_i = 0\n",
    "  train_loss = 0.\n",
    "  print_num = 0\n",
    "  start = time.time()\n",
    "  criterion = nn.CrossEntropyLoss() # loss function\n",
    "  best_eval = 0.\n",
    "  best_iter = 0\n",
    "\n",
    "  # store train loss and validation accuracy during training\n",
    "  # so we can plot them afterwards\n",
    "  losses = []\n",
    "  accuracies = []\n",
    "\n",
    "  if eval_batch_size is None:\n",
    "    eval_batch_size = batch_size\n",
    "\n",
    "  while True:  # when we run out of examples, shuffle and continue\n",
    "    for batch in batch_fn(train_data, batch_size=batch_size):\n",
    "\n",
    "      # forward pass\n",
    "      model.train()\n",
    "      x, targets = prep_fn(batch, model.vocab)\n",
    "      logits = model(x)\n",
    "\n",
    "      B = targets.size(0)  # later we will use B examples per update\n",
    "\n",
    "      # compute cross-entropy loss (our criterion)\n",
    "      # note that the cross entropy loss function computes the softmax for us\n",
    "      loss = criterion(logits.view([B, -1]), targets.view(-1))\n",
    "      train_loss += loss.item()\n",
    "\n",
    "      # backward pass (tip: check the Introduction to PyTorch notebook)\n",
    "\n",
    "      # erase previous gradients\n",
    "      # YOUR CODE HERE\n",
    "      optimizer.zero_grad()\n",
    "      # compute gradients\n",
    "      # YOUR CODE HERE\n",
    "      loss.backward()\n",
    "\n",
    "      # update weights - take a small step in the opposite dir of the gradient\n",
    "      # YOUR CODE HERE\n",
    "      optimizer.step()\n",
    "\n",
    "      print_num += 1\n",
    "      iter_i += 1\n",
    "\n",
    "      # print info\n",
    "      if iter_i % print_every == 0:\n",
    "        print(\"Iter %r: loss=%.4f, time=%.2fs\" %\n",
    "              (iter_i, train_loss, time.time()-start))\n",
    "        losses.append(train_loss)\n",
    "        print_num = 0\n",
    "        train_loss = 0.\n",
    "\n",
    "      # evaluate\n",
    "      if iter_i % eval_every == 0:\n",
    "        _, _, accuracy = eval_fn(model, dev_data, batch_size=eval_batch_size,\n",
    "                                 batch_fn=batch_fn, prep_fn=prep_fn)\n",
    "        accuracies.append(accuracy)\n",
    "        print(\"iter %r: dev acc=%.4f\" % (iter_i, accuracy))\n",
    "\n",
    "        # save best model parameters\n",
    "        if accuracy > best_eval:\n",
    "          print(\"new highscore\")\n",
    "          best_eval = accuracy\n",
    "          best_iter = iter_i\n",
    "          path = \"{}.pt\".format(model.__class__.__name__)\n",
    "          ckpt = {\n",
    "              \"state_dict\": model.state_dict(),\n",
    "              \"optimizer_state_dict\": optimizer.state_dict(),\n",
    "              \"best_eval\": best_eval,\n",
    "              \"best_iter\": best_iter\n",
    "          }\n",
    "          torch.save(ckpt, path)\n",
    "\n",
    "      # done training\n",
    "      if iter_i == num_iterations:\n",
    "        print(\"Done training\")\n",
    "\n",
    "        # evaluate on train, dev, and test with best model\n",
    "        print(\"Loading best model\")\n",
    "        path = \"{}.pt\".format(model.__class__.__name__)\n",
    "        ckpt = torch.load(path)\n",
    "        model.load_state_dict(ckpt[\"state_dict\"])\n",
    "\n",
    "        _, _, train_acc = eval_fn(\n",
    "            model, train_data, batch_size=eval_batch_size,\n",
    "            batch_fn=batch_fn, prep_fn=prep_fn)\n",
    "        _, _, dev_acc = eval_fn(\n",
    "            model, dev_data, batch_size=eval_batch_size,\n",
    "            batch_fn=batch_fn, prep_fn=prep_fn)\n",
    "        _, _, test_acc = eval_fn(\n",
    "            model, test_data, batch_size=eval_batch_size,\n",
    "            batch_fn=batch_fn, prep_fn=prep_fn)\n",
    "\n",
    "        print(\"best model iter {:d}: \"\n",
    "              \"train acc={:.4f}, dev acc={:.4f}, test acc={:.4f}\".format(\n",
    "                  best_iter, train_acc, dev_acc, test_acc))\n",
    "\n",
    "        return losses, accuracies"
   ]
  },
  {
   "cell_type": "markdown",
   "metadata": {
    "id": "XEPsLvI-3D5b"
   },
   "source": [
    "### Training the BOW model"
   ]
  },
  {
   "cell_type": "code",
   "execution_count": 33,
   "metadata": {
    "id": "9luJnNuN_d3q"
   },
   "outputs": [
    {
     "name": "stdout",
     "output_type": "stream",
     "text": [
      "BOW(\n",
      "  (embed): Embedding(18280, 5)\n",
      ")\n",
      "Shuffling training data\n",
      "Iter 1000: loss=5284.3703, time=0.37s\n",
      "iter 1000: dev acc=0.2189\n",
      "new highscore\n",
      "Iter 2000: loss=4668.4700, time=0.75s\n",
      "iter 2000: dev acc=0.2198\n",
      "new highscore\n",
      "Iter 3000: loss=4722.4099, time=1.19s\n",
      "iter 3000: dev acc=0.2334\n",
      "new highscore\n",
      "Iter 4000: loss=4441.6592, time=1.66s\n",
      "iter 4000: dev acc=0.2352\n",
      "new highscore\n",
      "Iter 5000: loss=4297.6106, time=2.33s\n",
      "iter 5000: dev acc=0.2380\n",
      "new highscore\n",
      "Iter 6000: loss=4459.8075, time=2.96s\n",
      "iter 6000: dev acc=0.2398\n",
      "new highscore\n",
      "Iter 7000: loss=4397.7324, time=3.62s\n",
      "iter 7000: dev acc=0.2470\n",
      "new highscore\n",
      "Iter 8000: loss=4243.8831, time=4.20s\n",
      "iter 8000: dev acc=0.2507\n",
      "new highscore\n",
      "Shuffling training data\n",
      "Iter 9000: loss=4154.9500, time=4.80s\n",
      "iter 9000: dev acc=0.2516\n",
      "new highscore\n",
      "Iter 10000: loss=3930.4337, time=5.35s\n",
      "iter 10000: dev acc=0.2507\n",
      "Iter 11000: loss=3950.2899, time=5.82s\n",
      "iter 11000: dev acc=0.2534\n",
      "new highscore\n",
      "Iter 12000: loss=4056.1877, time=6.28s\n",
      "iter 12000: dev acc=0.2561\n",
      "new highscore\n",
      "Iter 13000: loss=3867.6480, time=6.74s\n",
      "iter 13000: dev acc=0.2625\n",
      "new highscore\n",
      "Iter 14000: loss=3911.2197, time=7.18s\n",
      "iter 14000: dev acc=0.2607\n",
      "Iter 15000: loss=3726.8373, time=7.61s\n",
      "iter 15000: dev acc=0.2616\n",
      "Iter 16000: loss=3754.4275, time=8.06s\n",
      "iter 16000: dev acc=0.2679\n",
      "new highscore\n",
      "Iter 17000: loss=3746.3659, time=8.50s\n",
      "iter 17000: dev acc=0.2688\n",
      "new highscore\n",
      "Shuffling training data\n",
      "Iter 18000: loss=3616.7569, time=8.95s\n",
      "iter 18000: dev acc=0.2698\n",
      "new highscore\n",
      "Iter 19000: loss=3574.5754, time=9.38s\n",
      "iter 19000: dev acc=0.2716\n",
      "new highscore\n",
      "Iter 20000: loss=3388.5111, time=9.83s\n",
      "iter 20000: dev acc=0.2698\n",
      "Iter 21000: loss=3505.8675, time=10.27s\n",
      "iter 21000: dev acc=0.2688\n",
      "Iter 22000: loss=3397.1275, time=10.71s\n",
      "iter 22000: dev acc=0.2698\n",
      "Iter 23000: loss=3459.2435, time=11.15s\n",
      "iter 23000: dev acc=0.2734\n",
      "new highscore\n",
      "Iter 24000: loss=3276.7229, time=11.61s\n",
      "iter 24000: dev acc=0.2725\n",
      "Iter 25000: loss=3225.0489, time=12.06s\n",
      "iter 25000: dev acc=0.2834\n",
      "new highscore\n",
      "Shuffling training data\n",
      "Iter 26000: loss=3100.9695, time=12.50s\n",
      "iter 26000: dev acc=0.2825\n",
      "Iter 27000: loss=3097.0144, time=12.95s\n",
      "iter 27000: dev acc=0.2870\n",
      "new highscore\n",
      "Iter 28000: loss=2997.4480, time=13.40s\n",
      "iter 28000: dev acc=0.2843\n",
      "Iter 29000: loss=3022.2905, time=13.84s\n",
      "iter 29000: dev acc=0.2888\n",
      "new highscore\n",
      "Iter 30000: loss=3131.0345, time=14.29s\n",
      "iter 30000: dev acc=0.2861\n",
      "Iter 31000: loss=3020.9877, time=14.74s\n",
      "iter 31000: dev acc=0.2916\n",
      "new highscore\n",
      "Iter 32000: loss=2954.1056, time=15.18s\n",
      "iter 32000: dev acc=0.2934\n",
      "new highscore\n",
      "Iter 33000: loss=3087.8158, time=15.63s\n",
      "iter 33000: dev acc=0.2925\n",
      "Iter 34000: loss=2990.7518, time=16.08s\n",
      "iter 34000: dev acc=0.2879\n",
      "Shuffling training data\n",
      "Iter 35000: loss=2818.3571, time=16.52s\n",
      "iter 35000: dev acc=0.2897\n",
      "Iter 36000: loss=2816.5829, time=16.96s\n",
      "iter 36000: dev acc=0.2916\n",
      "Iter 37000: loss=2665.3179, time=17.41s\n",
      "iter 37000: dev acc=0.2961\n",
      "new highscore\n",
      "Iter 38000: loss=2662.7881, time=17.86s\n",
      "iter 38000: dev acc=0.2925\n",
      "Iter 39000: loss=2666.1601, time=18.30s\n",
      "iter 39000: dev acc=0.2943\n",
      "Iter 40000: loss=2812.5781, time=18.75s\n",
      "iter 40000: dev acc=0.2934\n",
      "Iter 41000: loss=2678.9656, time=19.20s\n",
      "iter 41000: dev acc=0.2961\n",
      "Iter 42000: loss=2685.3741, time=19.66s\n",
      "iter 42000: dev acc=0.2970\n",
      "new highscore\n",
      "Shuffling training data\n",
      "Iter 43000: loss=2783.6457, time=20.11s\n",
      "iter 43000: dev acc=0.2925\n",
      "Iter 44000: loss=2285.0933, time=20.56s\n",
      "iter 44000: dev acc=0.2952\n",
      "Iter 45000: loss=2552.8883, time=21.01s\n",
      "iter 45000: dev acc=0.2925\n",
      "Iter 46000: loss=2343.2947, time=21.46s\n",
      "iter 46000: dev acc=0.2934\n",
      "Iter 47000: loss=2729.0796, time=21.90s\n",
      "iter 47000: dev acc=0.2979\n",
      "new highscore\n",
      "Iter 48000: loss=2465.1871, time=22.35s\n",
      "iter 48000: dev acc=0.2979\n",
      "Iter 49000: loss=2501.2515, time=22.81s\n",
      "iter 49000: dev acc=0.3015\n",
      "new highscore\n",
      "Iter 50000: loss=2421.2853, time=23.25s\n",
      "iter 50000: dev acc=0.3025\n",
      "new highscore\n",
      "Iter 51000: loss=2404.0523, time=23.72s\n",
      "iter 51000: dev acc=0.3034\n",
      "new highscore\n",
      "Shuffling training data\n",
      "Iter 52000: loss=2270.4466, time=24.18s\n",
      "iter 52000: dev acc=0.2988\n",
      "Iter 53000: loss=2218.3919, time=24.63s\n",
      "iter 53000: dev acc=0.2988\n",
      "Iter 54000: loss=2298.7291, time=25.08s\n",
      "iter 54000: dev acc=0.3015\n",
      "Iter 55000: loss=2388.3775, time=25.53s\n",
      "iter 55000: dev acc=0.3034\n",
      "Iter 56000: loss=2280.3096, time=26.04s\n",
      "iter 56000: dev acc=0.3079\n",
      "new highscore\n",
      "Iter 57000: loss=2238.4755, time=26.52s\n",
      "iter 57000: dev acc=0.3124\n",
      "new highscore\n",
      "Iter 58000: loss=2167.9387, time=26.98s\n",
      "iter 58000: dev acc=0.3143\n",
      "new highscore\n",
      "Iter 59000: loss=2163.1854, time=27.44s\n",
      "iter 59000: dev acc=0.3134\n",
      "Shuffling training data\n",
      "Iter 60000: loss=2235.4304, time=27.90s\n",
      "iter 60000: dev acc=0.3115\n",
      "Done training\n",
      "Loading best model\n"
     ]
    },
    {
     "name": "stderr",
     "output_type": "stream",
     "text": [
      "/var/folders/nn/3ytl4vrn4ln2fzrpggw5l8300000gn/T/ipykernel_64685/3291092230.py:91: FutureWarning: You are using `torch.load` with `weights_only=False` (the current default value), which uses the default pickle module implicitly. It is possible to construct malicious pickle data which will execute arbitrary code during unpickling (See https://github.com/pytorch/pytorch/blob/main/SECURITY.md#untrusted-models for more details). In a future release, the default value for `weights_only` will be flipped to `True`. This limits the functions that could be executed during unpickling. Arbitrary objects will no longer be allowed to be loaded via this mode unless they are explicitly allowlisted by the user via `torch.serialization.add_safe_globals`. We recommend you start setting `weights_only=True` for any use case where you don't have full control of the loaded file. Please open an issue on GitHub for any issues related to this experimental feature.\n",
      "  ckpt = torch.load(path)\n"
     ]
    },
    {
     "name": "stdout",
     "output_type": "stream",
     "text": [
      "best model iter 58000: train acc=0.4189, dev acc=0.3143, test acc=0.3077\n"
     ]
    }
   ],
   "source": [
    "# If everything is in place we can now train our first model!\n",
    "bow_model = BOW(len(v.w2i), len(t2i), vocab=v)\n",
    "print(bow_model)\n",
    "\n",
    "bow_model = bow_model.to(device)\n",
    "\n",
    "optimizer = optim.Adam(bow_model.parameters(), lr=0.0005)\n",
    "bow_losses, bow_accuracies = train_model(\n",
    "    bow_model, optimizer, num_iterations=60000,\n",
    "    print_every=1000, eval_every=1000)"
   ]
  },
  {
   "cell_type": "code",
   "execution_count": 34,
   "metadata": {
    "id": "dvYLj8LIAzfS"
   },
   "outputs": [
    {
     "data": {
      "text/plain": [
       "[<matplotlib.lines.Line2D at 0x1286ab980>]"
      ]
     },
     "execution_count": 34,
     "metadata": {},
     "output_type": "execute_result"
    },
    {
     "data": {
      "image/png": "[encoded data removed]",
      "text/plain": [
       "<Figure size 640x480 with 1 Axes>"
      ]
     },
     "metadata": {},
     "output_type": "display_data"
    }
   ],
   "source": [
    "# This will plot the validation accuracies across time.\n",
    "plt.plot(bow_accuracies)"
   ]
  },
  {
   "cell_type": "code",
   "execution_count": 35,
   "metadata": {
    "id": "vUHm9JfSI4po"
   },
   "outputs": [
    {
     "data": {
      "text/plain": [
       "[<matplotlib.lines.Line2D at 0x12ad2e480>]"
      ]
     },
     "execution_count": 35,
     "metadata": {},
     "output_type": "execute_result"
    },
    {
     "data": {
      "image/png": "[encoded data removed]",
      "text/plain": [
       "<Figure size 640x480 with 1 Axes>"
      ]
     },
     "metadata": {},
     "output_type": "display_data"
    }
   ],
   "source": [
    "# This will plot the training loss over time.\n",
    "plt.plot(bow_losses)"
   ]
  },
  {
   "cell_type": "markdown",
   "metadata": {
    "id": "Psxh-Le1BMDQ"
   },
   "source": [
    "Please note that we set the number of iterations to 30K as an indicative value, after which we simply stop training without checking for convergence. You should choose an appropriate number of iterations and motivate your decision. **This holds for all pre-set numbers of iteration in the following code blocks.**"
   ]
  },
  {
   "cell_type": "markdown",
   "metadata": {},
   "source": [
    "Louis Note: Based on the initial loss and accuracy plots, it appears that the model is becoming continually better (no sign of plateau), so more iterations would be beneficial. Hence try 60000. At 60000 we were able to achieve better accuracy and lower loss and loss plot slowly indicates a plateau. Potentially increase to 80000? "
   ]
  },
  {
   "cell_type": "markdown",
   "metadata": {
    "id": "E9mB1_XhMPNN"
   },
   "source": [
    "# CBOW"
   ]
  },
  {
   "cell_type": "markdown",
   "metadata": {
    "id": "pWk78FvNMw4o"
   },
   "source": [
    "We now continue with a **continuous bag-of-words (CBOW)** model. (*This is not the same as the word2vec CBOW model!*)\n",
    "\n",
    "It is similar to the BOW model above, but now embeddings can have a dimension of *arbitrary size*.\n",
    "This means that we can choose a higher dimensionality and learn more aspects of each word. We will still sum word vectors to get a sentence representation, but now the size of the resulting vector will no longer correspond to the number of sentiment classes.\n",
    "\n",
    "So to turn the size of our summed vector into the number of output classes, we can *learn* a parameter matrix $W$ and multiply it by the sum vector $x$: $$Wx$$\n",
    "If the size of $x$ is `d x 1`, we can set $W$ to be `5 x d`, so that the output of the matrix multiplication will be the of the desired size, `5 x 1`. Then, just like for the BOW model, we can obtain a prediction using the argmax function."
   ]
  },
  {
   "cell_type": "markdown",
   "metadata": {
    "id": "gIjrCPfCwsXI"
   },
   "source": [
    "## Exercise: implement and train the CBOW model\n",
    "\n",
    "Write a class `CBOW` that:\n",
    "\n",
    "- has word embeddings with size 300\n",
    "- sums the word vectors for the input words (just like in `BOW`)\n",
    "- projects the resulting vector down to 5 units using a linear layer and a bias term (check out `nn.Linear`)\n",
    "\n",
    "Train your CBOW model and plot the validation accuracy and training loss over time."
   ]
  },
  {
   "cell_type": "code",
   "execution_count": 36,
   "metadata": {},
   "outputs": [],
   "source": [
    "class CBOW(nn.Module):\n",
    "    \"\"\"A simple continuous bag-of-words model\"\"\"\n",
    "    \n",
    "    def __init__(self, vocab_size, embedding_dim, output_dim, vocab):\n",
    "        super(CBOW, self).__init__()\n",
    "        self.vocab = vocab\n",
    "    \n",
    "        # this is a trainable look-up table with word embeddings\n",
    "        self.embed = nn.Embedding(vocab_size, embedding_dim)\n",
    "\n",
    "        # linear layer to project the summed embeddings to the output dimension\n",
    "        self.linear = nn.Linear(embedding_dim, output_dim)\n",
    "        \n",
    "        # this is a trainable bias term\n",
    "        self.bias = nn.Parameter(torch.zeros(output_dim), requires_grad=True)\n",
    "    \n",
    "    def forward(self, inputs):\n",
    "        embeds = self.embed(inputs) \n",
    "    \n",
    "        x = embeds.sum(1) # sum the embeddings\n",
    "    \n",
    "        logits = self.linear(x) + self.bias # project to output dimension\n",
    "    \n",
    "        return logits"
   ]
  },
  {
   "cell_type": "code",
   "execution_count": 37,
   "metadata": {},
   "outputs": [
    {
     "name": "stdout",
     "output_type": "stream",
     "text": [
      "CBOW(\n",
      "  (embed): Embedding(18280, 300)\n",
      "  (linear): Linear(in_features=300, out_features=5, bias=True)\n",
      ")\n",
      "Shuffling training data\n",
      "Iter 1000: loss=2712.8932, time=10.76s\n",
      "iter 1000: dev acc=0.2598\n",
      "new highscore\n",
      "Iter 2000: loss=2280.6592, time=21.82s\n",
      "iter 2000: dev acc=0.3070\n",
      "new highscore\n",
      "Iter 3000: loss=2065.3825, time=32.34s\n",
      "iter 3000: dev acc=0.2734\n",
      "Iter 4000: loss=2011.8206, time=41.90s\n",
      "iter 4000: dev acc=0.2743\n",
      "Iter 5000: loss=1889.4344, time=51.51s\n",
      "iter 5000: dev acc=0.2807\n",
      "Iter 6000: loss=1914.7469, time=60.85s\n",
      "iter 6000: dev acc=0.2734\n",
      "Iter 7000: loss=1881.8984, time=70.26s\n",
      "iter 7000: dev acc=0.2925\n",
      "Iter 8000: loss=1884.0978, time=79.35s\n",
      "iter 8000: dev acc=0.2952\n",
      "Shuffling training data\n",
      "Iter 9000: loss=1665.2998, time=88.53s\n",
      "iter 9000: dev acc=0.2943\n",
      "Iter 10000: loss=1573.5180, time=98.39s\n",
      "iter 10000: dev acc=0.3097\n",
      "new highscore\n",
      "Done training\n",
      "Loading best model\n"
     ]
    },
    {
     "name": "stderr",
     "output_type": "stream",
     "text": [
      "/var/folders/nn/3ytl4vrn4ln2fzrpggw5l8300000gn/T/ipykernel_64685/3291092230.py:91: FutureWarning: You are using `torch.load` with `weights_only=False` (the current default value), which uses the default pickle module implicitly. It is possible to construct malicious pickle data which will execute arbitrary code during unpickling (See https://github.com/pytorch/pytorch/blob/main/SECURITY.md#untrusted-models for more details). In a future release, the default value for `weights_only` will be flipped to `True`. This limits the functions that could be executed during unpickling. Arbitrary objects will no longer be allowed to be loaded via this mode unless they are explicitly allowlisted by the user via `torch.serialization.add_safe_globals`. We recommend you start setting `weights_only=True` for any use case where you don't have full control of the loaded file. Please open an issue on GitHub for any issues related to this experimental feature.\n",
      "  ckpt = torch.load(path)\n"
     ]
    },
    {
     "name": "stdout",
     "output_type": "stream",
     "text": [
      "best model iter 10000: train acc=0.4094, dev acc=0.3097, test acc=0.3308\n"
     ]
    }
   ],
   "source": [
    "bow_model = CBOW(len(v.w2i), 300, output_dim=len(t2i), vocab=v)\n",
    "print(bow_model)\n",
    "\n",
    "bow_model = bow_model.to(device)\n",
    "\n",
    "optimizer = optim.Adam(bow_model.parameters(), lr=0.0005)\n",
    "bow_losses, bow_accuracies = train_model(\n",
    "    bow_model, optimizer, num_iterations=10000,\n",
    "    print_every=1000, eval_every=1000)"
   ]
  },
  {
   "cell_type": "code",
   "execution_count": 38,
   "metadata": {},
   "outputs": [
    {
     "data": {
      "text/plain": [
       "[<matplotlib.lines.Line2D at 0x12ad8f410>]"
      ]
     },
     "execution_count": 38,
     "metadata": {},
     "output_type": "execute_result"
    },
    {
     "data": {
      "image/png": "[encoded data removed]",
      "text/plain": [
       "<Figure size 640x480 with 1 Axes>"
      ]
     },
     "metadata": {},
     "output_type": "display_data"
    }
   ],
   "source": [
    "# This will plot the validation accuracies across time.\n",
    "plt.plot(bow_accuracies)"
   ]
  },
  {
   "cell_type": "code",
   "execution_count": 39,
   "metadata": {},
   "outputs": [
    {
     "data": {
      "text/plain": [
       "[<matplotlib.lines.Line2D at 0x12ad52c60>]"
      ]
     },
     "execution_count": 39,
     "metadata": {},
     "output_type": "execute_result"
    },
    {
     "data": {
      "image/png": "[encoded data removed]",
      "text/plain": [
       "<Figure size 640x480 with 1 Axes>"
      ]
     },
     "metadata": {},
     "output_type": "display_data"
    }
   ],
   "source": [
    "# This will plot the training loss over time.\n",
    "plt.plot(bow_losses)"
   ]
  },
  {
   "cell_type": "markdown",
   "metadata": {
    "id": "zpFt_Fo2TdN0"
   },
   "source": [
    "# Deep CBOW"
   ]
  },
  {
   "cell_type": "markdown",
   "metadata": {
    "id": "iZanOMesTfEZ"
   },
   "source": [
    "To see if we can squeeze some more performance out of the CBOW model, we can make it deeper and non-linear by adding more layers and, e.g., tanh-activations.\n",
    "By using more parameters we can learn more aspects of the data, and by using more layers and non-linearities, we can try to learn a more complex function.\n",
    "This is not something that always works. If the input-output mapping of your data is simple, then a complicated function could easily overfit on your training set, thereby leading to poor generalization.\n",
    "\n",
    "#### Exercise: write Deep CBOW class and train it\n",
    "\n",
    "Write a class `DeepCBOW`.\n",
    "\n",
    "In your code, make sure that your `output_layer` consists of the following:\n",
    "- A linear transformation from E units to D units.\n",
    "- A Tanh activation\n",
    "- A linear transformation from D units to D units\n",
    "- A Tanh activation\n",
    "- A linear transformation from D units to 5 units (our output classes).\n",
    "\n",
    "E is the size of the word embeddings (please use E=300) and D for the size of a hidden layer (please use D=100).\n",
    "\n",
    "We recommend using [nn.Sequential](https://pytorch.org/docs/stable/nn.html?highlight=sequential#torch.nn.Sequential) to implement this exercise."
   ]
  },
  {
   "cell_type": "code",
   "execution_count": 40,
   "metadata": {
    "id": "l8Z1igvpTrZq"
   },
   "outputs": [],
   "source": [
    "class DeepCBOW(nn.Module):\n",
    "    \"\"\"A deep continuous bag-of-words model\"\"\"\n",
    "    \n",
    "    def __init__(self, vocab_size, embedding_dim, output_dim, vocab):\n",
    "        super(DeepCBOW, self).__init__()\n",
    "        self.vocab = vocab\n",
    "    \n",
    "        # this is a trainable look-up table with word embeddings\n",
    "        self.embed = nn.Embedding(vocab_size, embedding_dim)\n",
    "\n",
    "        # Define the deep output layer using nn.Sequential\n",
    "        self.output_layer = nn.Sequential(\n",
    "            nn.Linear(embedding_dim, 100),\n",
    "            nn.Tanh(),\n",
    "            nn.Linear(100, 100),\n",
    "            nn.Tanh(),\n",
    "            nn.Linear(100, output_dim)\n",
    "        )\n",
    "    \n",
    "    def forward(self, inputs):\n",
    "        embeds = self.embed(inputs) \n",
    "        \n",
    "        x = embeds.sum(1) # sum the embeddings\n",
    "        \n",
    "        logits = self.output_layer(x) # project to output dimension\n",
    "        \n",
    "        return logits"
   ]
  },
  {
   "cell_type": "code",
   "execution_count": 41,
   "metadata": {},
   "outputs": [
    {
     "name": "stdout",
     "output_type": "stream",
     "text": [
      "DeepCBOW(\n",
      "  (embed): Embedding(18280, 300)\n",
      "  (output_layer): Sequential(\n",
      "    (0): Linear(in_features=300, out_features=100, bias=True)\n",
      "    (1): Tanh()\n",
      "    (2): Linear(in_features=100, out_features=100, bias=True)\n",
      "    (3): Tanh()\n",
      "    (4): Linear(in_features=100, out_features=5, bias=True)\n",
      "  )\n",
      ")\n",
      "Shuffling training data\n",
      "Iter 1000: loss=1611.7787, time=10.08s\n",
      "iter 1000: dev acc=0.2807\n",
      "new highscore\n",
      "Iter 2000: loss=1578.5109, time=20.65s\n",
      "iter 2000: dev acc=0.2897\n",
      "new highscore\n",
      "Iter 3000: loss=1535.8935, time=31.19s\n",
      "iter 3000: dev acc=0.3079\n",
      "new highscore\n",
      "Iter 4000: loss=1554.9816, time=41.56s\n",
      "iter 4000: dev acc=0.3233\n",
      "new highscore\n",
      "Iter 5000: loss=1523.6044, time=51.97s\n",
      "iter 5000: dev acc=0.3233\n",
      "Iter 6000: loss=1502.1570, time=63.81s\n",
      "iter 6000: dev acc=0.3361\n",
      "new highscore\n",
      "Iter 7000: loss=1492.7814, time=77.21s\n",
      "iter 7000: dev acc=0.3233\n",
      "Iter 8000: loss=1503.0867, time=89.77s\n",
      "iter 8000: dev acc=0.3388\n",
      "new highscore\n",
      "Shuffling training data\n",
      "Iter 9000: loss=1449.2039, time=100.99s\n",
      "iter 9000: dev acc=0.3415\n",
      "new highscore\n",
      "Iter 10000: loss=1382.4326, time=112.42s\n",
      "iter 10000: dev acc=0.3070\n",
      "Done training\n",
      "Loading best model\n"
     ]
    },
    {
     "name": "stderr",
     "output_type": "stream",
     "text": [
      "/var/folders/nn/3ytl4vrn4ln2fzrpggw5l8300000gn/T/ipykernel_64685/3291092230.py:91: FutureWarning: You are using `torch.load` with `weights_only=False` (the current default value), which uses the default pickle module implicitly. It is possible to construct malicious pickle data which will execute arbitrary code during unpickling (See https://github.com/pytorch/pytorch/blob/main/SECURITY.md#untrusted-models for more details). In a future release, the default value for `weights_only` will be flipped to `True`. This limits the functions that could be executed during unpickling. Arbitrary objects will no longer be allowed to be loaded via this mode unless they are explicitly allowlisted by the user via `torch.serialization.add_safe_globals`. We recommend you start setting `weights_only=True` for any use case where you don't have full control of the loaded file. Please open an issue on GitHub for any issues related to this experimental feature.\n",
      "  ckpt = torch.load(path)\n"
     ]
    },
    {
     "name": "stdout",
     "output_type": "stream",
     "text": [
      "best model iter 9000: train acc=0.4170, dev acc=0.3415, test acc=0.3127\n"
     ]
    }
   ],
   "source": [
    "bow_model = DeepCBOW(len(v.w2i), 300, output_dim=len(t2i), vocab=v)\n",
    "print(bow_model)\n",
    "\n",
    "bow_model = bow_model.to(device)\n",
    "\n",
    "optimizer = optim.Adam(bow_model.parameters(), lr=0.0005)\n",
    "bow_losses, bow_accuracies = train_model(\n",
    "    bow_model, optimizer, num_iterations=10000,\n",
    "    print_every=1000, eval_every=1000)"
   ]
  },
  {
   "cell_type": "code",
   "execution_count": 42,
   "metadata": {},
   "outputs": [
    {
     "data": {
      "text/plain": [
       "[<matplotlib.lines.Line2D at 0x12adca4b0>]"
      ]
     },
     "execution_count": 42,
     "metadata": {},
     "output_type": "execute_result"
    },
    {
     "data": {
      "image/png": "[encoded data removed]",
      "text/plain": [
       "<Figure size 640x480 with 1 Axes>"
      ]
     },
     "metadata": {},
     "output_type": "display_data"
    }
   ],
   "source": [
    "# This will plot the validation accuracies across time.\n",
    "plt.plot(bow_accuracies)"
   ]
  },
  {
   "cell_type": "code",
   "execution_count": 43,
   "metadata": {},
   "outputs": [
    {
     "data": {
      "text/plain": [
       "[<matplotlib.lines.Line2D at 0x12aec7680>]"
      ]
     },
     "execution_count": 43,
     "metadata": {},
     "output_type": "execute_result"
    },
    {
     "data": {
      "image/png": "[encoded data removed]",
      "text/plain": [
       "<Figure size 640x480 with 1 Axes>"
      ]
     },
     "metadata": {},
     "output_type": "display_data"
    }
   ],
   "source": [
    "# This will plot the training loss over time.\n",
    "plt.plot(bow_losses)"
   ]
  },
  {
   "cell_type": "markdown",
   "metadata": {
    "id": "MQZ5flHwiiHY"
   },
   "source": [
    "# Pre-trained word embeddings"
   ]
  },
  {
   "cell_type": "markdown",
   "metadata": {
    "id": "9NX35vecmHy6"
   },
   "source": [
    "The Stanford Sentiment Treebank is a rather small data set, since it required fine-grained manual annotatation. This makes it difficult for the Deep CBOW model to learn good word embeddings, i.e. to learn good word representations for the words in our vocabulary.\n",
    "In fact, the only error signal that the network receives is from predicting the sentiment of entire sentences!\n",
    "\n",
    "To start off with better word representations, we can download **pre-trained word embeddings**.\n",
    "You can choose which pre-trained word embeddings to use:\n",
    "\n",
    "- **GloVe**. The \"original\" Stanford Sentiment classification [paper](http://aclweb.org/anthology/P/P15/P15-1150.pdf) used Glove embeddings, which are just another method (like *word2vec*) to get word embeddings from unannotated text. Glove is described in the following paper which you should cite if you use them:\n",
    "> Jeffrey Pennington, Richard Socher, and Christopher Manning. [\"Glove: Global vectors for word representation.\"](https://nlp.stanford.edu/pubs/glove.pdf) EMNLP 2014.\n",
    "\n",
    "- **Word2Vec**. This is the method that you learned about in class, described in:\n",
    "> Mikolov, Tomas, et al. [\"Distributed representations of words and phrases and their compositionality.\"](https://papers.nips.cc/paper/5021-distributed-representations-of-words-and-phrases-and-their-compositionality.pdf) Advances in neural information processing systems. 2013.\n",
    "\n",
    "Using these pre-trained word embeddings, we can initialize our word embedding lookup table and start form a point where similar words are already close to one another in the distributional semantic space.\n",
    "\n",
    "You can choose to keep the word embeddings **fixed** or to train them further, specialising them to the task at hand.\n",
    "We will keep them fixed for now.\n",
    "\n",
    "For the purposes of this lab, it is enough if you understand how word2vec works (whichever vectors you use), but if you are interested, we encourage you to also check out the GloVe paper.\n",
    "\n",
    "You can either download the word2vec vectors, or the Glove vectors.\n",
    "If you want to compare your results to the Stanford paper later on, then you should use Glove.\n",
    "**At the end of this lab you have the option to compare which vectors give you the best performance. For now, simply choose one of them and continue with that.**\n",
    "\n",
    "[**OPTIONAL in case you don't want to mount Google Drive:** instead of running all the 5 boxes below, you can 1) download the GloVe and word2vec in your local machine, 2) upload them on your Drive folder (\"My Drive\"). Then, uncomment the first 2 lines in box 6 before writing your code!]\n"
   ]
  },
  {
   "cell_type": "markdown",
   "metadata": {},
   "source": [
    "Louis Note: I chose to download Glove"
   ]
  },
  {
   "cell_type": "code",
   "execution_count": 44,
   "metadata": {
    "id": "lGYr02WWO993"
   },
   "outputs": [
    {
     "name": "stdout",
     "output_type": "stream",
     "text": [
      "File ‘glove.840B.300d.sst.txt’ already there; not retrieving.\n",
      "\n"
     ]
    }
   ],
   "source": [
    "# This downloads the Glove 840B 300d embeddings.\n",
    "# The original file is at http://nlp.stanford.edu/data/glove.840B.300d.zip\n",
    "# Since that file is 2GB, we provide you with a *filtered version*\n",
    "# which contains all the words you need for this data set.\n",
    "\n",
    "# You only need to do this once.\n",
    "# Please comment this cell out after downloading.\n",
    "\n",
    "!wget -nc https://gist.githubusercontent.com/bastings/b094de2813da58056a05e8e7950d4ad1/raw/3fbd3976199c2b88de2ae62afc0ecc6f15e6f7ce/glove.840B.300d.sst.txt"
   ]
  },
  {
   "cell_type": "code",
   "execution_count": 45,
   "metadata": {
    "id": "6NLsgFGiTjmI"
   },
   "outputs": [],
   "source": [
    "# This downloads the word2vec 300D Google News vectors\n",
    "# The file has been truncated to only contain words that appear in our data set.\n",
    "# You can find the original file here: https://code.google.com/archive/p/word2vec/\n",
    "\n",
    "# You only need to do this once.\n",
    "# Please comment this out after downloading.\n",
    "# !wget -nc https://gist.githubusercontent.com/bastings/4d1c346c68969b95f2c34cfbc00ba0a0/raw/76b4fefc9ef635a79d0d8002522543bc53ca2683/googlenews.word2vec.300d.txt"
   ]
  },
  {
   "cell_type": "code",
   "execution_count": 46,
   "metadata": {
    "cellView": "both",
    "id": "GXBITzPRQUQb"
   },
   "outputs": [],
   "source": [
    "# Mount Google Drive (to save the downloaded files)\n",
    "# from google.colab import drive\n",
    "# drive.mount('/gdrive')"
   ]
  },
  {
   "cell_type": "code",
   "execution_count": 47,
   "metadata": {
    "id": "uFvzPuiKSCbl"
   },
   "outputs": [],
   "source": [
    "# Copy word vectors *to* Google Drive\n",
    "\n",
    "# You only need to do this once.\n",
    "# Please comment this out after running it.\n",
    "# !cp \"glove.840B.300d.sst.txt\" \"/gdrive/My Drive/\"\n",
    "# !cp \"googlenews.word2vec.300d.txt\" \"/gdrive/My Drive/\""
   ]
  },
  {
   "cell_type": "code",
   "execution_count": 48,
   "metadata": {
    "id": "kUMH0bM6BuY9"
   },
   "outputs": [],
   "source": [
    "# If you copied the word vectors to your Drive before,\n",
    "# here is where you copy them back to the Colab notebook.\n",
    "\n",
    "# Copy Glove vectors *from* Google Drive\n",
    "# !cp \"/gdrive/My Drive/glove.840B.300d.sst.txt\" .\n",
    "# !cp \"/gdrive/My Drive/googlenews.word2vec.300d.txt\" ."
   ]
  },
  {
   "cell_type": "code",
   "execution_count": 49,
   "metadata": {
    "id": "xcpkoh6PIjfe"
   },
   "outputs": [],
   "source": [
    "# Uncomment these 2 lines below if went for the OPTIONAL method described above\n",
    "# !cp \"glove.840B.300d.sst.txt\" \"./\"\n",
    "# !cp \"googlenews.word2vec.300d.txt\" \"./\""
   ]
  },
  {
   "cell_type": "markdown",
   "metadata": {
    "id": "MX2GJVHILM8n"
   },
   "source": [
    "At this point you have the pre-trained word embedding files, but what do they look like?"
   ]
  },
  {
   "cell_type": "code",
   "execution_count": 50,
   "metadata": {
    "id": "ChsChH14Ruxn"
   },
   "outputs": [
    {
     "name": "stdout",
     "output_type": "stream",
     "text": [
      ", -0.082752 0.67204 -0.14987 -0.064983 0.056491 0.40228 0.0027747 -0.3311 -0.30691 2.0817 0.031819 0.013643 0.30265 0.0071297 -0.5819 -0.2774 -0.062254 1.1451 -0.24232 0.1235 -0.12243 0.33152 -0.006162 -0.30541 -0.13057 -0.054601 0.037083 -0.070552 0.5893 -0.30385 0.2898 -0.14653 -0.27052 0.37161 0.32031 -0.29125 0.0052483 -0.13212 -0.052736 0.087349 -0.26668 -0.16897 0.015162 -0.0083746 -0.14871 0.23413 -0.20719 -0.091386 0.40075 -0.17223 0.18145 0.37586 -0.28682 0.37289 -0.16185 0.18008 0.3032 -0.13216 0.18352 0.095759 0.094916 0.008289 0.11761 0.34046 0.03677 -0.29077 0.058303 -0.027814 0.082941 0.1862 -0.031494 0.27985 -0.074412 -0.13762 -0.21866 0.18138 0.040855 -0.113 0.24107 0.3657 -0.27525 -0.05684 0.34872 0.011884 0.14517 -0.71395 0.48497 0.14807 0.62287 0.20599 0.58379 -0.13438 0.40207 0.18311 0.28021 -0.42349 -0.25626 0.17715 -0.54095 0.16596 -0.036058 0.08499 -0.64989 0.075549 -0.28831 0.40626 -0.2802 0.094062 0.32406 0.28437 -0.26341 0.11553 0.071918 -0.47215 -0.18366 -0.34709 0.29964 -0.66514 0.002516 -0.42333 0.27512 0.36012 0.16311 0.23964 -0.05923 0.3261 0.20559 0.038677 -0.045816 0.089764 0.43151 -0.15954 0.08532 -0.26572 -0.15001 0.084286 -0.16714 -0.43004 0.060807 0.13121 -0.24112 0.66554 0.4453 -0.18019 -0.13919 0.56252 0.21457 -0.46443 -0.012211 0.029988 -0.051094 -0.20135 0.80788 0.47377 -0.057647 0.46216 0.16084 -0.20954 -0.05452 0.15572 -0.13712 0.12972 -0.011936 -0.003378 -0.13595 -0.080711 0.20065 0.054056 0.046816 0.059539 0.046265 0.17754 -0.31094 0.28119 -0.24355 0.085252 -0.21011 -0.19472 0.0027297 -0.46341 0.14789 -0.31517 -0.065939 0.036106 0.42903 -0.33759 0.16432 0.32568 -0.050392 -0.054297 0.24074 0.41923 0.13012 -0.17167 -0.37808 -0.23089 -0.019477 -0.29291 -0.30824 0.30297 -0.22659 0.081574 -0.18516 -0.21408 0.40616 -0.28974 0.074174 -0.17795 0.28595 -0.039626 -0.2339 -0.36054 -0.067503 -0.091065 0.23438 -0.0041331 0.003232 0.0072134 0.008697 0.21614 0.049904 0.35582 0.13748 0.073361 0.14166 0.2412 -0.013322 0.15613 0.083381 0.088146 -0.019357 0.43795 0.083961 0.45309 -0.50489 -0.10865 -0.2527 -0.18251 0.20441 0.13319 0.1294 0.050594 -0.15612 -0.39543 0.12538 0.24881 -0.1927 -0.31847 -0.12719 0.4341 0.31177 -0.0040946 -0.2094 -0.079961 0.1161 -0.050794 0.015266 -0.2803 -0.12486 0.23587 0.2339 -0.14023 0.028462 0.56923 -0.1649 -0.036429 0.010051 -0.17107 -0.042608 0.044965 -0.4393 -0.26137 0.30088 -0.060772 -0.45312 -0.19076 -0.20288 0.27694 -0.060888 0.11944 0.62206 -0.19343 0.47849 -0.30113 0.059389 0.074901 0.061068 -0.4662 0.40054 -0.19099 -0.14331 0.018267 -0.18643 0.20709 -0.35598 0.05338 -0.050821 -0.1918 -0.37846 -0.06589\n",
      "\n",
      ". 0.012001 0.20751 -0.12578 -0.59325 0.12525 0.15975 0.13748 -0.33157 -0.13694 1.7893 -0.47094 0.70434 0.26673 -0.089961 -0.18168 0.067226 0.053347 1.5595 -0.2541 0.038413 -0.01409 0.056774 0.023434 0.024042 0.31703 0.19025 -0.37505 0.035603 0.1181 0.012032 -0.037566 -0.5046 -0.049261 0.092351 0.11031 -0.073062 0.33994 0.28239 0.13413 0.070128 -0.022099 -0.28103 0.49607 -0.48693 -0.090964 -0.1538 -0.38011 -0.014228 -0.19392 -0.11068 -0.014088 -0.17906 0.24509 -0.16878 -0.15351 -0.13808 0.02151 0.13699 0.0068061 -0.14915 -0.38169 0.12727 0.44007 0.32678 -0.46117 0.068687 0.34747 0.18827 -0.31837 0.4447 -0.2095 -0.26987 0.48945 0.15388 0.05295 -0.049831 0.11207 0.14881 -0.37003 0.30777 -0.33865 0.045149 -0.18987 0.26634 -0.26401 -0.47556 0.68381 -0.30653 0.24606 0.31611 -0.071098 0.030417 0.088119 0.045025 0.20125 -0.21618 -0.36371 -0.25948 -0.42398 -0.14305 -0.10208 0.21498 -0.21924 -0.17935 0.21546 0.13801 0.24504 -0.2559 0.054815 0.21307 0.2564 -0.25673 0.17961 -0.47638 -0.25181 -0.0091498 -0.054362 -0.21007 0.12597 -0.40795 -0.021164 0.20585 0.18925 -0.0051896 -0.51394 0.28862 -0.077748 -0.27676 0.46567 -0.14225 -0.17879 -0.4357 -0.32481 0.15034 -0.058367 0.49652 0.20472 0.019866 0.13326 0.12823 -1.0177 0.29007 0.28995 0.029994 -0.10763 0.28665 -0.24387 0.22905 -0.26249 -0.069269 -0.17889 0.21936 0.15146 0.04567 -0.050497 0.071482 -0.1027 -0.080705 0.30296 0.031302 0.26613 -0.0060951 0.10313 -0.39987 -0.043945 -0.057625 0.08702 -0.098152 0.22835 -0.005211 0.038075 0.01591 -0.20622 0.021853 0.0040426 -0.043063 -0.002294 -0.26097 -0.25802 -0.28158 -0.23118 -0.010404 -0.30102 -0.4042 0.014653 -0.10445 0.30377 -0.20957 0.3119 0.068272 0.1008 0.010423 0.54011 0.29865 0.12653 0.013761 0.21738 -0.39521 0.066633 0.50327 0.14913 -0.11554 0.010042 0.095698 0.16607 -0.18808 0.055019 0.026715 -0.3164 -0.046583 -0.051591 0.023475 -0.11007 0.085642 0.28394 0.040497 0.071986 0.14157 -0.021199 0.44718 0.20088 -0.12964 -0.067183 0.47614 0.13394 -0.17287 -0.37324 -0.17285 0.02683 -0.1316 0.09116 -0.46487 0.1274 -0.090159 -0.10552 0.068006 -0.13381 0.17056 0.089509 -0.23133 -0.27572 0.061534 -0.051646 0.28377 0.25286 -0.24139 -0.19905 0.12049 -0.1011 0.27392 0.27843 0.26449 -0.18292 -0.048961 0.19198 0.17192 0.33659 -0.20184 -0.34305 -0.24553 -0.15399 0.3945 0.22839 -0.25753 -0.25675 -0.37332 -0.23884 -0.048816 0.78323 0.18851 -0.26477 0.096566 0.062658 -0.30668 -0.43334 0.10006 0.21136 0.039459 -0.11077 0.24421 0.60942 -0.46646 0.086385 -0.39702 -0.23363 0.021307 -0.10778 -0.2281 0.50803 0.11567 0.16165 -0.066737 -0.29556 0.022612 -0.28135 0.0635 0.14019 0.13871 -0.36049 -0.035\n",
      "\n",
      "the 0.27204 -0.06203 -0.1884 0.023225 -0.018158 0.0067192 -0.13877 0.17708 0.17709 2.5882 -0.35179 -0.17312 0.43285 -0.10708 0.15006 -0.19982 -0.19093 1.1871 -0.16207 -0.23538 0.003664 -0.19156 -0.085662 0.039199 -0.066449 -0.04209 -0.19122 0.011679 -0.37138 0.21886 0.0011423 0.4319 -0.14205 0.38059 0.30654 0.020167 -0.18316 -0.0065186 -0.0080549 -0.12063 0.027507 0.29839 -0.22896 -0.22882 0.14671 -0.076301 -0.1268 -0.0066651 -0.052795 0.14258 0.1561 0.05551 -0.16149 0.09629 -0.076533 -0.049971 -0.010195 -0.047641 -0.16679 -0.2394 0.0050141 -0.049175 0.013338 0.41923 -0.10104 0.015111 -0.077706 -0.13471 0.119 0.10802 0.21061 -0.051904 0.18527 0.17856 0.041293 -0.014385 -0.082567 -0.035483 -0.076173 -0.045367 0.089281 0.33672 -0.22099 -0.0067275 0.23983 -0.23147 -0.88592 0.091297 -0.012123 0.013233 -0.25799 -0.02972 0.016754 0.01369 0.32377 0.039546 0.042114 -0.088243 0.30318 0.087747 0.16346 -0.40485 -0.043845 -0.040697 0.20936 -0.77795 0.2997 0.2334 0.14891 -0.39037 -0.053086 0.062922 0.065663 -0.13906 0.094193 0.10344 -0.2797 0.28905 -0.32161 0.020687 0.063254 -0.23257 -0.4352 -0.017049 -0.32744 -0.047064 -0.075149 -0.18788 -0.015017 0.029342 -0.3527 -0.044278 -0.13507 -0.11644 -0.1043 0.1392 0.0039199 0.37603 0.067217 -0.37992 -1.1241 -0.057357 -0.16826 0.03941 0.2604 -0.023866 0.17963 0.13553 0.2139 0.052633 -0.25033 -0.11307 0.22234 0.066597 -0.11161 0.062438 -0.27972 0.19878 -0.36262 -1.0006e-05 -0.17262 0.29166 -0.15723 0.054295 0.06101 -0.39165 0.2766 0.057816 0.39709 0.025229 0.24672 -0.08905 0.15683 -0.2096 -0.22196 0.052394 -0.01136 0.050417 -0.14023 -0.042825 -0.031931 -0.21336 -0.20402 -0.23272 0.07449 0.088202 -0.11063 -0.33526 -0.014028 -0.29429 -0.086911 -0.1321 -0.43616 0.20513 0.0079362 0.48505 0.064237 0.14261 -0.43711 0.12783 -0.13111 0.24673 -0.27496 0.15896 0.43314 0.090286 0.24662 0.066463 -0.20099 0.1101 0.03644 0.17359 -0.15689 -0.086328 -0.17316 0.36975 -0.40317 -0.064814 -0.034166 -0.013773 0.062854 -0.17183 -0.12366 -0.034663 -0.22793 -0.23172 0.239 0.27473 0.15332 0.10661 -0.060982 -0.024805 -0.13478 0.17932 -0.37374 -0.02893 -0.11142 -0.08389 -0.055932 0.068039 -0.10783 0.1465 0.094617 -0.084554 0.067429 -0.3291 0.034082 -0.16747 -0.25997 -0.22917 0.020159 -0.02758 0.16136 -0.18538 0.037665 0.57603 0.20684 0.27941 0.16477 -0.018769 0.12062 0.069648 0.059022 -0.23154 0.24095 -0.3471 0.04854 -0.056502 0.41566 -0.43194 0.4823 -0.051759 -0.27285 -0.25893 0.16555 -0.1831 -0.06734 0.42457 0.010346 0.14237 0.25939 0.17123 -0.13821 -0.066846 0.015981 -0.30193 0.043579 -0.043102 0.35025 -0.19681 -0.4281 0.16899 0.22511 -0.28557 -0.1028 -0.018168 0.11407 0.13015 -0.18317 0.1323\n",
      "\n",
      "and -0.18567 0.066008 -0.25209 -0.11725 0.26513 0.064908 0.12291 -0.093979 0.024321 2.4926 -0.017916 -0.071218 -0.24782 -0.26237 -0.2246 -0.21961 -0.12927 1.0867 -0.66072 -0.031617 -0.057328 0.056903 -0.27939 -0.39825 0.14251 -0.085146 -0.14779 0.055067 -0.0028687 -0.20917 -0.070735 0.22577 -0.15881 -0.10395 0.09711 -0.56251 -0.32929 -0.20853 0.0098711 0.049777 0.0014883 0.15884 0.042771 -0.0026956 -0.02462 -0.19213 -0.22556 0.10838 0.090086 -0.13291 0.32559 -0.17038 -0.1099 -0.23986 -0.024289 0.014656 -0.237 0.084828 -0.35982 -0.076746 0.048909 0.11431 -0.21013 0.24765 -0.017531 -0.14028 0.046191 0.22972 0.1175 0.12724 0.012992 0.4587 0.41085 0.039106 0.15713 -0.18376 0.26834 0.056662 0.16844 -0.053788 -0.091892 0.11193 -0.08681 -0.13324 0.15062 -0.31733 -0.22078 0.25038 0.34131 0.36419 -0.089514 -0.22193 0.24471 0.040091 0.47798 -0.029996 0.0019212 0.063511 -0.20417 -0.26478 0.20649 0.015573 -0.27722 -0.18861 -0.10289 -0.49773 0.14986 -0.010877 0.25085 -0.28117 0.18966 -0.065879 0.094753 -0.15338 -0.055071 -0.36747 0.24993 0.096527 0.23538 0.18405 0.052859 0.22967 0.12582 0.15536 -0.17275 0.33946 -0.10049 0.074948 -0.093575 -0.04049 -0.016922 -0.0058039 -0.18108 0.19537 0.45178 0.10965 0.2337 -0.09905 -0.078633 0.21678 -0.71231 -0.099759 0.33333 -0.1646 -0.091688 0.21056 0.023669 0.028922 0.1199 -0.12512 -0.026037 -0.062217 0.55816 0.0050273 -0.30888 0.038611 0.17568 -0.11163 -0.10815 -0.19444 0.29433 0.14519 -0.042878 0.18534 0.018891 -0.61883 0.13352 0.036007 0.33995 0.22109 -0.079328 0.071319 0.17678 0.16378 -0.23142 -0.1434 -0.098122 -0.019286 0.2356 -0.34013 -0.061007 -0.23208 -0.31152 0.10063 -0.15957 0.20183 -0.016345 -0.12303 0.022667 -0.20986 -0.20127 -0.087883 0.064731 0.10195 -0.1786 0.33056 0.21407 -0.32165 -0.17106 0.19407 -0.38618 -0.2148 -0.052254 0.023175 0.47389 0.18612 0.12711 0.20855 -0.10256 -0.12016 -0.40488 0.029695 -0.027419 -0.0085227 -0.11415 0.081134 -0.17228 0.19142 0.026514 0.043789 -0.12399 0.13354 0.10112 0.081682 -0.15085 0.0075806 -0.18971 0.24669 0.22491 0.35553 -0.3277 -0.21821 0.1402 0.28604 0.055226 -0.086544 0.02111 -0.19236 0.074245 0.076782 0.00081666 0.034097 -0.57719 0.10657 0.28134 -0.11964 -0.68281 -0.32893 -0.24442 -0.025847 0.0091273 0.2025 -0.050959 -0.11042 0.010962 0.076773 0.40048 -0.40739 -0.44773 0.31954 -0.036326 -0.012789 -0.17282 0.1476 0.2356 0.080642 -0.36528 -0.0083443 0.6239 -0.24379 0.019917 -0.28803 -0.010494 0.038412 -0.11718 -0.072462 0.16381 0.38488 -0.029783 0.23444 0.4532 0.14815 -0.027021 -0.073181 -0.1147 -0.0054545 0.47796 0.090912 0.094489 -0.36882 -0.59396 -0.097729 0.20072 0.17055 -0.0047356 -0.039709 0.32498 -0.023452 0.12302 0.3312\n",
      "\n"
     ]
    }
   ],
   "source": [
    "# Exercise: Print the first 4 lines of the files that you downloaded.\n",
    "# What do you see?\n",
    "with open(\"glove.840B.300d.sst.txt\", \"r\", encoding=\"utf-8\") as f:\n",
    "    for _ in range(4):\n",
    "        print(f.readline())"
   ]
  },
  {
   "cell_type": "markdown",
   "metadata": {},
   "source": [
    "Louis Note: We see the tokens (',' , '.', 'the', 'and') along with their respective embeddings"
   ]
  },
  {
   "cell_type": "markdown",
   "metadata": {
    "id": "WIVCkUkE_IjR"
   },
   "source": [
    "#### Exercise: New Vocabulary\n",
    "\n",
    "Since we now use pre-trained word embeddings, we need to create a new vocabulary.\n",
    "This is because of two reasons:\n",
    "\n",
    "1. We do not have pre-trained word embeddings for all words in our SST training set, and we do not want words in our vocabulary for which we have no word embeddings.\n",
    "2. We should be able to look up the pre-trained word embedding for words in the validation and test set, even if these words are unseen in training.\n",
    "\n",
    "Now, create a new vocabulary object `v` based on the word set of pre-trained embeddings, and load the corresponding embeddings into a list `vectors`.\n",
    "\n",
    "The vocabulary `v` should consist of:\n",
    " - a  `<unk>` token at position 0,\n",
    " - a  `<pad>` token at position 1,\n",
    " - and then all words in the pre-trained embedding set.\n",
    "\n",
    "\n",
    "After storing each vector in a list `vectors`, turn the list into a numpy matrix like this:\n",
    "```python\n",
    " vectors = np.stack(vectors, axis=0)\n",
    "```\n",
    "\n",
    "Remember to add new embeddings for the `<unk>` and `<pad>` tokens, as they're not part of the word2vec/GloVe embeddings. These embeddings can be randomly initialized or 0-valued, think about what makes sense and see what the effects are.\n"
   ]
  },
  {
   "cell_type": "code",
   "execution_count": 51,
   "metadata": {
    "id": "ITyyCvDnCL4U"
   },
   "outputs": [],
   "source": [
    "# YOUR CODE HERE\n",
    "\n",
    "glove_file = \"glove.840B.300d.sst.txt\"\n",
    "word_set = set()\n",
    "\n",
    "with open(glove_file, \"r\", encoding=\"utf-8\") as f:\n",
    "    for line in f:\n",
    "        word = line.split()[0]\n",
    "        word_set.add(word)\n",
    "\n",
    "v = Vocabulary()\n",
    "vectors = []\n",
    "\n",
    "# Add <unk> and <pad> tokens\n",
    "v.add_token(\"<unk>\")\n",
    "v.add_token(\"<pad>\")\n",
    "vectors.append(np.random.randn(300))  # Random vector for <unk>\n",
    "vectors.append(np.zeros(300))  # Zero vector for <pad>\n",
    "\n",
    "# Read the GloVe file and add words to the vocabulary and vectors list\n",
    "with open(glove_file, \"r\", encoding=\"utf-8\") as f:\n",
    "  for line in f:\n",
    "    parts = line.strip().split()\n",
    "    word = parts[0]\n",
    "    if word in word_set:\n",
    "      vector = np.array(parts[1:], dtype=np.float32)\n",
    "      v.add_token(word)\n",
    "      vectors.append(vector)\n",
    "\n",
    "# Convert vectors list to a numpy array\n",
    "vectors = np.stack(vectors, axis=0)"
   ]
  },
  {
   "cell_type": "markdown",
   "metadata": {
    "id": "xC-7mRyYNG9b"
   },
   "source": [
    "#### Exercise: words not in our pre-trained set\n",
    "\n",
    "How many words in the training, dev, and test set are also in your vector set?\n",
    "How many words are not there?\n",
    "\n",
    "Store the words that are not in the word vector set in the set below."
   ]
  },
  {
   "cell_type": "code",
   "execution_count": 52,
   "metadata": {
    "id": "K6MA3-wF_X5M"
   },
   "outputs": [
    {
     "name": "stdout",
     "output_type": "stream",
     "text": [
      "Number of words not found: 3861\n"
     ]
    }
   ],
   "source": [
    "words_not_found = set()\n",
    "# YOUR CODE HERE\n",
    "for data_set in (train_data, dev_data, test_data):\n",
    "    for example in data_set:\n",
    "        for token in example.tokens:\n",
    "            if token.lower() not in v.w2i: # Use lower or not?\n",
    "                words_not_found.add(token.lower())\n",
    "\n",
    "print(\"Number of words not found:\", len(words_not_found))"
   ]
  },
  {
   "cell_type": "markdown",
   "metadata": {
    "id": "BfEd38W0NnAI"
   },
   "source": [
    "#### Exercise: train Deep CBOW with (fixed) pre-trained embeddings\n",
    "\n",
    "Now train Deep CBOW again using the pre-trained word vectors.\n"
   ]
  },
  {
   "cell_type": "code",
   "execution_count": 53,
   "metadata": {
    "id": "z_6ooqgEsB20"
   },
   "outputs": [],
   "source": [
    "# We define a new class that inherits from DeepCBOW.\n",
    "class PTDeepCBOW(DeepCBOW):\n",
    "  def __init__(self, vocab_size, embedding_dim, hidden_dim, output_dim, vocab):\n",
    "    super(PTDeepCBOW, self).__init__(\n",
    "        vocab_size, embedding_dim, hidden_dim, output_dim, vocab)"
   ]
  },
  {
   "cell_type": "code",
   "execution_count": 54,
   "metadata": {
    "id": "JfIh4Ni6yuAh"
   },
   "outputs": [
    {
     "name": "stdout",
     "output_type": "stream",
     "text": [
      "Shuffling training data\n",
      "Iter 1000: loss=1512.5655, time=0.40s\n",
      "iter 1000: dev acc=0.3597\n",
      "new highscore\n",
      "Iter 2000: loss=1365.1080, time=0.90s\n",
      "iter 2000: dev acc=0.3624\n",
      "new highscore\n",
      "Iter 3000: loss=1368.4947, time=1.40s\n",
      "iter 3000: dev acc=0.3842\n",
      "new highscore\n",
      "Iter 4000: loss=1345.9023, time=1.89s\n",
      "iter 4000: dev acc=0.3669\n",
      "Iter 5000: loss=1375.2963, time=2.36s\n",
      "iter 5000: dev acc=0.3933\n",
      "new highscore\n",
      "Iter 6000: loss=1348.2857, time=2.84s\n",
      "iter 6000: dev acc=0.3479\n",
      "Iter 7000: loss=1333.4191, time=3.27s\n",
      "iter 7000: dev acc=0.3878\n",
      "Iter 8000: loss=1327.0626, time=3.69s\n",
      "iter 8000: dev acc=0.3869\n",
      "Shuffling training data\n",
      "Iter 9000: loss=1298.0416, time=4.12s\n",
      "iter 9000: dev acc=0.3951\n",
      "new highscore\n",
      "Iter 10000: loss=1320.9412, time=4.57s\n",
      "iter 10000: dev acc=0.3960\n",
      "new highscore\n",
      "Done training\n",
      "Loading best model\n"
     ]
    },
    {
     "name": "stderr",
     "output_type": "stream",
     "text": [
      "/var/folders/nn/3ytl4vrn4ln2fzrpggw5l8300000gn/T/ipykernel_64685/3291092230.py:91: FutureWarning: You are using `torch.load` with `weights_only=False` (the current default value), which uses the default pickle module implicitly. It is possible to construct malicious pickle data which will execute arbitrary code during unpickling (See https://github.com/pytorch/pytorch/blob/main/SECURITY.md#untrusted-models for more details). In a future release, the default value for `weights_only` will be flipped to `True`. This limits the functions that could be executed during unpickling. Arbitrary objects will no longer be allowed to be loaded via this mode unless they are explicitly allowlisted by the user via `torch.serialization.add_safe_globals`. We recommend you start setting `weights_only=True` for any use case where you don't have full control of the loaded file. Please open an issue on GitHub for any issues related to this experimental feature.\n",
      "  ckpt = torch.load(path)\n"
     ]
    },
    {
     "name": "stdout",
     "output_type": "stream",
     "text": [
      "best model iter 10000: train acc=0.4175, dev acc=0.3960, test acc=0.4290\n"
     ]
    }
   ],
   "source": [
    "# Create a Deep CBOW model with pre-trained embeddings\n",
    "# YOUR CODE HERE\n",
    "pt_deep_cbow_model = DeepCBOW(len(v.w2i), 300, output_dim=len(t2i), vocab=v)\n",
    "\n",
    "# copy pre-trained word vectors into embeddings table\n",
    "pt_deep_cbow_model.embed.weight.data.copy_(torch.from_numpy(vectors))\n",
    "\n",
    "# disable training the pre-trained embeddings\n",
    "pt_deep_cbow_model.embed.weight.requires_grad = False\n",
    "\n",
    "# move model to specified device\n",
    "pt_deep_cbow_model = pt_deep_cbow_model.to(device)\n",
    "\n",
    "# train the model\n",
    "# YOUR CODE HERE\n",
    "optimizer = optim.Adam(pt_deep_cbow_model.parameters(), lr=0.0005)\n",
    "pt_deep_cbow_losses, pt_deep_cbow_accuracies = train_model(\n",
    "    pt_deep_cbow_model, optimizer, num_iterations=10000,\n",
    "    print_every=1000, eval_every=1000)\n"
   ]
  },
  {
   "cell_type": "code",
   "execution_count": 55,
   "metadata": {
    "id": "Ufujv3x31ufD"
   },
   "outputs": [
    {
     "data": {
      "text/plain": [
       "[<matplotlib.lines.Line2D at 0x12b0e25a0>]"
      ]
     },
     "execution_count": 55,
     "metadata": {},
     "output_type": "execute_result"
    },
    {
     "data": {
      "image/png": "[encoded data removed]",
      "text/plain": [
       "<Figure size 640x480 with 1 Axes>"
      ]
     },
     "metadata": {},
     "output_type": "display_data"
    }
   ],
   "source": [
    "# plot dev accuracies\n",
    "plt.plot(pt_deep_cbow_accuracies)"
   ]
  },
  {
   "cell_type": "code",
   "execution_count": 56,
   "metadata": {
    "id": "YTJtKBzd7Qjr"
   },
   "outputs": [
    {
     "data": {
      "text/plain": [
       "[<matplotlib.lines.Line2D at 0x12af243e0>]"
      ]
     },
     "execution_count": 56,
     "metadata": {},
     "output_type": "execute_result"
    },
    {
     "data": {
      "image/png": "[encoded data removed]",
      "text/plain": [
       "<Figure size 640x480 with 1 Axes>"
      ]
     },
     "metadata": {},
     "output_type": "display_data"
    }
   ],
   "source": [
    "# plot train loss\n",
    "plt.plot(pt_deep_cbow_losses)"
   ]
  },
  {
   "cell_type": "markdown",
   "metadata": {
    "id": "yFu8xzCy9XDW"
   },
   "source": [
    "**It looks like we've hit what is possible with just using words.**\n",
    "Let's move on by incorporating word order!"
   ]
  },
  {
   "cell_type": "markdown",
   "metadata": {
    "id": "g41yW4PL9jG0"
   },
   "source": [
    "# LSTM"
   ]
  },
  {
   "cell_type": "markdown",
   "metadata": {
    "id": "ODzXEH0MaGpa"
   },
   "source": [
    "It is time to get more serious. Even with pre-trained word embeddings and multiple layers, we still seem to do pretty badly at sentiment classification.\n",
    "The next step we can take is to introduce word order again, dropping our independence assumptions. In this way, we can get a representation of the sentence as an ordered set of tokens.\n",
    "\n",
    "We will get this representation using a **Long Short-Term Memory** (LSTM). As an exercise, we will code our own LSTM cell, so that we get comfortable with its inner workings.\n",
    "Once we have an LSTM cell, we can call it repeatedly, updating its hidden state one word at a time:\n",
    "\n",
    "```python\n",
    "rnn = MyLSTMCell(input_size, hidden_size)\n",
    "\n",
    "hx = torch.zeros(1, hidden_size)  # initial hidden state\n",
    "cx = torch.zeros(1, hidden_size)  # initial memory cell\n",
    "output = []                       # to save intermediate LSTM states\n",
    "\n",
    "# feed one word at a time\n",
    "for i in range(n_timesteps):\n",
    "  hx, cx = rnn(input[i], (hx, cx))\n",
    "  output.append(hx)\n",
    "```\n",
    "\n",
    "If you need some more help understanding LSTMs, you can check out these resources:\n",
    "- Blog post (highly recommended): http://colah.github.io/posts/2015-08-Understanding-LSTMs/\n",
    "- Paper covering LSTM formulas in detail: https://arxiv.org/abs/1503.04069\n"
   ]
  },
  {
   "cell_type": "markdown",
   "metadata": {
    "id": "v9f4b45BXKFC"
   },
   "source": [
    "#### Exercise: Finish the LSTM cell below.\n",
    "You will need to implement the LSTM formulas:\n",
    "\n",
    "$$\n",
    "\\begin{array}{ll}\n",
    "        i = \\sigma(W_{ii} x + b_{ii} + W_{hi} h + b_{hi}) \\\\\n",
    "        f = \\sigma(W_{if} x + b_{if} + W_{hf} h + b_{hf}) \\\\\n",
    "        g = \\tanh(W_{ig} x + b_{ig} + W_{hg} h + b_{hg}) \\\\\n",
    "        o = \\sigma(W_{io} x + b_{io} + W_{ho} h + b_{ho}) \\\\\n",
    "        c' = f * c + i * g \\\\\n",
    "        h' = o \\tanh(c') \\\\\n",
    "\\end{array}\n",
    " $$\n",
    "\n",
    "where $\\sigma$ is the sigmoid function.\n",
    "\n",
    "*Note that the LSTM formulas can differ slightly between different papers. We use the PyTorch LSTM formulation here.*"
   ]
  },
  {
   "cell_type": "code",
   "execution_count": 57,
   "metadata": {
    "id": "zJ9m5kLMd7-v"
   },
   "outputs": [],
   "source": [
    "class MyLSTMCell(nn.Module):\n",
    "  \"\"\"Our own LSTM cell\"\"\"\n",
    "\n",
    "  def __init__(self, input_size, hidden_size, bias=True):\n",
    "    \"\"\"Creates the weights for this LSTM\"\"\"\n",
    "    super(MyLSTMCell, self).__init__()\n",
    "\n",
    "    self.input_size = input_size\n",
    "    self.hidden_size = hidden_size\n",
    "    self.bias = bias\n",
    "\n",
    "    # YOUR CODE HERE\n",
    "    self.ii = nn.Linear(input_size, hidden_size, bias=True)\n",
    "    self.hi = nn.Linear(hidden_size, hidden_size, bias=True)\n",
    "\n",
    "    self.if_ = nn.Linear(input_size, hidden_size, bias=True)\n",
    "    self.hf = nn.Linear(hidden_size, hidden_size, bias=True)\n",
    "    \n",
    "    self.ig = nn.Linear(input_size, hidden_size, bias=True)\n",
    "    self.hg = nn.Linear(hidden_size, hidden_size, bias=True)\n",
    "\n",
    "    self.io = nn.Linear(input_size, hidden_size, bias=True)\n",
    "    self.ho = nn.Linear(hidden_size, hidden_size, bias=True)\n",
    "\n",
    "    self.reset_parameters()\n",
    "\n",
    "  def reset_parameters(self):\n",
    "    \"\"\"This is PyTorch's default initialization method\"\"\"\n",
    "    stdv = 1.0 / math.sqrt(self.hidden_size)\n",
    "    for weight in self.parameters():\n",
    "      weight.data.uniform_(-stdv, stdv)\n",
    "\n",
    "  def forward(self, input_, hx, mask=None):\n",
    "    \"\"\"\n",
    "    input is (batch, input_size)\n",
    "    hx is ((batch, hidden_size), (batch, hidden_size))\n",
    "    \"\"\"\n",
    "    prev_h, prev_c = hx\n",
    "\n",
    "    # project input and prev state\n",
    "    # YOUR CODE HERE\n",
    "\n",
    "    # main LSTM computation\n",
    "    i = torch.sigmoid(self.ii(input_) + self.hi(prev_h))\n",
    "    f = torch.sigmoid(self.if_(input_) + self.hf(prev_h))\n",
    "    g = torch.tanh(self.ig(input_) + self.hg(prev_h))\n",
    "    o = torch.sigmoid(self.io(input_) + self.ho(prev_h))\n",
    "\n",
    "    c = f * prev_c + g * i\n",
    "    h = o * torch.tanh(c)\n",
    "\n",
    "    if mask is not None:\n",
    "      h = h * mask\n",
    "\n",
    "    return h, c\n",
    "\n",
    "  def __repr__(self):\n",
    "    return \"{}({:d}, {:d})\".format(\n",
    "        self.__class__.__name__, self.input_size, self.hidden_size)"
   ]
  },
  {
   "cell_type": "markdown",
   "metadata": {
    "id": "4JM7xPhkQeE5"
   },
   "source": [
    "#### Optional: Efficient Matrix Multiplication\n",
    "\n",
    "It is more efficient to do a few big matrix multiplications than to do many smaller ones. So we will implement the above cell using just **two** linear layers.\n",
    "\n",
    "This is possible because the eight linear transformations contained in one forward pass through an LSTM cell can be reduced to just two:\n",
    "$$W_h h + b_h$$\n",
    "$$W_i x + b_i $$\n",
    "\n",
    "with $h = $ `prev_h` and $x = $ `input_`.\n",
    "\n",
    "and where:\n",
    "\n",
    "$W_h =  \\begin{pmatrix}\n",
    "W_{hi}\\\\\n",
    "W_{hf}\\\\\n",
    "W_{hg}\\\\\n",
    "W_{ho}\n",
    "\\end{pmatrix}$, $b_h = \\begin{pmatrix}\n",
    "b_{hi}\\\\\n",
    "b_{hf}\\\\\n",
    "b_{hg}\\\\\n",
    "b_{ho}\n",
    "\\end{pmatrix}$,  $W_i = \\begin{pmatrix}\n",
    "W_{ii}\\\\\n",
    "W_{if}\\\\\n",
    "W_{ig}\\\\\n",
    "W_{io}\n",
    "\\end{pmatrix}$ and $b_i = \\begin{pmatrix}\n",
    "b_{ii}\\\\\n",
    "b_{if}\\\\\n",
    "b_{ig}\\\\\n",
    "b_{io}\n",
    "\\end{pmatrix}$.\n",
    "\n",
    "Convince yourself that, after chunking with [torch.chunk](https://pytorch.org/docs/stable/torch.html?highlight=chunk#torch.chunk), the output of those two linear transformations is equivalent to the output of the eight linear transformations in the LSTM cell calculations above."
   ]
  },
  {
   "cell_type": "markdown",
   "metadata": {
    "id": "X9gA-UcqSBe0"
   },
   "source": [
    "#### LSTM Classifier\n",
    "\n",
    "Having an LSTM cell is not enough: we still need some code that calls it repeatedly, and then makes a prediction from the final hidden state.\n",
    "You will find that code below. Make sure that you understand it."
   ]
  },
  {
   "cell_type": "code",
   "execution_count": 58,
   "metadata": {
    "id": "3iuYZm5poEn5"
   },
   "outputs": [],
   "source": [
    "class LSTMClassifier(nn.Module):\n",
    "  \"\"\"Encodes sentence with an LSTM and projects final hidden state\"\"\"\n",
    "\n",
    "  def __init__(self, vocab_size, embedding_dim, hidden_dim, output_dim, vocab):\n",
    "    super(LSTMClassifier, self).__init__()\n",
    "    self.vocab = vocab\n",
    "    self.hidden_dim = hidden_dim\n",
    "    self.embed = nn.Embedding(vocab_size, embedding_dim, padding_idx=1)\n",
    "    self.rnn = MyLSTMCell(embedding_dim, hidden_dim)\n",
    "\n",
    "    self.output_layer = nn.Sequential(\n",
    "        nn.Dropout(p=0.5),  # explained later\n",
    "        nn.Linear(hidden_dim, output_dim)\n",
    "    )\n",
    "\n",
    "  def forward(self, x):\n",
    "\n",
    "    B = x.size(0)  # batch size (this is 1 for now, i.e. 1 single example)\n",
    "    T = x.size(1)  # timesteps (the number of words in the sentence)\n",
    "\n",
    "    input_ = self.embed(x)\n",
    "\n",
    "    # here we create initial hidden states containing zeros\n",
    "    # we use a trick here so that, if input is on the GPU, then so are hx and cx\n",
    "    hx = input_.new_zeros(B, self.rnn.hidden_size)\n",
    "    cx = input_.new_zeros(B, self.rnn.hidden_size)\n",
    "\n",
    "    # process input sentences one word/timestep at a time\n",
    "    # input is batch-major (i.e., batch size is the first dimension)\n",
    "    # so the first word(s) is (are) input_[:, 0]\n",
    "    outputs = []\n",
    "    for i in range(T):\n",
    "      hx, cx = self.rnn(input_[:, i], (hx, cx))\n",
    "      outputs.append(hx)\n",
    "\n",
    "    # if we have a single example, our final LSTM state is the last hx\n",
    "    if B == 1:\n",
    "      final = hx\n",
    "    else:\n",
    "      #\n",
    "      # This part is explained in next section, ignore this else-block for now.\n",
    "      #\n",
    "      # We processed sentences with different lengths, so some of the sentences\n",
    "      # had already finished and we have been adding padding inputs to hx.\n",
    "      # We select the final state based on the length of each sentence.\n",
    "\n",
    "      # two lines below not needed if using LSTM from pytorch\n",
    "      outputs = torch.stack(outputs, dim=0)           # [T, B, D]\n",
    "      outputs = outputs.transpose(0, 1).contiguous()  # [B, T, D]\n",
    "\n",
    "      # to be super-sure we're not accidentally indexing the wrong state\n",
    "      # we zero out positions that are invalid\n",
    "      pad_positions = (x == 1).unsqueeze(-1)\n",
    "\n",
    "      outputs = outputs.contiguous()\n",
    "      outputs = outputs.masked_fill_(pad_positions, 0.)\n",
    "\n",
    "      mask = (x != 1)  # true for valid positions [B, T]\n",
    "      lengths = mask.sum(dim=1)                 # [B, 1]\n",
    "\n",
    "      indexes = (lengths - 1) + torch.arange(B, device=x.device, dtype=x.dtype) * T\n",
    "      final = outputs.view(-1, self.hidden_dim)[indexes]  # [B, D]\n",
    "\n",
    "    # we use the last hidden state to classify the sentence\n",
    "    logits = self.output_layer(final)\n",
    "    return logits"
   ]
  },
  {
   "cell_type": "markdown",
   "metadata": {
    "id": "FxFoVpvMPB6g"
   },
   "source": [
    "#### Dropout\n",
    "\n",
    "Data sparsity and a small data set can cause *overfitting*. This is a phenomenom that is very likely to occur when training strong and expressive models, like LSTMs, on small data. In practice, if your model overfits, this means that it will be very good at predicting (or \"remembering\") the sentiment of the training set, but unable to generalise to new, unseen data in the test set. This is undesirable and one technique to mitigate this issue is *dropout*.\n",
    "\n",
    "A dropout layer is defined by the following formula, which can be applied, for example, to a linear layer:\n",
    "\n",
    "$$\\text{tanh}(W(\\mathbf{h}\\odot \\mathbf{d}) + \\mathbf{b})$$\n",
    "\n",
    "where $\\mathbf{d} \\in \\{0, 1\\}^n$, with $d_j \\sim \\text{Bernoulli}(p)$,\n",
    "\n",
    "These formula simply means that we *drop* certain parameters during training (by setting them to zero). Which parameters we drop is stochastically determined by a Bernoulli distribution and the probability of each parameter being dropped is set to $p = 0.5$ in our experiments (see the previous cell of code where we define our output layer). A dropout layer can be applied at many different places in our models. This technique helps against the undesirable effect that a model relies on single parameters for prediction (e.g. if $h^{\\prime}_j$ is large, always predict positive). If we use dropout, the model needs to learn to rely on different parameters, which is desirable to obtain better generalisation to unseen data."
   ]
  },
  {
   "cell_type": "markdown",
   "metadata": {
    "id": "XQjEjLt9z0XW"
   },
   "source": [
    "**Let's train our LSTM!** Note that is will be a lot slower than previous models because we need to do many more computations per sentence.\n",
    "\n",
    "#### Training"
   ]
  },
  {
   "cell_type": "code",
   "execution_count": 59,
   "metadata": {
    "id": "LgZoSPD4fsf_"
   },
   "outputs": [
    {
     "name": "stdout",
     "output_type": "stream",
     "text": [
      "LSTMClassifier(\n",
      "  (embed): Embedding(20727, 300, padding_idx=1)\n",
      "  (rnn): MyLSTMCell(300, 168)\n",
      "  (output_layer): Sequential(\n",
      "    (0): Dropout(p=0.5, inplace=False)\n",
      "    (1): Linear(in_features=168, out_features=5, bias=True)\n",
      "  )\n",
      ")\n",
      "embed.weight             [20727, 300] requires_grad=False\n",
      "rnn.ii.weight            [168, 300]   requires_grad=True\n",
      "rnn.ii.bias              [168]        requires_grad=True\n",
      "rnn.hi.weight            [168, 168]   requires_grad=True\n",
      "rnn.hi.bias              [168]        requires_grad=True\n",
      "rnn.if_.weight           [168, 300]   requires_grad=True\n",
      "rnn.if_.bias             [168]        requires_grad=True\n",
      "rnn.hf.weight            [168, 168]   requires_grad=True\n",
      "rnn.hf.bias              [168]        requires_grad=True\n",
      "rnn.ig.weight            [168, 300]   requires_grad=True\n",
      "rnn.ig.bias              [168]        requires_grad=True\n",
      "rnn.hg.weight            [168, 168]   requires_grad=True\n",
      "rnn.hg.bias              [168]        requires_grad=True\n",
      "rnn.io.weight            [168, 300]   requires_grad=True\n",
      "rnn.io.bias              [168]        requires_grad=True\n",
      "rnn.ho.weight            [168, 168]   requires_grad=True\n",
      "rnn.ho.bias              [168]        requires_grad=True\n",
      "output_layer.1.weight    [5, 168]     requires_grad=True\n",
      "output_layer.1.bias      [5]          requires_grad=True\n",
      "\n",
      "Total number of parameters: 6534785\n",
      "\n",
      "Shuffling training data\n",
      "Iter 250: loss=394.9375, time=2.65s\n",
      "Iter 500: loss=385.4616, time=5.20s\n",
      "Iter 750: loss=389.0042, time=7.52s\n",
      "Iter 1000: loss=380.0763, time=10.00s\n",
      "iter 1000: dev acc=0.3642\n",
      "new highscore\n",
      "Iter 1250: loss=366.6766, time=13.72s\n",
      "Iter 1500: loss=367.0749, time=16.12s\n",
      "Iter 1750: loss=352.8153, time=18.56s\n",
      "Iter 2000: loss=357.5701, time=21.05s\n",
      "iter 2000: dev acc=0.3842\n",
      "new highscore\n",
      "Iter 2250: loss=366.4103, time=24.65s\n",
      "Iter 2500: loss=337.3323, time=27.10s\n",
      "Iter 2750: loss=354.6873, time=29.71s\n",
      "Iter 3000: loss=345.9830, time=32.11s\n",
      "iter 3000: dev acc=0.3760\n",
      "Iter 3250: loss=319.3493, time=35.71s\n",
      "Iter 3500: loss=357.9597, time=38.17s\n",
      "Iter 3750: loss=350.2980, time=40.75s\n",
      "Iter 4000: loss=344.9772, time=43.20s\n",
      "iter 4000: dev acc=0.4205\n",
      "new highscore\n",
      "Iter 4250: loss=342.7490, time=47.23s\n",
      "Iter 4500: loss=338.9951, time=49.77s\n",
      "Iter 4750: loss=344.2824, time=52.16s\n",
      "Iter 5000: loss=329.9922, time=54.57s\n",
      "iter 5000: dev acc=0.3978\n",
      "Iter 5250: loss=358.6853, time=58.42s\n",
      "Iter 5500: loss=332.9350, time=60.75s\n",
      "Iter 5750: loss=342.2784, time=63.21s\n",
      "Iter 6000: loss=328.6752, time=65.74s\n",
      "iter 6000: dev acc=0.4051\n",
      "Iter 6250: loss=324.1168, time=69.42s\n",
      "Iter 6500: loss=332.2600, time=71.88s\n",
      "Iter 6750: loss=330.0979, time=74.39s\n",
      "Iter 7000: loss=319.1622, time=76.88s\n",
      "iter 7000: dev acc=0.4269\n",
      "new highscore\n",
      "Iter 7250: loss=336.9338, time=80.75s\n",
      "Iter 7500: loss=331.5235, time=83.27s\n",
      "Iter 7750: loss=332.3497, time=86.04s\n",
      "Iter 8000: loss=335.7808, time=89.17s\n",
      "iter 8000: dev acc=0.4278\n",
      "new highscore\n",
      "Iter 8250: loss=323.0313, time=94.10s\n",
      "Iter 8500: loss=331.9404, time=97.08s\n",
      "Shuffling training data\n",
      "Iter 8750: loss=319.7878, time=99.92s\n",
      "Iter 9000: loss=309.9458, time=102.74s\n",
      "iter 9000: dev acc=0.4133\n",
      "Iter 9250: loss=307.8583, time=106.84s\n",
      "Iter 9500: loss=302.8615, time=109.99s\n",
      "Iter 9750: loss=322.7521, time=112.72s\n",
      "Iter 10000: loss=319.8400, time=115.63s\n",
      "iter 10000: dev acc=0.4151\n",
      "Iter 10250: loss=327.4084, time=119.87s\n",
      "Iter 10500: loss=319.9280, time=122.83s\n",
      "Iter 10750: loss=312.8858, time=125.79s\n",
      "Iter 11000: loss=327.8396, time=128.65s\n",
      "iter 11000: dev acc=0.4178\n",
      "Iter 11250: loss=332.4802, time=132.96s\n",
      "Iter 11500: loss=330.9331, time=135.96s\n",
      "Iter 11750: loss=319.4079, time=138.57s\n",
      "Iter 12000: loss=319.8634, time=141.34s\n",
      "iter 12000: dev acc=0.4342\n",
      "new highscore\n",
      "Iter 12250: loss=327.1509, time=145.89s\n",
      "Iter 12500: loss=311.3508, time=148.89s\n",
      "Iter 12750: loss=312.9840, time=151.63s\n",
      "Iter 13000: loss=308.8304, time=154.41s\n",
      "iter 13000: dev acc=0.4178\n",
      "Iter 13250: loss=312.1063, time=158.74s\n",
      "Iter 13500: loss=321.1437, time=161.82s\n",
      "Iter 13750: loss=299.4055, time=164.67s\n",
      "Iter 14000: loss=305.8409, time=167.54s\n",
      "iter 14000: dev acc=0.4251\n",
      "Iter 14250: loss=294.4265, time=171.62s\n",
      "Iter 14500: loss=304.8649, time=174.30s\n",
      "Iter 14750: loss=310.1830, time=176.91s\n",
      "Iter 15000: loss=310.5069, time=179.64s\n",
      "iter 15000: dev acc=0.4396\n",
      "new highscore\n",
      "Iter 15250: loss=319.9515, time=184.06s\n",
      "Iter 15500: loss=299.2972, time=186.57s\n",
      "Iter 15750: loss=299.0696, time=189.04s\n",
      "Iter 16000: loss=330.8787, time=191.62s\n",
      "iter 16000: dev acc=0.4269\n",
      "Iter 16250: loss=321.6790, time=195.52s\n",
      "Iter 16500: loss=312.3358, time=198.12s\n",
      "Iter 16750: loss=307.8978, time=200.73s\n",
      "Iter 17000: loss=309.6429, time=203.13s\n",
      "iter 17000: dev acc=0.4342\n",
      "Shuffling training data\n",
      "Iter 17250: loss=309.9278, time=206.88s\n",
      "Iter 17500: loss=312.8141, time=209.55s\n",
      "Iter 17750: loss=289.9973, time=211.93s\n",
      "Iter 18000: loss=280.9624, time=214.45s\n",
      "iter 18000: dev acc=0.4550\n",
      "new highscore\n",
      "Iter 18250: loss=286.5204, time=218.35s\n",
      "Iter 18500: loss=316.9340, time=220.88s\n",
      "Iter 18750: loss=303.2203, time=223.29s\n",
      "Iter 19000: loss=314.3460, time=225.74s\n",
      "iter 19000: dev acc=0.4487\n",
      "Iter 19250: loss=304.2650, time=229.42s\n",
      "Iter 19500: loss=283.1086, time=232.03s\n",
      "Iter 19750: loss=279.9052, time=234.51s\n",
      "Iter 20000: loss=306.3202, time=236.89s\n",
      "iter 20000: dev acc=0.4260\n",
      "Iter 20250: loss=310.4379, time=240.52s\n",
      "Iter 20500: loss=286.5347, time=242.93s\n",
      "Iter 20750: loss=289.4173, time=245.40s\n",
      "Iter 21000: loss=303.0005, time=247.86s\n",
      "iter 21000: dev acc=0.4559\n",
      "new highscore\n",
      "Iter 21250: loss=305.4142, time=251.60s\n",
      "Iter 21500: loss=305.5415, time=254.18s\n",
      "Iter 21750: loss=304.8965, time=256.55s\n",
      "Iter 22000: loss=303.2376, time=259.00s\n",
      "iter 22000: dev acc=0.4523\n",
      "Iter 22250: loss=279.4175, time=262.80s\n",
      "Iter 22500: loss=292.0107, time=265.33s\n",
      "Iter 22750: loss=296.4802, time=267.75s\n",
      "Iter 23000: loss=279.1522, time=270.30s\n",
      "iter 23000: dev acc=0.4541\n",
      "Iter 23250: loss=283.5380, time=273.90s\n",
      "Iter 23500: loss=295.7022, time=276.46s\n",
      "Iter 23750: loss=289.2837, time=279.13s\n",
      "Iter 24000: loss=281.1184, time=281.57s\n",
      "iter 24000: dev acc=0.4659\n",
      "new highscore\n",
      "Iter 24250: loss=291.8258, time=285.34s\n",
      "Iter 24500: loss=273.2988, time=287.70s\n",
      "Iter 24750: loss=316.6440, time=290.05s\n",
      "Iter 25000: loss=285.9906, time=292.45s\n",
      "iter 25000: dev acc=0.4523\n",
      "Done training\n",
      "Loading best model\n"
     ]
    },
    {
     "name": "stderr",
     "output_type": "stream",
     "text": [
      "/var/folders/nn/3ytl4vrn4ln2fzrpggw5l8300000gn/T/ipykernel_64685/3291092230.py:91: FutureWarning: You are using `torch.load` with `weights_only=False` (the current default value), which uses the default pickle module implicitly. It is possible to construct malicious pickle data which will execute arbitrary code during unpickling (See https://github.com/pytorch/pytorch/blob/main/SECURITY.md#untrusted-models for more details). In a future release, the default value for `weights_only` will be flipped to `True`. This limits the functions that could be executed during unpickling. Arbitrary objects will no longer be allowed to be loaded via this mode unless they are explicitly allowlisted by the user via `torch.serialization.add_safe_globals`. We recommend you start setting `weights_only=True` for any use case where you don't have full control of the loaded file. Please open an issue on GitHub for any issues related to this experimental feature.\n",
      "  ckpt = torch.load(path)\n"
     ]
    },
    {
     "name": "stdout",
     "output_type": "stream",
     "text": [
      "best model iter 24000: train acc=0.5447, dev acc=0.4659, test acc=0.4724\n"
     ]
    }
   ],
   "source": [
    "lstm_model = LSTMClassifier(len(v.w2i), 300, 168, len(t2i), v)\n",
    "\n",
    "# copy pre-trained word vectors into embeddings table\n",
    "with torch.no_grad():\n",
    "  lstm_model.embed.weight.data.copy_(torch.from_numpy(vectors))\n",
    "  lstm_model.embed.weight.requires_grad = False\n",
    "\n",
    "print(lstm_model)\n",
    "print_parameters(lstm_model)\n",
    "\n",
    "lstm_model = lstm_model.to(device)\n",
    "optimizer = optim.Adam(lstm_model.parameters(), lr=3e-4)\n",
    "\n",
    "lstm_losses, lstm_accuracies = train_model(\n",
    "    lstm_model, optimizer, num_iterations=25000,\n",
    "    print_every=250, eval_every=1000)"
   ]
  },
  {
   "cell_type": "code",
   "execution_count": 60,
   "metadata": {
    "id": "2BKVnyg0Hq5E"
   },
   "outputs": [
    {
     "data": {
      "image/png": "[encoded data removed]",
      "text/plain": [
       "<Figure size 640x480 with 1 Axes>"
      ]
     },
     "metadata": {},
     "output_type": "display_data"
    }
   ],
   "source": [
    "# plot validation accuracy\n",
    "plt.plot(lstm_accuracies)\n",
    "plt.title(\"LSTM Accuracy\")\n",
    "plt.show()"
   ]
  },
  {
   "cell_type": "code",
   "execution_count": 61,
   "metadata": {
    "id": "ZowTV0EBTb3z"
   },
   "outputs": [
    {
     "data": {
      "image/png": "[encoded data removed]",
      "text/plain": [
       "<Figure size 640x480 with 1 Axes>"
      ]
     },
     "metadata": {},
     "output_type": "display_data"
    }
   ],
   "source": [
    "# plot training loss\n",
    "plt.plot(lstm_losses)\n",
    "plt.title(\"LSTM Training Loss\")\n",
    "plt.show()"
   ]
  },
  {
   "cell_type": "markdown",
   "metadata": {
    "id": "YEw6XHQY_AAQ"
   },
   "source": [
    "# Mini-batching\n",
    "\n"
   ]
  },
  {
   "cell_type": "markdown",
   "metadata": {
    "id": "FPf96wGzBTQJ"
   },
   "source": [
    "**Why is the LSTM so slow?** Despite our best efforts, we still need to make a lot of matrix multiplications per example (linear in the length of the example) just to get a single classification, and we can only process the 2nd word once we have computed the hidden state for the 1st word (sequential computation).\n",
    "\n",
    "GPUs are more efficient if we do a few big matrix multiplications, rather than lots of small ones. If we could process multiple examples at the same time, then we could exploit that. That is, we could still process the input sequentially, but doing so for multiple sentences at the same time.\n",
    "\n",
    "Up to now our \"mini-batches\" consisted of a single example. This was for a reason: the sentences in our data sets have **different lengths**, and this makes it difficult to process them at the same time.\n",
    "\n",
    "Consider a batch of 2 sentences:\n",
    "\n",
    "```\n",
    "this movie is bad\n",
    "this movie is super cool !\n",
    "```\n",
    "\n",
    "Let's say the IDs for these sentences are:\n",
    "\n",
    "```\n",
    "2 3 4 5\n",
    "2 3 4 6 7 8\n",
    "```\n",
    "\n",
    "We cannot feed PyTorch an object with rows of variable length! We need to turn this into a matrix.\n",
    "\n",
    "The solution is to add **padding values** to our mini-batch:\n",
    "\n",
    "```\n",
    "2 3 4 5 1 1\n",
    "2 3 4 6 7 8\n",
    "```\n",
    "\n",
    "Whenever a sentence is shorter than the longest sentence in a mini-batch, we just use a padding value (here: 1) to fill the matrix.\n",
    "\n",
    "In our computation, we should **ignore** the padding positions (e.g. mask them out) so that paddings do not contribute to the loss.\n",
    "\n",
    "#### Mini-batch feed\n",
    "We will now implement a `get_minibatch` function which will replace `get_example` and returns a mini-batch of the requested size."
   ]
  },
  {
   "cell_type": "code",
   "execution_count": 62,
   "metadata": {
    "id": "IoAE2JBiXJ3P"
   },
   "outputs": [],
   "source": [
    "def get_minibatch(data, batch_size=25, shuffle=True):\n",
    "  \"\"\"Return minibatches, optional shuffling\"\"\"\n",
    "\n",
    "  if shuffle:\n",
    "    print(\"Shuffling training data\")\n",
    "    random.shuffle(data)  # shuffle training data each epoch\n",
    "\n",
    "  batch = []\n",
    "\n",
    "  # yield minibatches\n",
    "  for example in data:\n",
    "    batch.append(example)\n",
    "\n",
    "    if len(batch) == batch_size:\n",
    "      yield batch\n",
    "      batch = []\n",
    "\n",
    "  # in case there is something left\n",
    "  if len(batch) > 0:\n",
    "    yield batch"
   ]
  },
  {
   "cell_type": "markdown",
   "metadata": {
    "id": "DwZM-XYkT8Zx"
   },
   "source": [
    "#### Padding function\n",
    "We will need a function that adds padding 1s to a sequence of IDs so that\n",
    "it becomes as long as the longest sequence in the minibatch."
   ]
  },
  {
   "cell_type": "code",
   "execution_count": 63,
   "metadata": {
    "id": "sp0sK1ghw4Ft"
   },
   "outputs": [
    {
     "data": {
      "text/plain": [
       "[2, 3, 4, 1, 1]"
      ]
     },
     "execution_count": 63,
     "metadata": {},
     "output_type": "execute_result"
    }
   ],
   "source": [
    "def pad(tokens, length, pad_value=1):\n",
    "  \"\"\"add padding 1s to a sequence to that it has the desired length\"\"\"\n",
    "  return tokens + [pad_value] * (length - len(tokens))\n",
    "\n",
    "# example\n",
    "tokens = [2, 3, 4]\n",
    "pad(tokens, 5)"
   ]
  },
  {
   "cell_type": "markdown",
   "metadata": {
    "id": "SL2iixMYUgfh"
   },
   "source": [
    "#### New `prepare` function\n",
    "\n",
    "We will also need a new function that turns a mini-batch into PyTorch tensors."
   ]
  },
  {
   "cell_type": "code",
   "execution_count": 64,
   "metadata": {
    "id": "ZID0cqozWks8"
   },
   "outputs": [],
   "source": [
    "def prepare_minibatch(mb, vocab):\n",
    "  \"\"\"\n",
    "  Minibatch is a list of examples.\n",
    "  This function converts words to IDs and returns\n",
    "  torch tensors to be used as input/targets.\n",
    "  \"\"\"\n",
    "  batch_size = len(mb)\n",
    "  maxlen = max([len(ex.tokens) for ex in mb])\n",
    "\n",
    "  # vocab returns 0 if the word is not there\n",
    "  x = [pad([vocab.w2i.get(t, 0) for t in ex.tokens], maxlen) for ex in mb]\n",
    "\n",
    "  x = torch.LongTensor(x)\n",
    "  x = x.to(device)\n",
    "\n",
    "  y = [ex.label for ex in mb]\n",
    "  y = torch.LongTensor(y)\n",
    "  y = y.to(device)\n",
    "\n",
    "  return x, y"
   ]
  },
  {
   "cell_type": "code",
   "execution_count": 65,
   "metadata": {
    "id": "OwDAtCv1x2hB"
   },
   "outputs": [
    {
     "name": "stdout",
     "output_type": "stream",
     "text": [
      "Example(tokens=['For', 'all', 'the', 'time', 'we', 'spend', 'with', 'these', 'people', ',', 'we', 'never', 'really', 'get', 'inside', 'of', 'them', '.'], tree=Tree('1', [Tree('2', [Tree('2', [Tree('2', ['For']), Tree('2', [Tree('2', ['all']), Tree('2', [Tree('2', ['the']), Tree('2', ['time'])])])]), Tree('2', [Tree('2', ['we']), Tree('3', [Tree('2', ['spend']), Tree('2', [Tree('2', ['with']), Tree('2', [Tree('2', ['these']), Tree('2', ['people'])])])])])]), Tree('1', [Tree('2', [',']), Tree('1', [Tree('2', ['we']), Tree('2', [Tree('2', ['never']), Tree('3', [Tree('3', [Tree('2', ['really']), Tree('2', [Tree('2', ['get']), Tree('2', [Tree('2', ['inside']), Tree('2', [Tree('2', ['of']), Tree('2', ['them'])])])])]), Tree('2', ['.'])])])])])]), label=1, transitions=[0, 0, 0, 0, 1, 1, 1, 0, 0, 0, 0, 0, 1, 1, 1, 1, 1, 0, 0, 0, 0, 0, 0, 0, 0, 1, 1, 1, 1, 0, 1, 1, 1, 1, 1])\n",
      "Example(tokens=['An', 'unsophisticated', 'sci-fi', 'drama', 'that', 'takes', 'itself', 'all', 'too', 'seriously', '.'], tree=Tree('1', [Tree('0', [Tree('2', ['An']), Tree('1', ['unsophisticated'])]), Tree('1', [Tree('1', [Tree('2', ['sci-fi']), Tree('1', [Tree('1', ['drama']), Tree('1', [Tree('2', ['that']), Tree('1', [Tree('2', ['takes']), Tree('1', [Tree('2', ['itself']), Tree('2', [Tree('2', ['all']), Tree('2', [Tree('2', ['too']), Tree('2', ['seriously'])])])])])])])]), Tree('2', ['.'])])]), label=1, transitions=[0, 0, 1, 0, 0, 0, 0, 0, 0, 0, 0, 1, 1, 1, 1, 1, 1, 1, 0, 1, 1])\n",
      "Example(tokens=['I', 'realized', 'that', 'no', 'matter', 'how', 'fantastic', 'Reign', 'of', 'Fire', 'looked', ',', 'its', 'story', 'was', 'making', 'no', 'sense', 'at', 'all', '.'], tree=Tree('2', [Tree('2', ['I']), Tree('1', [Tree('1', [Tree('2', ['realized']), Tree('1', [Tree('2', ['that']), Tree('1', [Tree('2', [Tree('2', [Tree('1', ['no']), Tree('2', ['matter'])]), Tree('4', [Tree('2', ['how']), Tree('3', [Tree('4', [Tree('3', [Tree('3', ['fantastic']), Tree('3', ['Reign'])]), Tree('2', [Tree('2', ['of']), Tree('1', ['Fire'])])]), Tree('2', ['looked'])])])]), Tree('1', [Tree('2', [',']), Tree('0', [Tree('2', [Tree('2', ['its']), Tree('2', ['story'])]), Tree('1', [Tree('2', ['was']), Tree('1', [Tree('1', [Tree('2', ['making']), Tree('2', [Tree('1', ['no']), Tree('2', ['sense'])])]), Tree('2', [Tree('2', ['at']), Tree('2', ['all'])])])])])])])])]), Tree('2', ['.'])])]), label=2, transitions=[0, 0, 0, 0, 0, 1, 0, 0, 0, 1, 0, 0, 1, 1, 0, 1, 1, 1, 0, 0, 0, 1, 0, 0, 0, 0, 1, 1, 0, 0, 1, 1, 1, 1, 1, 1, 1, 1, 0, 1, 1])\n"
     ]
    }
   ],
   "source": [
    "# Let's test our new function.\n",
    "# This should give us 3 examples.\n",
    "mb = next(get_minibatch(train_data, batch_size=3, shuffle=False))\n",
    "for ex in mb:\n",
    "  print(ex)"
   ]
  },
  {
   "cell_type": "code",
   "execution_count": 66,
   "metadata": {
    "id": "dg8zEK8zyUCH"
   },
   "outputs": [
    {
     "name": "stdout",
     "output_type": "stream",
     "text": [
      "x tensor([[  143,    44,     4,    75,    48,  1219,    20,   122,    96,     2,\n",
      "            48,   229,   150,    84,   787,     7,    90,     3,     1,     1,\n",
      "             1],\n",
      "        [  519, 16006,  8787,  3617,    16,   719,   948,    44,   179,  2181,\n",
      "             3,     1,     1,     1,     1,     1,     1,     1,     1,     1,\n",
      "             1],\n",
      "        [   13,  2772,    16,    94,   678,   101,  1936, 11276,     7,  1886,\n",
      "          1018,     2,   102,   414,    31,   334,    94,   835,    26,    44,\n",
      "             3]])\n",
      "y tensor([1, 1, 2])\n"
     ]
    }
   ],
   "source": [
    "# We should find padding 1s at the end\n",
    "x, y = prepare_minibatch(mb, v)\n",
    "print(\"x\", x)\n",
    "print(\"y\", y)"
   ]
  },
  {
   "cell_type": "markdown",
   "metadata": {
    "id": "xYBJEoSNUwI0"
   },
   "source": [
    "#### Evaluate (mini-batch version)\n",
    "\n",
    "We can now update our evaluation function to use mini-batches"
   ]
  },
  {
   "cell_type": "code",
   "execution_count": 67,
   "metadata": {
    "id": "eiZZpEghzqou"
   },
   "outputs": [],
   "source": [
    "def evaluate(model, data,\n",
    "             batch_fn=get_minibatch, prep_fn=prepare_minibatch,\n",
    "             batch_size=16):\n",
    "  \"\"\"Accuracy of a model on given data set (using mini-batches)\"\"\"\n",
    "  correct = 0\n",
    "  total = 0\n",
    "  model.eval()  # disable dropout\n",
    "\n",
    "  for mb in batch_fn(data, batch_size=batch_size, shuffle=False):\n",
    "    x, targets = prep_fn(mb, model.vocab)\n",
    "    with torch.no_grad():\n",
    "      logits = model(x)\n",
    "\n",
    "    predictions = logits.argmax(dim=-1).view(-1)\n",
    "\n",
    "    # add the number of correct predictions to the total correct\n",
    "    correct += (predictions == targets.view(-1)).sum().item()\n",
    "    total += targets.size(0)\n",
    "\n",
    "  return correct, total, correct / float(total)"
   ]
  },
  {
   "cell_type": "markdown",
   "metadata": {
    "id": "23wAZomozh_2"
   },
   "source": [
    "# LSTM (Mini-batched)"
   ]
  },
  {
   "cell_type": "markdown",
   "metadata": {
    "id": "B-gkPU7jzBe2"
   },
   "source": [
    "With this, let's run the LSTM again but now using mini-batches!"
   ]
  },
  {
   "cell_type": "code",
   "execution_count": 68,
   "metadata": {
    "id": "226Xg9OPzFbA"
   },
   "outputs": [
    {
     "name": "stdout",
     "output_type": "stream",
     "text": [
      "LSTMClassifier(\n",
      "  (embed): Embedding(20727, 300, padding_idx=1)\n",
      "  (rnn): MyLSTMCell(300, 168)\n",
      "  (output_layer): Sequential(\n",
      "    (0): Dropout(p=0.5, inplace=False)\n",
      "    (1): Linear(in_features=168, out_features=5, bias=True)\n",
      "  )\n",
      ")\n",
      "embed.weight             [20727, 300] requires_grad=False\n",
      "rnn.ii.weight            [168, 300]   requires_grad=True\n",
      "rnn.ii.bias              [168]        requires_grad=True\n",
      "rnn.hi.weight            [168, 168]   requires_grad=True\n",
      "rnn.hi.bias              [168]        requires_grad=True\n",
      "rnn.if_.weight           [168, 300]   requires_grad=True\n",
      "rnn.if_.bias             [168]        requires_grad=True\n",
      "rnn.hf.weight            [168, 168]   requires_grad=True\n",
      "rnn.hf.bias              [168]        requires_grad=True\n",
      "rnn.ig.weight            [168, 300]   requires_grad=True\n",
      "rnn.ig.bias              [168]        requires_grad=True\n",
      "rnn.hg.weight            [168, 168]   requires_grad=True\n",
      "rnn.hg.bias              [168]        requires_grad=True\n",
      "rnn.io.weight            [168, 300]   requires_grad=True\n",
      "rnn.io.bias              [168]        requires_grad=True\n",
      "rnn.ho.weight            [168, 168]   requires_grad=True\n",
      "rnn.ho.bias              [168]        requires_grad=True\n",
      "output_layer.1.weight    [5, 168]     requires_grad=True\n",
      "output_layer.1.bias      [5]          requires_grad=True\n",
      "\n",
      "Total number of parameters: 6534785\n",
      "\n",
      "Shuffling training data\n",
      "Iter 250: loss=382.0479, time=62.05s\n",
      "iter 250: dev acc=0.3669\n",
      "new highscore\n",
      "Shuffling training data\n",
      "Iter 500: loss=341.5098, time=67.88s\n",
      "iter 500: dev acc=0.4060\n",
      "new highscore\n",
      "Shuffling training data\n",
      "Iter 750: loss=326.0629, time=114.78s\n",
      "iter 750: dev acc=0.4178\n",
      "new highscore\n",
      "Iter 1000: loss=320.6609, time=168.46s\n",
      "iter 1000: dev acc=0.4369\n",
      "new highscore\n",
      "Shuffling training data\n",
      "Iter 1250: loss=310.4876, time=174.19s\n",
      "iter 1250: dev acc=0.4378\n",
      "new highscore\n",
      "Shuffling training data\n",
      "Iter 1500: loss=310.7307, time=226.03s\n",
      "iter 1500: dev acc=0.4478\n",
      "new highscore\n",
      "Shuffling training data\n",
      "Iter 1750: loss=302.5675, time=1285.67s\n",
      "iter 1750: dev acc=0.4332\n",
      "Iter 2000: loss=301.6003, time=1291.46s\n",
      "iter 2000: dev acc=0.4550\n",
      "new highscore\n",
      "Shuffling training data\n",
      "Iter 2250: loss=293.9301, time=2202.89s\n",
      "iter 2250: dev acc=0.4342\n",
      "Shuffling training data\n",
      "Iter 2500: loss=292.7584, time=2348.39s\n",
      "iter 2500: dev acc=0.4460\n",
      "Shuffling training data\n",
      "Iter 2750: loss=290.7669, time=2355.02s\n",
      "iter 2750: dev acc=0.4505\n",
      "Iter 3000: loss=281.4088, time=2361.48s\n",
      "iter 3000: dev acc=0.4496\n",
      "Shuffling training data\n",
      "Iter 3250: loss=280.5500, time=2367.56s\n",
      "iter 3250: dev acc=0.4687\n",
      "new highscore\n",
      "Shuffling training data\n",
      "Iter 3500: loss=274.6508, time=2373.54s\n",
      "iter 3500: dev acc=0.4559\n",
      "Iter 3750: loss=272.9525, time=2379.51s\n",
      "iter 3750: dev acc=0.4523\n",
      "Shuffling training data\n",
      "Iter 4000: loss=262.0498, time=2385.39s\n",
      "iter 4000: dev acc=0.4559\n",
      "Shuffling training data\n",
      "Iter 4250: loss=266.4786, time=2391.43s\n",
      "iter 4250: dev acc=0.4305\n",
      "Shuffling training data\n",
      "Iter 4500: loss=254.3902, time=2397.61s\n",
      "iter 4500: dev acc=0.4550\n",
      "Iter 4750: loss=248.8799, time=2403.86s\n",
      "iter 4750: dev acc=0.4441\n",
      "Shuffling training data\n",
      "Iter 5000: loss=239.7950, time=2410.01s\n",
      "iter 5000: dev acc=0.4342\n",
      "Shuffling training data\n",
      "Iter 5250: loss=240.7518, time=2416.06s\n",
      "iter 5250: dev acc=0.4532\n",
      "Shuffling training data\n",
      "Iter 5500: loss=232.2458, time=2421.93s\n",
      "iter 5500: dev acc=0.4532\n",
      "Iter 5750: loss=224.0392, time=2427.78s\n",
      "iter 5750: dev acc=0.4469\n",
      "Shuffling training data\n",
      "Iter 6000: loss=222.7051, time=2433.76s\n",
      "iter 6000: dev acc=0.4332\n",
      "Shuffling training data\n",
      "Iter 6250: loss=211.3330, time=2439.78s\n",
      "iter 6250: dev acc=0.4460\n",
      "Shuffling training data\n",
      "Iter 6500: loss=216.3218, time=2445.77s\n",
      "iter 6500: dev acc=0.4623\n",
      "Iter 6750: loss=200.2939, time=2451.80s\n",
      "iter 6750: dev acc=0.4469\n",
      "Shuffling training data\n",
      "Iter 7000: loss=190.6318, time=2457.84s\n",
      "iter 7000: dev acc=0.4369\n",
      "Shuffling training data\n",
      "Iter 7250: loss=187.6971, time=2463.92s\n",
      "iter 7250: dev acc=0.4369\n",
      "Iter 7500: loss=186.3227, time=2469.87s\n",
      "iter 7500: dev acc=0.4287\n",
      "Shuffling training data\n",
      "Iter 7750: loss=175.4944, time=2475.96s\n",
      "iter 7750: dev acc=0.4332\n",
      "Shuffling training data\n",
      "Iter 8000: loss=165.0504, time=2482.22s\n",
      "iter 8000: dev acc=0.4342\n",
      "Shuffling training data\n",
      "Iter 8250: loss=161.6247, time=2488.49s\n",
      "iter 8250: dev acc=0.4278\n",
      "Iter 8500: loss=157.8172, time=2494.66s\n",
      "iter 8500: dev acc=0.4432\n",
      "Shuffling training data\n",
      "Iter 8750: loss=155.2924, time=2500.73s\n",
      "iter 8750: dev acc=0.4105\n",
      "Shuffling training data\n",
      "Iter 9000: loss=144.1292, time=2506.68s\n",
      "iter 9000: dev acc=0.4314\n",
      "Shuffling training data\n",
      "Iter 9250: loss=135.9755, time=2512.78s\n",
      "iter 9250: dev acc=0.4342\n",
      "Iter 9500: loss=127.3416, time=2518.78s\n",
      "iter 9500: dev acc=0.4251\n",
      "Shuffling training data\n",
      "Iter 9750: loss=123.6929, time=2524.95s\n",
      "iter 9750: dev acc=0.4142\n",
      "Shuffling training data\n",
      "Iter 10000: loss=117.0676, time=2530.97s\n",
      "iter 10000: dev acc=0.4342\n",
      "Iter 10250: loss=116.6924, time=2537.11s\n",
      "iter 10250: dev acc=0.4269\n",
      "Shuffling training data\n",
      "Iter 10500: loss=101.6196, time=2543.16s\n",
      "iter 10500: dev acc=0.4223\n",
      "Shuffling training data\n",
      "Iter 10750: loss=105.9924, time=2549.43s\n",
      "iter 10750: dev acc=0.4314\n",
      "Shuffling training data\n",
      "Iter 11000: loss=96.9355, time=2557.87s\n",
      "iter 11000: dev acc=0.4169\n",
      "Iter 11250: loss=95.8458, time=2564.48s\n",
      "iter 11250: dev acc=0.3978\n",
      "Shuffling training data\n",
      "Iter 11500: loss=86.5002, time=2570.82s\n",
      "iter 11500: dev acc=0.4233\n",
      "Shuffling training data\n",
      "Iter 11750: loss=81.4160, time=2577.47s\n",
      "iter 11750: dev acc=0.4151\n",
      "Shuffling training data\n",
      "Iter 12000: loss=79.8563, time=2584.08s\n",
      "iter 12000: dev acc=0.4142\n",
      "Iter 12250: loss=78.0948, time=2590.61s\n",
      "iter 12250: dev acc=0.4151\n",
      "Shuffling training data\n",
      "Iter 12500: loss=75.0413, time=2598.06s\n",
      "iter 12500: dev acc=0.4042\n",
      "Shuffling training data\n",
      "Iter 12750: loss=71.3731, time=2605.01s\n",
      "iter 12750: dev acc=0.4223\n",
      "Shuffling training data\n",
      "Iter 13000: loss=67.2416, time=2611.14s\n",
      "iter 13000: dev acc=0.4142\n",
      "Iter 13250: loss=61.9171, time=2617.26s\n",
      "iter 13250: dev acc=0.4151\n",
      "Shuffling training data\n",
      "Iter 13500: loss=64.2430, time=2623.57s\n",
      "iter 13500: dev acc=0.4151\n",
      "Shuffling training data\n",
      "Iter 13750: loss=57.5790, time=2629.64s\n",
      "iter 13750: dev acc=0.4015\n",
      "Iter 14000: loss=55.5386, time=2635.87s\n",
      "iter 14000: dev acc=0.4160\n",
      "Shuffling training data\n",
      "Iter 14250: loss=48.7394, time=2641.96s\n",
      "iter 14250: dev acc=0.4214\n",
      "Shuffling training data\n",
      "Iter 14500: loss=55.1728, time=2648.58s\n",
      "iter 14500: dev acc=0.4087\n",
      "Shuffling training data\n",
      "Iter 14750: loss=54.9867, time=2656.27s\n",
      "iter 14750: dev acc=0.4087\n",
      "Iter 15000: loss=51.0206, time=2663.29s\n",
      "iter 15000: dev acc=0.4033\n",
      "Shuffling training data\n",
      "Iter 15250: loss=47.7961, time=2673.18s\n",
      "iter 15250: dev acc=0.4087\n",
      "Shuffling training data\n",
      "Iter 15500: loss=48.8780, time=2681.83s\n",
      "iter 15500: dev acc=0.4015\n",
      "Shuffling training data\n",
      "Iter 15750: loss=42.0342, time=2688.16s\n",
      "iter 15750: dev acc=0.4142\n",
      "Iter 16000: loss=37.3589, time=2694.44s\n",
      "iter 16000: dev acc=0.4124\n",
      "Shuffling training data\n",
      "Iter 16250: loss=34.4101, time=2700.69s\n",
      "iter 16250: dev acc=0.4033\n",
      "Shuffling training data\n",
      "Iter 16500: loss=30.8779, time=2707.45s\n",
      "iter 16500: dev acc=0.4069\n",
      "Iter 16750: loss=39.5660, time=2714.92s\n",
      "iter 16750: dev acc=0.4260\n",
      "Shuffling training data\n",
      "Iter 17000: loss=31.0985, time=2722.40s\n",
      "iter 17000: dev acc=0.4187\n",
      "Shuffling training data\n",
      "Iter 17250: loss=42.1962, time=2730.15s\n",
      "iter 17250: dev acc=0.4360\n",
      "Shuffling training data\n",
      "Iter 17500: loss=32.9977, time=2737.60s\n",
      "iter 17500: dev acc=0.4042\n",
      "Iter 17750: loss=36.0441, time=2745.17s\n",
      "iter 17750: dev acc=0.4169\n",
      "Shuffling training data\n",
      "Iter 18000: loss=27.0198, time=2753.34s\n",
      "iter 18000: dev acc=0.4251\n",
      "Shuffling training data\n",
      "Iter 18250: loss=35.3579, time=2760.58s\n",
      "iter 18250: dev acc=0.4069\n",
      "Shuffling training data\n",
      "Iter 18500: loss=30.0706, time=2767.69s\n",
      "iter 18500: dev acc=0.4214\n",
      "Iter 18750: loss=23.5380, time=2775.25s\n",
      "iter 18750: dev acc=0.4114\n",
      "Shuffling training data\n",
      "Iter 19000: loss=19.1452, time=2782.33s\n",
      "iter 19000: dev acc=0.4187\n",
      "Shuffling training data\n",
      "Iter 19250: loss=25.6827, time=2789.77s\n",
      "iter 19250: dev acc=0.4160\n",
      "Shuffling training data\n",
      "Iter 19500: loss=22.3919, time=2797.34s\n",
      "iter 19500: dev acc=0.4169\n",
      "Iter 19750: loss=40.9027, time=2805.19s\n",
      "iter 19750: dev acc=0.4287\n",
      "Shuffling training data\n",
      "Iter 20000: loss=17.5632, time=2812.42s\n",
      "iter 20000: dev acc=0.4133\n",
      "Shuffling training data\n",
      "Iter 20250: loss=18.6262, time=2819.69s\n",
      "iter 20250: dev acc=0.4133\n",
      "Iter 20500: loss=31.5047, time=2826.94s\n",
      "iter 20500: dev acc=0.4169\n",
      "Shuffling training data\n",
      "Iter 20750: loss=17.1782, time=2834.22s\n",
      "iter 20750: dev acc=0.4269\n",
      "Shuffling training data\n",
      "Iter 21000: loss=15.3977, time=2841.31s\n",
      "iter 21000: dev acc=0.4087\n",
      "Shuffling training data\n",
      "Iter 21250: loss=19.6687, time=2848.52s\n",
      "iter 21250: dev acc=0.4024\n",
      "Iter 21500: loss=39.3658, time=2855.71s\n",
      "iter 21500: dev acc=0.4196\n",
      "Shuffling training data\n",
      "Iter 21750: loss=22.3295, time=2862.92s\n",
      "iter 21750: dev acc=0.4187\n",
      "Shuffling training data\n",
      "Iter 22000: loss=15.7529, time=2870.02s\n",
      "iter 22000: dev acc=0.4233\n",
      "Shuffling training data\n",
      "Iter 22250: loss=13.1125, time=2877.18s\n",
      "iter 22250: dev acc=0.4124\n",
      "Iter 22500: loss=11.2603, time=2884.33s\n",
      "iter 22500: dev acc=0.4051\n",
      "Shuffling training data\n",
      "Iter 22750: loss=18.9458, time=2891.41s\n",
      "iter 22750: dev acc=0.4024\n",
      "Shuffling training data\n",
      "Iter 23000: loss=19.7320, time=2898.47s\n",
      "iter 23000: dev acc=0.4105\n",
      "Iter 23250: loss=16.5940, time=2905.61s\n",
      "iter 23250: dev acc=0.4133\n",
      "Shuffling training data\n",
      "Iter 23500: loss=10.0757, time=2912.76s\n",
      "iter 23500: dev acc=0.4178\n",
      "Shuffling training data\n",
      "Iter 23750: loss=25.2625, time=2920.07s\n",
      "iter 23750: dev acc=0.4196\n",
      "Shuffling training data\n",
      "Iter 24000: loss=18.0853, time=2927.17s\n",
      "iter 24000: dev acc=0.4251\n",
      "Iter 24250: loss=18.1799, time=2934.33s\n",
      "iter 24250: dev acc=0.4015\n",
      "Shuffling training data\n",
      "Iter 24500: loss=17.6416, time=2941.73s\n",
      "iter 24500: dev acc=0.4205\n",
      "Shuffling training data\n",
      "Iter 24750: loss=12.6869, time=2949.47s\n",
      "iter 24750: dev acc=0.4178\n",
      "Shuffling training data\n",
      "Iter 25000: loss=9.2837, time=2957.94s\n",
      "iter 25000: dev acc=0.4142\n",
      "Iter 25250: loss=10.1284, time=2965.02s\n",
      "iter 25250: dev acc=0.3906\n",
      "Shuffling training data\n",
      "Iter 25500: loss=25.2010, time=2972.21s\n",
      "iter 25500: dev acc=0.4151\n",
      "Shuffling training data\n",
      "Iter 25750: loss=17.0702, time=2979.34s\n",
      "iter 25750: dev acc=0.4124\n",
      "Shuffling training data\n",
      "Iter 26000: loss=13.9405, time=2986.60s\n",
      "iter 26000: dev acc=0.4205\n",
      "Iter 26250: loss=9.1957, time=2993.68s\n",
      "iter 26250: dev acc=0.4024\n",
      "Shuffling training data\n",
      "Iter 26500: loss=9.2920, time=3000.82s\n",
      "iter 26500: dev acc=0.4133\n",
      "Shuffling training data\n",
      "Iter 26750: loss=23.5266, time=3007.96s\n",
      "iter 26750: dev acc=0.4096\n",
      "Iter 27000: loss=14.6791, time=3015.02s\n",
      "iter 27000: dev acc=0.4296\n",
      "Shuffling training data\n",
      "Iter 27250: loss=7.9229, time=3022.05s\n",
      "iter 27250: dev acc=0.4187\n",
      "Shuffling training data\n",
      "Iter 27500: loss=13.7792, time=4476.25s\n",
      "iter 27500: dev acc=0.4078\n",
      "Shuffling training data\n",
      "Iter 27750: loss=14.6961, time=4684.68s\n",
      "iter 27750: dev acc=0.4114\n",
      "Iter 28000: loss=17.3782, time=4692.41s\n",
      "iter 28000: dev acc=0.4105\n",
      "Shuffling training data\n",
      "Iter 28250: loss=16.5670, time=4699.54s\n",
      "iter 28250: dev acc=0.4124\n",
      "Shuffling training data\n",
      "Iter 28500: loss=7.9480, time=4706.73s\n",
      "iter 28500: dev acc=0.4105\n",
      "Shuffling training data\n",
      "Iter 28750: loss=4.6422, time=4713.79s\n",
      "iter 28750: dev acc=0.4133\n",
      "Iter 29000: loss=3.7503, time=4720.81s\n",
      "iter 29000: dev acc=0.4096\n",
      "Shuffling training data\n",
      "Iter 29250: loss=3.0346, time=4727.54s\n",
      "iter 29250: dev acc=0.4060\n",
      "Shuffling training data\n",
      "Iter 29500: loss=3.2284, time=4734.53s\n",
      "iter 29500: dev acc=0.4096\n",
      "Iter 29750: loss=3.7568, time=4741.48s\n",
      "iter 29750: dev acc=0.4133\n",
      "Shuffling training data\n",
      "Iter 30000: loss=39.4918, time=4748.96s\n",
      "iter 30000: dev acc=0.4151\n",
      "Done training\n",
      "Loading best model\n"
     ]
    },
    {
     "name": "stderr",
     "output_type": "stream",
     "text": [
      "/var/folders/nn/3ytl4vrn4ln2fzrpggw5l8300000gn/T/ipykernel_64685/3291092230.py:91: FutureWarning: You are using `torch.load` with `weights_only=False` (the current default value), which uses the default pickle module implicitly. It is possible to construct malicious pickle data which will execute arbitrary code during unpickling (See https://github.com/pytorch/pytorch/blob/main/SECURITY.md#untrusted-models for more details). In a future release, the default value for `weights_only` will be flipped to `True`. This limits the functions that could be executed during unpickling. Arbitrary objects will no longer be allowed to be loaded via this mode unless they are explicitly allowlisted by the user via `torch.serialization.add_safe_globals`. We recommend you start setting `weights_only=True` for any use case where you don't have full control of the loaded file. Please open an issue on GitHub for any issues related to this experimental feature.\n",
      "  ckpt = torch.load(path)\n"
     ]
    },
    {
     "name": "stdout",
     "output_type": "stream",
     "text": [
      "best model iter 3250: train acc=0.5523, dev acc=0.4687, test acc=0.4796\n"
     ]
    }
   ],
   "source": [
    "lstm_model = LSTMClassifier(\n",
    "    len(v.w2i), 300, 168, len(t2i), v)\n",
    "\n",
    "# copy pre-trained vectors into embeddings table\n",
    "with torch.no_grad():\n",
    "  lstm_model.embed.weight.data.copy_(torch.from_numpy(vectors))\n",
    "  lstm_model.embed.weight.requires_grad = False\n",
    "\n",
    "print(lstm_model)\n",
    "print_parameters(lstm_model)\n",
    "\n",
    "lstm_model = lstm_model.to(device)\n",
    "\n",
    "batch_size = 25\n",
    "optimizer = optim.Adam(lstm_model.parameters(), lr=2e-4)\n",
    "\n",
    "lstm_losses, lstm_accuracies = train_model(\n",
    "    lstm_model, optimizer, num_iterations=30000,\n",
    "    print_every=250, eval_every=250,\n",
    "    batch_size=batch_size,\n",
    "    batch_fn=get_minibatch,\n",
    "    prep_fn=prepare_minibatch,\n",
    "    eval_fn=evaluate)"
   ]
  },
  {
   "cell_type": "code",
   "execution_count": 69,
   "metadata": {
    "id": "ymj1rLDMvyhp"
   },
   "outputs": [
    {
     "data": {
      "image/png": "[encoded data removed]",
      "text/plain": [
       "<Figure size 640x480 with 1 Axes>"
      ]
     },
     "metadata": {},
     "output_type": "display_data"
    }
   ],
   "source": [
    "# plot validation accuracy\n",
    "plt.plot(lstm_accuracies)\n",
    "plt.title(\"LSTM Accuracy (Mini-Batched)\")\n",
    "plt.show()"
   ]
  },
  {
   "cell_type": "code",
   "execution_count": 70,
   "metadata": {
    "id": "1je5S1RHVC5R"
   },
   "outputs": [
    {
     "data": {
      "image/png": "[encoded data removed]",
      "text/plain": [
       "<Figure size 640x480 with 1 Axes>"
      ]
     },
     "metadata": {},
     "output_type": "display_data"
    }
   ],
   "source": [
    "# plot training loss\n",
    "plt.plot(lstm_losses)\n",
    "plt.title(\"LSTM Training Loss (Mini-Batched)\")\n",
    "plt.show()"
   ]
  },
  {
   "cell_type": "markdown",
   "metadata": {
    "id": "eep3X9go3rtj"
   },
   "source": [
    "Fine-tuning word embeddings"
   ]
  },
  {
   "cell_type": "code",
   "execution_count": 71,
   "metadata": {
    "id": "HJ01PSst3yAr"
   },
   "outputs": [
    {
     "name": "stdout",
     "output_type": "stream",
     "text": [
      "LSTMClassifier(\n",
      "  (embed): Embedding(20727, 300, padding_idx=1)\n",
      "  (rnn): MyLSTMCell(300, 168)\n",
      "  (output_layer): Sequential(\n",
      "    (0): Dropout(p=0.5, inplace=False)\n",
      "    (1): Linear(in_features=168, out_features=5, bias=True)\n",
      "  )\n",
      ")\n",
      "embed.weight             [20727, 300] requires_grad=True\n",
      "rnn.ii.weight            [168, 300]   requires_grad=True\n",
      "rnn.ii.bias              [168]        requires_grad=True\n",
      "rnn.hi.weight            [168, 168]   requires_grad=True\n",
      "rnn.hi.bias              [168]        requires_grad=True\n",
      "rnn.if_.weight           [168, 300]   requires_grad=True\n",
      "rnn.if_.bias             [168]        requires_grad=True\n",
      "rnn.hf.weight            [168, 168]   requires_grad=True\n",
      "rnn.hf.bias              [168]        requires_grad=True\n",
      "rnn.ig.weight            [168, 300]   requires_grad=True\n",
      "rnn.ig.bias              [168]        requires_grad=True\n",
      "rnn.hg.weight            [168, 168]   requires_grad=True\n",
      "rnn.hg.bias              [168]        requires_grad=True\n",
      "rnn.io.weight            [168, 300]   requires_grad=True\n",
      "rnn.io.bias              [168]        requires_grad=True\n",
      "rnn.ho.weight            [168, 168]   requires_grad=True\n",
      "rnn.ho.bias              [168]        requires_grad=True\n",
      "output_layer.1.weight    [5, 168]     requires_grad=True\n",
      "output_layer.1.bias      [5]          requires_grad=True\n",
      "\n",
      "Total number of parameters: 6534785\n",
      "\n",
      "Shuffling training data\n",
      "Shuffling training data\n",
      "Iter 500: loss=720.4276, time=28.49s\n",
      "Shuffling training data\n",
      "Iter 1000: loss=608.1972, time=57.94s\n",
      "iter 1000: dev acc=0.4387\n",
      "new highscore\n",
      "Shuffling training data\n",
      "Shuffling training data\n",
      "Iter 1500: loss=523.9949, time=88.38s\n",
      "Shuffling training data\n",
      "Iter 2000: loss=446.2470, time=119.01s\n",
      "iter 2000: dev acc=0.4414\n",
      "new highscore\n",
      "Shuffling training data\n",
      "Shuffling training data\n",
      "Iter 2500: loss=355.9821, time=150.08s\n",
      "Shuffling training data\n",
      "Iter 3000: loss=278.3430, time=180.76s\n",
      "iter 3000: dev acc=0.4142\n",
      "Shuffling training data\n",
      "Shuffling training data\n",
      "Iter 3500: loss=207.7283, time=212.11s\n",
      "Shuffling training data\n",
      "Iter 4000: loss=154.9572, time=244.46s\n",
      "iter 4000: dev acc=0.3960\n",
      "Shuffling training data\n",
      "Shuffling training data\n",
      "Iter 4500: loss=118.4651, time=277.80s\n",
      "Shuffling training data\n",
      "Iter 5000: loss=94.1176, time=310.76s\n",
      "iter 5000: dev acc=0.3915\n",
      "Shuffling training data\n",
      "Shuffling training data\n",
      "Iter 5500: loss=76.1371, time=344.91s\n",
      "Shuffling training data\n",
      "Iter 6000: loss=59.8428, time=378.45s\n",
      "iter 6000: dev acc=0.3978\n",
      "Shuffling training data\n",
      "Shuffling training data\n",
      "Iter 6500: loss=48.2364, time=413.54s\n",
      "Shuffling training data\n",
      "Iter 7000: loss=45.3929, time=450.70s\n",
      "iter 7000: dev acc=0.3969\n",
      "Shuffling training data\n",
      "Iter 7500: loss=40.5354, time=489.28s\n",
      "Shuffling training data\n",
      "Shuffling training data\n",
      "Iter 8000: loss=24.4565, time=522.31s\n",
      "iter 8000: dev acc=0.3924\n",
      "Shuffling training data\n",
      "Iter 8500: loss=22.5723, time=555.05s\n",
      "Shuffling training data\n",
      "Shuffling training data\n",
      "Iter 9000: loss=19.3936, time=589.24s\n",
      "iter 9000: dev acc=0.3960\n",
      "Shuffling training data\n",
      "Iter 9500: loss=22.1927, time=623.38s\n",
      "Shuffling training data\n",
      "Shuffling training data\n",
      "Iter 10000: loss=18.7399, time=655.83s\n",
      "iter 10000: dev acc=0.3887\n",
      "Shuffling training data\n",
      "Iter 10500: loss=12.7140, time=690.19s\n",
      "Shuffling training data\n",
      "Shuffling training data\n",
      "Iter 11000: loss=6.6855, time=726.04s\n",
      "iter 11000: dev acc=0.3851\n",
      "Shuffling training data\n",
      "Iter 11500: loss=12.6334, time=760.43s\n",
      "Shuffling training data\n",
      "Shuffling training data\n",
      "Iter 12000: loss=12.8729, time=793.79s\n",
      "iter 12000: dev acc=0.3978\n",
      "Shuffling training data\n",
      "Iter 12500: loss=10.9795, time=828.16s\n",
      "Shuffling training data\n",
      "Shuffling training data\n",
      "Iter 13000: loss=9.1926, time=861.37s\n",
      "iter 13000: dev acc=0.3896\n",
      "Shuffling training data\n",
      "Iter 13500: loss=10.1726, time=895.23s\n",
      "Shuffling training data\n",
      "Iter 14000: loss=6.4775, time=931.31s\n",
      "iter 14000: dev acc=0.3933\n",
      "Shuffling training data\n",
      "Shuffling training data\n",
      "Iter 14500: loss=4.3462, time=967.02s\n",
      "Shuffling training data\n",
      "Iter 15000: loss=6.5489, time=1003.76s\n",
      "iter 15000: dev acc=0.3951\n",
      "Shuffling training data\n",
      "Shuffling training data\n",
      "Iter 15500: loss=5.0832, time=1037.38s\n",
      "Shuffling training data\n",
      "Iter 16000: loss=2.9027, time=1072.84s\n",
      "iter 16000: dev acc=0.4033\n",
      "Shuffling training data\n",
      "Shuffling training data\n",
      "Iter 16500: loss=1.1560, time=1112.88s\n",
      "Shuffling training data\n",
      "Iter 17000: loss=0.6376, time=1148.72s\n",
      "iter 17000: dev acc=0.4005\n",
      "Shuffling training data\n",
      "Shuffling training data\n",
      "Iter 17500: loss=0.4222, time=1185.70s\n",
      "Shuffling training data\n",
      "Iter 18000: loss=1.3885, time=1220.20s\n",
      "iter 18000: dev acc=0.3924\n",
      "Shuffling training data\n",
      "Shuffling training data\n",
      "Iter 18500: loss=14.7003, time=1262.94s\n",
      "Shuffling training data\n",
      "Iter 19000: loss=4.1011, time=1297.34s\n",
      "iter 19000: dev acc=0.3869\n",
      "Shuffling training data\n",
      "Shuffling training data\n",
      "Iter 19500: loss=2.7991, time=1335.41s\n",
      "Shuffling training data\n",
      "Iter 20000: loss=3.4907, time=1369.28s\n",
      "iter 20000: dev acc=0.3797\n",
      "Shuffling training data\n",
      "Iter 20500: loss=5.2284, time=1402.51s\n",
      "Shuffling training data\n",
      "Shuffling training data\n",
      "Iter 21000: loss=3.3252, time=1434.51s\n",
      "iter 21000: dev acc=0.3896\n",
      "Shuffling training data\n",
      "Iter 21500: loss=1.1035, time=1467.35s\n",
      "Shuffling training data\n",
      "Shuffling training data\n",
      "Iter 22000: loss=0.3621, time=1500.25s\n",
      "iter 22000: dev acc=0.3933\n",
      "Shuffling training data\n",
      "Iter 22500: loss=0.2954, time=1534.67s\n",
      "Shuffling training data\n",
      "Shuffling training data\n",
      "Iter 23000: loss=0.1826, time=1569.92s\n",
      "iter 23000: dev acc=0.3860\n",
      "Shuffling training data\n",
      "Iter 23500: loss=0.2097, time=1606.29s\n",
      "Shuffling training data\n",
      "Shuffling training data\n",
      "Iter 24000: loss=8.7473, time=1640.72s\n",
      "iter 24000: dev acc=0.3733\n",
      "Shuffling training data\n",
      "Iter 24500: loss=8.1235, time=1673.57s\n",
      "Shuffling training data\n",
      "Shuffling training data\n",
      "Iter 25000: loss=1.1884, time=1705.67s\n",
      "iter 25000: dev acc=0.3842\n",
      "Shuffling training data\n",
      "Iter 25500: loss=0.5567, time=1741.66s\n",
      "Shuffling training data\n",
      "Shuffling training data\n",
      "Iter 26000: loss=0.2328, time=1776.67s\n",
      "iter 26000: dev acc=0.3896\n",
      "Shuffling training data\n",
      "Iter 26500: loss=3.0305, time=1813.25s\n",
      "Shuffling training data\n",
      "Iter 27000: loss=3.1934, time=1849.53s\n",
      "iter 27000: dev acc=0.3896\n",
      "Shuffling training data\n",
      "Shuffling training data\n",
      "Iter 27500: loss=1.1350, time=1885.58s\n",
      "Shuffling training data\n",
      "Iter 28000: loss=4.6722, time=1922.76s\n",
      "iter 28000: dev acc=0.3769\n",
      "Shuffling training data\n",
      "Shuffling training data\n",
      "Iter 28500: loss=0.6068, time=1961.30s\n",
      "Shuffling training data\n",
      "Iter 29000: loss=0.3413, time=1994.36s\n",
      "iter 29000: dev acc=0.3960\n",
      "Shuffling training data\n",
      "Shuffling training data\n",
      "Iter 29500: loss=0.2193, time=2031.42s\n",
      "Shuffling training data\n",
      "Iter 30000: loss=0.1210, time=2062.31s\n",
      "iter 30000: dev acc=0.3915\n",
      "Done training\n",
      "Loading best model\n"
     ]
    },
    {
     "name": "stderr",
     "output_type": "stream",
     "text": [
      "/var/folders/nn/3ytl4vrn4ln2fzrpggw5l8300000gn/T/ipykernel_64685/3291092230.py:91: FutureWarning: You are using `torch.load` with `weights_only=False` (the current default value), which uses the default pickle module implicitly. It is possible to construct malicious pickle data which will execute arbitrary code during unpickling (See https://github.com/pytorch/pytorch/blob/main/SECURITY.md#untrusted-models for more details). In a future release, the default value for `weights_only` will be flipped to `True`. This limits the functions that could be executed during unpickling. Arbitrary objects will no longer be allowed to be loaded via this mode unless they are explicitly allowlisted by the user via `torch.serialization.add_safe_globals`. We recommend you start setting `weights_only=True` for any use case where you don't have full control of the loaded file. Please open an issue on GitHub for any issues related to this experimental feature.\n",
      "  ckpt = torch.load(path)\n"
     ]
    },
    {
     "name": "stdout",
     "output_type": "stream",
     "text": [
      "best model iter 2000: train acc=0.7410, dev acc=0.4414, test acc=0.4484\n"
     ]
    }
   ],
   "source": [
    "lstm_model = LSTMClassifier(\n",
    "    len(v.w2i), 300, 168, len(t2i), v)\n",
    "\n",
    "# Now fine-tune your embeddings together with the model\n",
    "lstm_model.embed.weight.data.copy_(torch.from_numpy(vectors))\n",
    "lstm_model.embed.weight.requires_grad = True\n",
    "\n",
    "print(lstm_model)\n",
    "print_parameters(lstm_model)\n",
    "\n",
    "lstm_model = lstm_model.to(device)\n",
    "\n",
    "batch_size = 25\n",
    "optimizer = optim.Adam(lstm_model.parameters(), lr=2e-4)\n",
    "\n",
    "lstm_losses, lstm_accuracies = train_model(\n",
    "    lstm_model, optimizer, num_iterations=30000,\n",
    "    print_every=500, eval_every=1000,\n",
    "    batch_size=batch_size,\n",
    "    batch_fn=get_minibatch,\n",
    "    prep_fn=prepare_minibatch,\n",
    "    eval_fn=evaluate)"
   ]
  },
  {
   "cell_type": "code",
   "execution_count": 72,
   "metadata": {
    "id": "lU6RiipU4Olf"
   },
   "outputs": [
    {
     "data": {
      "image/png": "[encoded data removed]",
      "text/plain": [
       "<Figure size 640x480 with 1 Axes>"
      ]
     },
     "metadata": {},
     "output_type": "display_data"
    }
   ],
   "source": [
    "# plot validation accuracy\n",
    "plt.plot(lstm_accuracies)\n",
    "plt.title(\"LSTM Accuracy (Fine-tuned word embeddings)\")\n",
    "plt.show()"
   ]
  },
  {
   "cell_type": "code",
   "execution_count": 73,
   "metadata": {
    "id": "CwjnCN1x4O7j"
   },
   "outputs": [
    {
     "data": {
      "image/png": "[encoded data removed]",
      "text/plain": [
       "<Figure size 640x480 with 1 Axes>"
      ]
     },
     "metadata": {},
     "output_type": "display_data"
    }
   ],
   "source": [
    "# plot training loss\n",
    "plt.plot(lstm_losses)\n",
    "plt.title(\"LSTM Training Loss (Fine-tuned word embeddings)\")\n",
    "plt.show()"
   ]
  },
  {
   "cell_type": "markdown",
   "metadata": {
    "id": "q7WjcxXntMi5"
   },
   "source": [
    "# Tree-LSTM"
   ]
  },
  {
   "cell_type": "markdown",
   "metadata": {
    "id": "jyj_UD6GtO5M"
   },
   "source": [
    "In the final part of this lab we will exploit the tree structure of the SST data.\n",
    "Until now we only used the surface tokens, but remember that our data examples include binary trees with a sentiment score at every node.\n",
    "\n",
    "In particular, we will implement **N-ary Tree-LSTMs** which are described in:\n",
    "\n",
    "> Kai Sheng Tai, Richard Socher, and Christopher D. Manning. [Improved Semantic Representations From Tree-Structured Long Short-Term Memory Networks](http://aclweb.org/anthology/P/P15/P15-1150.pdf) ACL 2015.\n",
    "\n",
    "Since our trees are binary (i.e., N=2), we can refer to these as *Binary Tree-LSTMs*. If you study equations (9) to (14) in the paper, you will find that they are not all too different from the original LSTM that you already have.\n",
    "\n",
    "You should read this paper carefully and make sure that you understand the approach. You will also find our LSTM baseline there.\n",
    "Note however that Tree-LSTMs were proposed around the same time by two other groups:\n",
    "\n",
    "> Phong Le and Willem Zuidema. [Compositional distributional semantics with long short term memory](http://anthology.aclweb.org/S/S15/S15-1002.pdf). *SEM 2015.\n",
    "\n",
    "> Xiaodan Zhu, Parinaz Sobihani,  and Hongyu Guo. [Long short-term memory over recursive structures](http://proceedings.mlr.press/v37/zhub15.pdf). ICML 2015.\n",
    "\n",
    "It is good scientific practice to cite all three papers in your report.\n",
    "\n",
    "\n"
   ]
  },
  {
   "cell_type": "markdown",
   "metadata": {
    "id": "1rDzvSos3JFp"
   },
   "source": [
    "## Computation\n",
    "\n",
    "Do you remember the `transitions_from_treestring` function all the way in the beginning of this lab? Every example contains a **transition sequence** produced by this function. Let's look at it again:\n",
    "\n"
   ]
  },
  {
   "cell_type": "code",
   "execution_count": 74,
   "metadata": {
    "id": "5pg0Xumc3ZUS"
   },
   "outputs": [
    {
     "name": "stdout",
     "output_type": "stream",
     "text": [
      "              3                                                                     \n",
      "  ____________|____________________                                                  \n",
      " |                                 4                                                \n",
      " |        _________________________|______________________________________________   \n",
      " |       4                                                                        | \n",
      " |    ___|______________                                                          |  \n",
      " |   |                  4                                                         | \n",
      " |   |         _________|__________                                               |  \n",
      " |   |        |                    3                                              | \n",
      " |   |        |               _____|______________________                        |  \n",
      " |   |        |              |                            4                       | \n",
      " |   |        |              |            ________________|_______                |  \n",
      " |   |        |              |           |                        2               | \n",
      " |   |        |              |           |                 _______|___            |  \n",
      " |   |        3              |           |                |           2           | \n",
      " |   |    ____|_____         |           |                |        ___|_____      |  \n",
      " |   |   |          4        |           3                |       2         |     | \n",
      " |   |   |     _____|___     |      _____|_______         |    ___|___      |     |  \n",
      " 2   2   2    3         2    2     3             2        2   2       2     2     2 \n",
      " |   |   |    |         |    |     |             |        |   |       |     |     |  \n",
      " It  's  a  lovely     film with lovely     performances  by Buy     and Accorsi  . \n",
      "\n",
      "Transitions:\n",
      "[0, 0, 0, 0, 0, 1, 1, 0, 0, 0, 1, 0, 0, 0, 1, 0, 1, 1, 1, 1, 1, 1, 0, 1, 1]\n"
     ]
    },
    {
     "name": "stderr",
     "output_type": "stream",
     "text": [
      "/var/folders/nn/3ytl4vrn4ln2fzrpggw5l8300000gn/T/ipykernel_64685/3888340663.py:2: DeprecationWarning: \n",
      "    Class TreePrettyPrinter has been deprecated.  Import\n",
      "    `TreePrettyPrinter` using `from nltk.tree import\n",
      "    TreePrettyPrinter` instead.\n",
      "  print(TreePrettyPrinter(ex.tree))\n"
     ]
    }
   ],
   "source": [
    "ex = next(examplereader(\"trees/dev.txt\"))\n",
    "print(TreePrettyPrinter(ex.tree))\n",
    "print(\"Transitions:\")\n",
    "print(ex.transitions)"
   ]
  },
  {
   "cell_type": "markdown",
   "metadata": {
    "id": "ceBFe9fU4BI_"
   },
   "source": [
    "Note that the tree is **binary**. Every node has two children, except for pre-terminal nodes.\n",
    "\n",
    "A tree like this can be described by a sequence of **SHIFT (0)** and **REDUCE (1)** actions.\n",
    "\n",
    "To construct a tree, we can use the transitions as follows:\n",
    "- **reverse** the sentence (a list of tokens) and call this the **buffer**\n",
    "   - the first word is now on top (last in the list), and we would get it when calling pop() on the buffer\n",
    "- create an empty list and call it the **stack**\n",
    "- iterate through the transition sequence:\n",
    "  - if it says SHIFT(0), we pop a word from the buffer, and push it to the stack\n",
    "  - if it says REDUCE(1), we pop the **top two items** from the stack, and combine them (e.g. with a Tree-LSTM!), creating a new node that we push back on the stack\n",
    "  \n",
    "Convince yourself that going through the transition sequence above will result in the tree that you see.\n",
    "For example, we would start by putting the following words on the stack (by shifting 5 times, starting with `It`):\n",
    "\n",
    "```\n",
    "Top of the stack:\n",
    "-----------------\n",
    "film\n",
    "lovely\n",
    "a\n",
    "'s  \n",
    "It\n",
    "```\n",
    "Now we find a REDUCE in the transition sequence, so we get the top two words (film and lovely), and combine them, so our new stack becomes:\n",
    "```\n",
    "Top of the stack:\n",
    "-----------------\n",
    "lovely film\n",
    "a\n",
    "'s  \n",
    "It\n",
    "```\n",
    "\n",
    "We will use this approach when encoding sentences with our Tree-LSTM.\n",
    "Now, our sentence is a reversed list of word embeddings.\n",
    "When we shift, we move a word embedding to the stack.\n",
    "When we reduce, we apply the Tree-LSTM to the top two vectors, and the result is a single vector that we put back on the stack.\n",
    "After going through the whole transition sequence, we will have the root node on our stack! We can use that to classify the sentence.\n",
    "\n"
   ]
  },
  {
   "cell_type": "markdown",
   "metadata": {
    "id": "pDWKShm1AfmR"
   },
   "source": [
    "## Obtaining the transition sequence\n"
   ]
  },
  {
   "cell_type": "markdown",
   "metadata": {
    "id": "fO7VKWVpAbWj"
   },
   "source": [
    "\n",
    "So what goes on in the `transitions_from_treestring` function?\n",
    "\n",
    "The idea ([explained in this blog post](https://devblogs.nvidia.com/recursive-neural-networks-pytorch/)) is that, if we had a tree, we could traverse through the tree, and every time that we find a node containing only a word, we output a SHIFT.\n",
    "Every time **after** we have finished visiting the children of a node, we output a REDUCE.\n",
    "(What is this tree traversal called?)\n",
    "\n",
    "However, our `transitions_from_treestring` function operates directly on the string representation. It works as follows.\n",
    "\n",
    "We start with the representation:\n",
    "\n",
    "```\n",
    "(3 (2 It) (4 (4 (2 's) (4 (3 (2 a) (4 (3 lovely) (2 film))) (3 (2 with) (4 (3 (3 lovely) (2 performances)) (2 (2 by) (2 (2 (2 Buy) (2 and)) (2 Accorsi))))))) (2 .)))\n",
    "```\n",
    "\n",
    "First we remove pre-terminal nodes (and add spaces before closing brackets):\n",
    "\n",
    "```\n",
    "(3 It (4 (4 's (4 (3 a (4 lovely film ) ) (3 with (4 (3 lovely performances ) (2 by (2 (2 Buy and )  Accorsi ) ) ) ) ) ) . ) )\n",
    "```\n",
    "\n",
    "Then we remove node labels:\n",
    "\n",
    "```\n",
    "( It ( ( 's ( ( a ( lovely film ) ) ( with ( ( lovely performances) ( by ( ( Buy and )  Accorsi ) ) ) ) ) ) . ) )\n",
    "```\n",
    "\n",
    "Then we remove opening brackets:\n",
    "\n",
    "```\n",
    "It 's a lovely film ) ) with lovely performances ) by Buy and ) Accorsi ) ) ) ) ) ) . ) )\n",
    "```\n",
    "\n",
    "Now we replace words by S (for SHIFT), and closing brackets by R (for REDUCE):\n",
    "\n",
    "```\n",
    "S S S S S R R S S S R S S S R S R R R R R R S R R\n",
    "0 0 0 0 0 1 1 0 0 0 1 0 0 0 1 0 1 1 1 1 1 1 0 1 1\n",
    "```\n",
    "\n",
    "Et voilà. We just obtained the transition sequence!"
   ]
  },
  {
   "cell_type": "code",
   "execution_count": 75,
   "metadata": {
    "id": "1y069gM4_v64"
   },
   "outputs": [
    {
     "name": "stdout",
     "output_type": "stream",
     "text": [
      "S S S S S R R S S S R S S S R S R R R R R R S R R\n",
      "0 0 0 0 0 1 1 0 0 0 1 0 0 0 1 0 1 1 1 1 1 1 0 1 1\n"
     ]
    }
   ],
   "source": [
    "# for comparison\n",
    "seq = ex.transitions\n",
    "s = \" \".join([\"S\" if t == 0 else \"R\" for t in seq])\n",
    "print(s)\n",
    "print(\" \".join(map(str, seq)))"
   ]
  },
  {
   "cell_type": "markdown",
   "metadata": {
    "id": "d-qOuKbDAiBn"
   },
   "source": [
    "## Coding the Tree-LSTM\n",
    "\n",
    "The code below contains a Binary Tree-LSTM cell.\n",
    "It is used in the TreeLSTM class below it, which in turn is used in the TreeLSTMClassifier.\n",
    "The job of the TreeLSTM class is to encode a complete sentence and return the root node.\n",
    "The job of the TreeLSTMCell is to return a new state when provided with two children (a reduce action). By repeatedly calling the TreeLSTMCell, the TreeLSTM will encode a sentence. This can be done for multiple sentences at the same time.\n",
    "\n",
    "\n",
    "#### Exercise\n",
    "Check the `forward` function and complete the Tree-LSTM formulas.\n",
    "You can see that we defined a large linear layer for you, that projects the *concatenation* of the left and right child into the input gate, left forget gate, right forget gate, candidate, and output gate."
   ]
  },
  {
   "cell_type": "code",
   "execution_count": 76,
   "metadata": {
    "id": "J9b9mjMlN7Pb"
   },
   "outputs": [],
   "source": [
    "class TreeLSTMCell(nn.Module):\n",
    "  \"\"\"A Binary Tree LSTM cell\"\"\"\n",
    "\n",
    "  def __init__(self, input_size, hidden_size, bias=True):\n",
    "    \"\"\"Creates the weights for this LSTM\"\"\"\n",
    "    super(TreeLSTMCell, self).__init__()\n",
    "\n",
    "    self.input_size = input_size\n",
    "    self.hidden_size = hidden_size\n",
    "    self.bias = bias\n",
    "\n",
    "    self.reduce_layer = nn.Linear(2 * hidden_size, 5 * hidden_size)\n",
    "    self.dropout_layer = nn.Dropout(p=0.25)\n",
    "\n",
    "    self.reset_parameters()\n",
    "\n",
    "  def reset_parameters(self):\n",
    "    \"\"\"This is PyTorch's default initialization method\"\"\"\n",
    "    stdv = 1.0 / math.sqrt(self.hidden_size)\n",
    "    for weight in self.parameters():\n",
    "      weight.data.uniform_(-stdv, stdv)\n",
    "\n",
    "  def forward(self, hx_l, hx_r, mask=None):\n",
    "    \"\"\"\n",
    "    hx_l is ((batch, hidden_size), (batch, hidden_size))\n",
    "    hx_r is ((batch, hidden_size), (batch, hidden_size))\n",
    "    \"\"\"\n",
    "    prev_h_l, prev_c_l = hx_l  # left child\n",
    "    prev_h_r, prev_c_r = hx_r  # right child\n",
    "\n",
    "    B = prev_h_l.size(0)\n",
    "\n",
    "    # we concatenate the left and right children\n",
    "    # you can also project from them separately and then sum\n",
    "    children = torch.cat([prev_h_l, prev_h_r], dim=1)\n",
    "\n",
    "    # project the combined children into a 5D tensor for i,fl,fr,g,o\n",
    "    # this is done for speed, and you could also do it separately\n",
    "    proj = self.reduce_layer(children)  # shape: B x 5D\n",
    "\n",
    "    # each shape: B x D\n",
    "    i, f_l, f_r, g, o = torch.chunk(proj, 5, dim=-1)\n",
    "\n",
    "    # main Tree LSTM computation\n",
    "\n",
    "    # YOUR CODE HERE\n",
    "    # You only need to complete the commented lines below.\n",
    "    # The shape of each of these is [batch_size, hidden_size]\n",
    "\n",
    "    i = torch.sigmoid(i)\n",
    "    f_l = torch.sigmoid(f_l)\n",
    "    f_r = torch.sigmoid(f_r)\n",
    "    g = torch.tanh(g)\n",
    "    o = torch.sigmoid(o)\n",
    "\n",
    "    # New cell and hidden state\n",
    "    c = f_l * prev_c_l + f_r * prev_c_r + i * g\n",
    "    h = o * torch.tanh(c)\n",
    "\n",
    "    if mask is not None:\n",
    "      h *= mask\n",
    "\n",
    "    return h, c\n",
    "\n",
    "  def __repr__(self):\n",
    "    return \"{}({:d}, {:d})\".format(\n",
    "        self.__class__.__name__, self.input_size, self.hidden_size)"
   ]
  },
  {
   "cell_type": "markdown",
   "metadata": {
    "id": "Dj5dYSGh_643"
   },
   "source": [
    "## Explanation of the TreeLSTM class\n",
    "\n",
    "\n",
    "The code below contains the TreeLSTM class, which implements everything we need in order to encode a sentence from word embeddings. The calculations are the same as in the paper, implemented such that the class `TreeLSTMCell` above is as general as possible and only takes two children to reduce them into a parent.\n",
    "\n",
    "\n",
    "**Initialize $\\mathbf{h}$ and $\\mathbf{c}$ outside of the cell for the leaves**\n",
    "\n",
    "At the leaves of each tree the children nodes are **empty**, whereas in higher levels the nodes are binary tree nodes that *do* have a left and right child (but no input $x$). By initializing the leaf nodes outside of the cell class (`TreeLSTMCell`), we avoid if-else statements in the forward pass.\n",
    "\n",
    "The `TreeLSTM` class (among other things) pre-calculates an initial $h$ and $c$ for every word in the sentence. Since the initial left and right child are 0, the only calculations we need to do are based on $x$, and we can drop the forget gate calculation (`prev_c_l` and `prev_c_r` are zero). The calculations we do in order to initalize $h$ and $c$ are then:\n",
    "\n",
    "$$\n",
    "c_1 =  W^{(u)}x_1 \\\\\n",
    "o_1 = \\sigma (W^{(i)}x_1) \\\\\n",
    "h_1 = o_1 \\odot \\text{tanh}(c_1)$$\n",
    "*NB: note that these equations are chosen as initializations of $c$ and $h$, other initializations are possible and might work equally well.*\n",
    "\n",
    "**Sentence Representations**\n",
    "\n",
    "All our leaf nodes are now initialized, so we can start processing the sentence in its tree form. Each sentence is represented by a buffer (initially a list with a concatenation of $[h_1, c_1]$ for every word in the reversed sentence), a stack (initially an empty list) and a transition sequence. To encode our sentence, we construct the tree from its transition sequence as explained earlier.\n",
    "\n",
    "*A short example that constructs a tree:*\n",
    "\n",
    "We loop over the time dimension of the batched transition sequences (i.e. row by row), which contain values of 0's, 1's and 2's (representing SHIFT, REDUCE and padding respectively). If we have a batch of size 2 where the first example has a transition sequence given by [0, 0, 1, 0, 0, 0, 1] and the second by [0, 0, 1, 0, 0, 1], our transition batch will be given by the following two-dimensional numpy array:\n",
    "\n",
    "$$\n",
    "\\text{transitions} =\n",
    "\\begin{pmatrix}\n",
    "0 & 0\\\\\n",
    "0 & 0\\\\\n",
    "1 & 1\\\\\n",
    "0 & 0\\\\\n",
    "0 & 0\\\\\n",
    "0 & 1\\\\\n",
    "1 & 2\n",
    "\\end{pmatrix}\n",
    "$$\n",
    "The inner loop (`for transition, buffer, stack in zip(t_batch, buffers, stacks)`) goes over each example in the batch and updates its buffer and stack. The nested loop for this example will then do roughy the following:\n",
    "\n",
    "```\n",
    "Time = 0:  t_batch = [0, 0], the inner loop performs 2 SHIFTs.\n",
    "\n",
    "Time = 1:  t_batch = [0, 0], \"..\"\n",
    "\n",
    "Time = 2:  t_batch = [1, 1], causing the inner loop to fill the list child_l and child_r for both examples in the batch. Now the statement if child_l will return True, triggering a REDUCE action to be performed by our Tree LSTM cell with a batch size of 2.\n",
    "\n",
    "Time = 3:  t_batch = [0, 0], \"..\".\n",
    "\n",
    "Time = 4:  t_batch = [0, 0], \"..\"\n",
    "\n",
    "Time = 5:  t_batch = [0, 1], one SHIFT will be done and another REDUCE action will be performed by our Tree LSTM, this time of batch size 1.  \n",
    "\n",
    "Time = 6:  t_batch = [1, 2], triggering another REDUCE action with batch size 1.\n",
    "```\n",
    "*NB: note that this was an artificial example for the purpose of demonstrating parts of the code, the transition sequences do not necessarily represent actual trees.*\n",
    "\n",
    "**Batching and Unbatching**\n",
    "\n",
    "Within the body of the outer loop over time, we use the functions for batching and unbatching.\n",
    "\n",
    "*Batching*\n",
    "\n",
    "Before passing two lists of children to the reduce layer (an instance of `TreeLSTMCell`), we batch the children as they are at this point a list of tensors of variable length based on how many REDUCE actions there are to perform at a certain time step across the batch (let's call the length `L`). To do an efficient forward pass we want to transform the list to a pair of tensors of shape `([L, D], [L, D])`, which the function `batch` achieves.\n",
    "\n",
    "*Unbatching*\n",
    "\n",
    "In the same line where we batched the children, we unbatch the output of the forward pass to become a list of states of length `L` again. We do this because we need to loop over each example's transition at the current time step and push the children that are reduced into a parent to the stack.\n",
    "\n",
    "*The batch and unbatch functions let us switch between the \"PyTorch world\" (Tensors) and the Python world (easy to manipulate lists).*\n"
   ]
  },
  {
   "cell_type": "code",
   "execution_count": 77,
   "metadata": {
    "id": "5PixvTd4AqsQ"
   },
   "outputs": [],
   "source": [
    "# Helper functions for batching and unbatching states\n",
    "# For speed we want to combine computations by batching, but\n",
    "# for processing logic we want to turn the output into lists again\n",
    "# to easily manipulate.\n",
    "\n",
    "def batch(states):\n",
    "  \"\"\"\n",
    "  Turns a list of states into a single tensor for fast processing.\n",
    "  This function also chunks (splits) each state into a (h, c) pair\"\"\"\n",
    "  return torch.cat(states, 0).chunk(2, 1)\n",
    "\n",
    "def unbatch(state):\n",
    "  \"\"\"\n",
    "  Turns a tensor back into a list of states.\n",
    "  First, (h, c) are merged into a single state.\n",
    "  Then the result is split into a list of sentences.\n",
    "  \"\"\"\n",
    "  return torch.split(torch.cat(state, 1), 1, 0)"
   ]
  },
  {
   "cell_type": "markdown",
   "metadata": {
    "id": "CynltDasaLPt"
   },
   "source": [
    "Take some time to understand the class below, having read the explanation above."
   ]
  },
  {
   "cell_type": "code",
   "execution_count": 78,
   "metadata": {
    "id": "rQOqMXG4gX5G"
   },
   "outputs": [],
   "source": [
    "class TreeLSTM(nn.Module):\n",
    "  \"\"\"Encodes a sentence using a TreeLSTMCell\"\"\"\n",
    "\n",
    "  def __init__(self, input_size, hidden_size, bias=True):\n",
    "    \"\"\"Creates the weights for this LSTM\"\"\"\n",
    "    super(TreeLSTM, self).__init__()\n",
    "\n",
    "    self.input_size = input_size\n",
    "    self.hidden_size = hidden_size\n",
    "    self.bias = bias\n",
    "    self.reduce = TreeLSTMCell(input_size, hidden_size)\n",
    "\n",
    "    # project word to initial c\n",
    "    self.proj_x = nn.Linear(input_size, hidden_size)\n",
    "    self.proj_x_gate = nn.Linear(input_size, hidden_size)\n",
    "\n",
    "    self.buffers_dropout = nn.Dropout(p=0.5)\n",
    "\n",
    "  def forward(self, x, transitions):\n",
    "    \"\"\"\n",
    "    WARNING: assuming x is reversed!\n",
    "    :param x: word embeddings [B, T, E]\n",
    "    :param transitions: [2T-1, B]\n",
    "    :return: root states\n",
    "    \"\"\"\n",
    "\n",
    "    B = x.size(0)  # batch size\n",
    "    T = x.size(1)  # time\n",
    "\n",
    "    # compute an initial c and h for each word\n",
    "    # Note: this corresponds to input x in the Tai et al. Tree LSTM paper.\n",
    "    # We do not handle input x in the TreeLSTMCell itself.\n",
    "    buffers_c = self.proj_x(x)\n",
    "    buffers_h = buffers_c.tanh()\n",
    "    buffers_h_gate = self.proj_x_gate(x).sigmoid()\n",
    "    buffers_h = buffers_h_gate * buffers_h\n",
    "\n",
    "    # concatenate h and c for each word\n",
    "    buffers = torch.cat([buffers_h, buffers_c], dim=-1)\n",
    "\n",
    "    D = buffers.size(-1) // 2\n",
    "\n",
    "    # we turn buffers into a list of stacks (1 stack for each sentence)\n",
    "    # first we split buffers so that it is a list of sentences (length B)\n",
    "    # then we split each sentence to be a list of word vectors\n",
    "    buffers = buffers.split(1, dim=0)  # Bx[T, 2D]\n",
    "    buffers = [list(b.squeeze(0).split(1, dim=0)) for b in buffers]  # BxTx[2D]\n",
    "\n",
    "    # create B empty stacks\n",
    "    stacks = [[] for _ in buffers]\n",
    "\n",
    "    # t_batch holds 1 transition for each sentence\n",
    "    for t_batch in transitions:\n",
    "\n",
    "      child_l = []  # contains the left child for each sentence with reduce action\n",
    "      child_r = []  # contains the corresponding right child\n",
    "\n",
    "      # iterate over sentences in the batch\n",
    "      # each has a transition t, a buffer and a stack\n",
    "      for transition, buffer, stack in zip(t_batch, buffers, stacks):\n",
    "        if transition == SHIFT:\n",
    "          stack.append(buffer.pop())\n",
    "        elif transition == REDUCE:\n",
    "          assert len(stack) >= 2, \\\n",
    "            \"Stack too small! Should not happen with valid transition sequences\"\n",
    "          child_r.append(stack.pop())  # right child is on top\n",
    "          child_l.append(stack.pop())\n",
    "\n",
    "      # if there are sentences with reduce transition, perform them batched\n",
    "      if child_l:\n",
    "        reduced = iter(unbatch(self.reduce(batch(child_l), batch(child_r))))\n",
    "        for transition, stack in zip(t_batch, stacks):\n",
    "          if transition == REDUCE:\n",
    "            stack.append(next(reduced))\n",
    "\n",
    "    final = [stack.pop().chunk(2, -1)[0] for stack in stacks]\n",
    "    final = torch.cat(final, dim=0)  # tensor [B, D]\n",
    "\n",
    "    return final"
   ]
  },
  {
   "cell_type": "markdown",
   "metadata": {
    "id": "s4EzbVzqaXkw"
   },
   "source": [
    "Just like the LSTM before, we will need an extra class that does the classifications."
   ]
  },
  {
   "cell_type": "code",
   "execution_count": 79,
   "metadata": {
    "id": "nLxpYRvtQKge"
   },
   "outputs": [],
   "source": [
    "class TreeLSTMClassifier(nn.Module):\n",
    "  \"\"\"Encodes sentence with a TreeLSTM and projects final hidden state\"\"\"\n",
    "\n",
    "  def __init__(self, vocab_size, embedding_dim, hidden_dim, output_dim, vocab):\n",
    "    super(TreeLSTMClassifier, self).__init__()\n",
    "    self.vocab = vocab\n",
    "    self.hidden_dim = hidden_dim\n",
    "    self.embed = nn.Embedding(vocab_size, embedding_dim, padding_idx=1)\n",
    "    self.treelstm = TreeLSTM(embedding_dim, hidden_dim)\n",
    "    self.output_layer = nn.Sequential(\n",
    "        nn.Dropout(p=0.5),\n",
    "        nn.Linear(hidden_dim, output_dim, bias=True)\n",
    "    )\n",
    "\n",
    "  def forward(self, x):\n",
    "\n",
    "    # x is a pair here of words and transitions; we unpack it here.\n",
    "    # x is batch-major: [B, T], transitions is time major [2T-1, B]\n",
    "    x, transitions = x\n",
    "    emb = self.embed(x)\n",
    "\n",
    "    # we use the root/top state of the Tree LSTM to classify the sentence\n",
    "    root_states = self.treelstm(emb, transitions)\n",
    "\n",
    "    # we use the last hidden state to classify the sentence\n",
    "    logits = self.output_layer(root_states)\n",
    "    return logits"
   ]
  },
  {
   "cell_type": "markdown",
   "metadata": {
    "id": "gh9RbhGwaiLg"
   },
   "source": [
    "## Special `prepare` function for Tree-LSTM\n",
    "\n",
    "We need yet another `prepare` function. For our implementation, sentences need to be *reversed*. We will do that here."
   ]
  },
  {
   "cell_type": "code",
   "execution_count": 80,
   "metadata": {
    "id": "DiqH-_2xdm9H"
   },
   "outputs": [],
   "source": [
    "def prepare_treelstm_minibatch(mb, vocab):\n",
    "  \"\"\"\n",
    "  Returns sentences reversed (last word first)\n",
    "  Returns transitions together with the sentences.\n",
    "  \"\"\"\n",
    "  batch_size = len(mb)\n",
    "  maxlen = max([len(ex.tokens) for ex in mb])\n",
    "\n",
    "  # vocab returns 0 if the word is not there\n",
    "  # NOTE: reversed sequence!\n",
    "  x = [pad([vocab.w2i.get(t, 0) for t in ex.tokens], maxlen)[::-1] for ex in mb]\n",
    "\n",
    "  x = torch.LongTensor(x)\n",
    "  x = x.to(device)\n",
    "\n",
    "  y = [ex.label for ex in mb]\n",
    "  y = torch.LongTensor(y)\n",
    "  y = y.to(device)\n",
    "\n",
    "  maxlen_t = max([len(ex.transitions) for ex in mb])\n",
    "  transitions = [pad(ex.transitions, maxlen_t, pad_value=2) for ex in mb]\n",
    "  transitions = np.array(transitions)\n",
    "  transitions = transitions.T  # time-major\n",
    "\n",
    "  return (x, transitions), y"
   ]
  },
  {
   "cell_type": "markdown",
   "metadata": {
    "id": "IMUsrlL9ayVe"
   },
   "source": [
    "## Training"
   ]
  },
  {
   "cell_type": "code",
   "execution_count": 81,
   "metadata": {
    "id": "IpOYUdg2D3v0"
   },
   "outputs": [
    {
     "name": "stdout",
     "output_type": "stream",
     "text": [
      "TreeLSTMClassifier(\n",
      "  (embed): Embedding(20727, 300, padding_idx=1)\n",
      "  (treelstm): TreeLSTM(\n",
      "    (reduce): TreeLSTMCell(300, 150)\n",
      "    (proj_x): Linear(in_features=300, out_features=150, bias=True)\n",
      "    (proj_x_gate): Linear(in_features=300, out_features=150, bias=True)\n",
      "    (buffers_dropout): Dropout(p=0.5, inplace=False)\n",
      "  )\n",
      "  (output_layer): Sequential(\n",
      "    (0): Dropout(p=0.5, inplace=False)\n",
      "    (1): Linear(in_features=150, out_features=5, bias=True)\n",
      "  )\n",
      ")\n",
      "embed.weight             [20727, 300] requires_grad=False\n",
      "treelstm.reduce.reduce_layer.weight [750, 300]   requires_grad=True\n",
      "treelstm.reduce.reduce_layer.bias [750]        requires_grad=True\n",
      "treelstm.proj_x.weight   [150, 300]   requires_grad=True\n",
      "treelstm.proj_x.bias     [150]        requires_grad=True\n",
      "treelstm.proj_x_gate.weight [150, 300]   requires_grad=True\n",
      "treelstm.proj_x_gate.bias [150]        requires_grad=True\n",
      "output_layer.1.weight    [5, 150]     requires_grad=True\n",
      "output_layer.1.bias      [5]          requires_grad=True\n",
      "\n",
      "Total number of parameters: 6534905\n",
      "\n",
      "Shuffling training data\n",
      "Iter 250: loss=383.5127, time=8.00s\n",
      "iter 250: dev acc=0.3851\n",
      "new highscore\n",
      "Shuffling training data\n",
      "Iter 500: loss=337.9492, time=16.28s\n",
      "iter 500: dev acc=0.4296\n",
      "new highscore\n",
      "Shuffling training data\n",
      "Iter 750: loss=321.1867, time=24.77s\n",
      "iter 750: dev acc=0.4432\n",
      "new highscore\n",
      "Iter 1000: loss=313.7801, time=800.17s\n",
      "iter 1000: dev acc=0.4332\n",
      "Shuffling training data\n",
      "Iter 1250: loss=308.0591, time=808.50s\n",
      "iter 1250: dev acc=0.4332\n",
      "Shuffling training data\n",
      "Iter 1500: loss=304.9242, time=935.26s\n",
      "iter 1500: dev acc=0.4441\n",
      "new highscore\n",
      "Shuffling training data\n",
      "Iter 1750: loss=299.0568, time=943.30s\n",
      "iter 1750: dev acc=0.4587\n",
      "new highscore\n",
      "Iter 2000: loss=296.0816, time=951.18s\n",
      "iter 2000: dev acc=0.4478\n",
      "Shuffling training data\n",
      "Iter 2250: loss=292.2195, time=958.75s\n",
      "iter 2250: dev acc=0.4396\n",
      "Shuffling training data\n",
      "Iter 2500: loss=284.5339, time=966.39s\n",
      "iter 2500: dev acc=0.4550\n",
      "Shuffling training data\n",
      "Iter 2750: loss=288.1123, time=975.02s\n",
      "iter 2750: dev acc=0.4478\n",
      "Iter 3000: loss=282.3612, time=983.66s\n",
      "iter 3000: dev acc=0.4614\n",
      "new highscore\n",
      "Shuffling training data\n",
      "Iter 3250: loss=278.2918, time=992.65s\n",
      "iter 3250: dev acc=0.4623\n",
      "new highscore\n",
      "Shuffling training data\n",
      "Iter 3500: loss=273.7148, time=1002.11s\n",
      "iter 3500: dev acc=0.4578\n",
      "Iter 3750: loss=272.7365, time=1010.21s\n",
      "iter 3750: dev acc=0.4605\n",
      "Shuffling training data\n",
      "Iter 4000: loss=264.4703, time=1018.97s\n",
      "iter 4000: dev acc=0.4450\n",
      "Shuffling training data\n",
      "Iter 4250: loss=264.2996, time=1027.87s\n",
      "iter 4250: dev acc=0.4578\n",
      "Shuffling training data\n",
      "Iter 4500: loss=258.7963, time=1037.27s\n",
      "iter 4500: dev acc=0.4841\n",
      "new highscore\n",
      "Iter 4750: loss=255.1966, time=1045.89s\n",
      "iter 4750: dev acc=0.4714\n",
      "Shuffling training data\n",
      "Iter 5000: loss=248.4866, time=1054.22s\n",
      "iter 5000: dev acc=0.4641\n",
      "Shuffling training data\n",
      "Iter 5250: loss=247.3674, time=1062.90s\n",
      "iter 5250: dev acc=0.4605\n",
      "Shuffling training data\n",
      "Iter 5500: loss=243.5314, time=1071.10s\n",
      "iter 5500: dev acc=0.4559\n",
      "Iter 5750: loss=236.4944, time=1079.00s\n",
      "iter 5750: dev acc=0.4378\n",
      "Shuffling training data\n",
      "Iter 6000: loss=231.1558, time=1087.02s\n",
      "iter 6000: dev acc=0.4569\n",
      "Shuffling training data\n",
      "Iter 6250: loss=227.7590, time=1095.50s\n",
      "iter 6250: dev acc=0.4614\n",
      "Shuffling training data\n",
      "Iter 6500: loss=224.6490, time=1103.31s\n",
      "iter 6500: dev acc=0.4514\n",
      "Iter 6750: loss=214.8071, time=1111.29s\n",
      "iter 6750: dev acc=0.4478\n",
      "Shuffling training data\n",
      "Iter 7000: loss=209.7594, time=1119.63s\n",
      "iter 7000: dev acc=0.4460\n",
      "Shuffling training data\n",
      "Iter 7250: loss=204.6188, time=1127.59s\n",
      "iter 7250: dev acc=0.4505\n",
      "Iter 7500: loss=201.8294, time=1135.53s\n",
      "iter 7500: dev acc=0.4124\n",
      "Shuffling training data\n",
      "Iter 7750: loss=194.8833, time=1143.38s\n",
      "iter 7750: dev acc=0.4396\n",
      "Shuffling training data\n",
      "Iter 8000: loss=188.1641, time=1151.71s\n",
      "iter 8000: dev acc=0.4405\n",
      "Shuffling training data\n",
      "Iter 8250: loss=185.4356, time=1159.63s\n",
      "iter 8250: dev acc=0.4260\n",
      "Iter 8500: loss=179.3731, time=1167.90s\n",
      "iter 8500: dev acc=0.4314\n",
      "Shuffling training data\n",
      "Iter 8750: loss=169.1134, time=1175.80s\n",
      "iter 8750: dev acc=0.4469\n",
      "Shuffling training data\n",
      "Iter 9000: loss=167.1451, time=1184.58s\n",
      "iter 9000: dev acc=0.4105\n",
      "Shuffling training data\n",
      "Iter 9250: loss=162.0656, time=1193.63s\n",
      "iter 9250: dev acc=0.4260\n",
      "Iter 9500: loss=149.8398, time=1204.24s\n",
      "iter 9500: dev acc=0.4233\n",
      "Shuffling training data\n",
      "Iter 9750: loss=147.8682, time=1216.48s\n",
      "iter 9750: dev acc=0.4051\n",
      "Shuffling training data\n",
      "Iter 10000: loss=144.4300, time=1224.79s\n",
      "iter 10000: dev acc=0.4096\n",
      "Iter 10250: loss=135.3720, time=1233.13s\n",
      "iter 10250: dev acc=0.4305\n",
      "Shuffling training data\n",
      "Iter 10500: loss=129.8409, time=1241.37s\n",
      "iter 10500: dev acc=0.4033\n",
      "Shuffling training data\n",
      "Iter 10750: loss=126.3412, time=1249.58s\n",
      "iter 10750: dev acc=0.4160\n",
      "Shuffling training data\n",
      "Iter 11000: loss=116.9101, time=1264.98s\n",
      "iter 11000: dev acc=0.3878\n",
      "Iter 11250: loss=118.7991, time=1274.45s\n",
      "iter 11250: dev acc=0.4124\n",
      "Shuffling training data\n",
      "Iter 11500: loss=102.6659, time=1284.17s\n",
      "iter 11500: dev acc=0.4042\n",
      "Shuffling training data\n",
      "Iter 11750: loss=108.6021, time=1293.33s\n",
      "iter 11750: dev acc=0.4015\n",
      "Shuffling training data\n",
      "Iter 12000: loss=100.8471, time=1302.02s\n",
      "iter 12000: dev acc=0.4069\n",
      "Iter 12250: loss=93.0229, time=1310.43s\n",
      "iter 12250: dev acc=0.4124\n",
      "Shuffling training data\n",
      "Iter 12500: loss=88.0087, time=1319.59s\n",
      "iter 12500: dev acc=0.3987\n",
      "Shuffling training data\n",
      "Iter 12750: loss=87.4447, time=1330.17s\n",
      "iter 12750: dev acc=0.4051\n",
      "Shuffling training data\n",
      "Iter 13000: loss=88.0791, time=1340.37s\n",
      "iter 13000: dev acc=0.3960\n",
      "Iter 13250: loss=77.4781, time=1349.78s\n",
      "iter 13250: dev acc=0.4142\n",
      "Shuffling training data\n",
      "Iter 13500: loss=68.0638, time=1359.13s\n",
      "iter 13500: dev acc=0.4087\n",
      "Shuffling training data\n",
      "Iter 13750: loss=74.1810, time=1368.36s\n",
      "iter 13750: dev acc=0.4005\n",
      "Iter 14000: loss=67.3680, time=1377.27s\n",
      "iter 14000: dev acc=0.3906\n",
      "Shuffling training data\n",
      "Iter 14250: loss=57.8810, time=1386.92s\n",
      "iter 14250: dev acc=0.3978\n",
      "Shuffling training data\n",
      "Iter 14500: loss=57.8648, time=1395.57s\n",
      "iter 14500: dev acc=0.3951\n",
      "Shuffling training data\n",
      "Iter 14750: loss=62.6038, time=1405.84s\n",
      "iter 14750: dev acc=0.4069\n",
      "Iter 15000: loss=64.1998, time=1414.81s\n",
      "iter 15000: dev acc=0.3969\n",
      "Shuffling training data\n",
      "Iter 15250: loss=52.1615, time=1424.55s\n",
      "iter 15250: dev acc=0.3924\n",
      "Shuffling training data\n",
      "Iter 15500: loss=52.2811, time=1434.38s\n",
      "iter 15500: dev acc=0.3987\n",
      "Shuffling training data\n",
      "Iter 15750: loss=51.2723, time=1442.93s\n",
      "iter 15750: dev acc=0.4042\n",
      "Iter 16000: loss=45.8839, time=1451.52s\n",
      "iter 16000: dev acc=0.4214\n",
      "Shuffling training data\n",
      "Iter 16250: loss=36.0788, time=1460.57s\n",
      "iter 16250: dev acc=0.3969\n",
      "Shuffling training data\n",
      "Iter 16500: loss=36.9001, time=1469.72s\n",
      "iter 16500: dev acc=0.4015\n",
      "Iter 16750: loss=38.4053, time=1479.08s\n",
      "iter 16750: dev acc=0.3942\n",
      "Shuffling training data\n",
      "Iter 17000: loss=39.6858, time=1489.31s\n",
      "iter 17000: dev acc=0.3924\n",
      "Shuffling training data\n",
      "Iter 17250: loss=38.7951, time=1498.42s\n",
      "iter 17250: dev acc=0.4151\n",
      "Shuffling training data\n",
      "Iter 17500: loss=36.4824, time=1507.78s\n",
      "iter 17500: dev acc=0.4214\n",
      "Iter 17750: loss=40.9526, time=1516.55s\n",
      "iter 17750: dev acc=0.4024\n",
      "Shuffling training data\n",
      "Iter 18000: loss=32.2096, time=1526.40s\n",
      "iter 18000: dev acc=0.3887\n",
      "Shuffling training data\n",
      "Iter 18250: loss=30.2296, time=1537.58s\n",
      "iter 18250: dev acc=0.4024\n",
      "Shuffling training data\n",
      "Iter 18500: loss=29.4237, time=1547.36s\n",
      "iter 18500: dev acc=0.4024\n",
      "Iter 18750: loss=34.0745, time=1556.02s\n",
      "iter 18750: dev acc=0.4151\n",
      "Shuffling training data\n",
      "Iter 19000: loss=36.1702, time=1564.50s\n",
      "iter 19000: dev acc=0.3869\n",
      "Shuffling training data\n",
      "Iter 19250: loss=26.5004, time=1572.97s\n",
      "iter 19250: dev acc=0.3960\n",
      "Shuffling training data\n",
      "Iter 19500: loss=27.6793, time=1582.03s\n",
      "iter 19500: dev acc=0.4105\n",
      "Iter 19750: loss=21.7793, time=1590.60s\n",
      "iter 19750: dev acc=0.4024\n",
      "Shuffling training data\n",
      "Iter 20000: loss=21.7093, time=1600.19s\n",
      "iter 20000: dev acc=0.4151\n",
      "Shuffling training data\n",
      "Iter 20250: loss=25.0843, time=1609.54s\n",
      "iter 20250: dev acc=0.4042\n",
      "Iter 20500: loss=23.7765, time=1619.46s\n",
      "iter 20500: dev acc=0.4105\n",
      "Shuffling training data\n",
      "Iter 20750: loss=24.9990, time=1628.73s\n",
      "iter 20750: dev acc=0.4205\n",
      "Shuffling training data\n",
      "Iter 21000: loss=33.8115, time=1637.81s\n",
      "iter 21000: dev acc=0.4078\n",
      "Shuffling training data\n",
      "Iter 21250: loss=21.7975, time=1646.68s\n",
      "iter 21250: dev acc=0.4078\n",
      "Iter 21500: loss=16.0006, time=1656.09s\n",
      "iter 21500: dev acc=0.3987\n",
      "Shuffling training data\n",
      "Iter 21750: loss=14.6852, time=1665.24s\n",
      "iter 21750: dev acc=0.3860\n",
      "Shuffling training data\n",
      "Iter 22000: loss=26.7777, time=1674.94s\n",
      "iter 22000: dev acc=0.3951\n",
      "Shuffling training data\n",
      "Iter 22250: loss=19.7206, time=1684.91s\n",
      "iter 22250: dev acc=0.4005\n",
      "Iter 22500: loss=15.6323, time=1694.24s\n",
      "iter 22500: dev acc=0.3951\n",
      "Shuffling training data\n",
      "Iter 22750: loss=24.3835, time=1703.53s\n",
      "iter 22750: dev acc=0.3987\n",
      "Shuffling training data\n",
      "Iter 23000: loss=19.7959, time=1712.91s\n",
      "iter 23000: dev acc=0.3951\n",
      "Iter 23250: loss=20.1607, time=1722.24s\n",
      "iter 23250: dev acc=0.3924\n",
      "Shuffling training data\n",
      "Iter 23500: loss=16.7205, time=1731.27s\n",
      "iter 23500: dev acc=0.4005\n",
      "Shuffling training data\n",
      "Iter 23750: loss=12.5597, time=1740.58s\n",
      "iter 23750: dev acc=0.3969\n",
      "Shuffling training data\n",
      "Iter 24000: loss=11.6785, time=1749.86s\n",
      "iter 24000: dev acc=0.3987\n",
      "Iter 24250: loss=12.2570, time=1758.82s\n",
      "iter 24250: dev acc=0.3951\n",
      "Shuffling training data\n",
      "Iter 24500: loss=13.5240, time=1768.53s\n",
      "iter 24500: dev acc=0.4015\n",
      "Shuffling training data\n",
      "Iter 24750: loss=14.6354, time=1777.48s\n",
      "iter 24750: dev acc=0.4005\n",
      "Shuffling training data\n",
      "Iter 25000: loss=16.8561, time=1786.34s\n",
      "iter 25000: dev acc=0.4060\n",
      "Iter 25250: loss=19.9908, time=1795.33s\n",
      "iter 25250: dev acc=0.3996\n",
      "Shuffling training data\n",
      "Iter 25500: loss=19.7240, time=1804.37s\n",
      "iter 25500: dev acc=0.4124\n",
      "Shuffling training data\n",
      "Iter 25750: loss=11.5832, time=1813.88s\n",
      "iter 25750: dev acc=0.3933\n",
      "Shuffling training data\n",
      "Iter 26000: loss=11.1777, time=1823.42s\n",
      "iter 26000: dev acc=0.3906\n",
      "Iter 26250: loss=11.7870, time=1832.70s\n",
      "iter 26250: dev acc=0.4096\n",
      "Shuffling training data\n",
      "Iter 26500: loss=19.7602, time=1841.94s\n",
      "iter 26500: dev acc=0.4015\n",
      "Shuffling training data\n",
      "Iter 26750: loss=19.9381, time=1852.09s\n",
      "iter 26750: dev acc=0.3933\n",
      "Iter 27000: loss=12.1777, time=1862.32s\n",
      "iter 27000: dev acc=0.3951\n",
      "Shuffling training data\n",
      "Iter 27250: loss=9.3013, time=1872.25s\n",
      "iter 27250: dev acc=0.4024\n",
      "Shuffling training data\n",
      "Iter 27500: loss=8.1365, time=1882.65s\n",
      "iter 27500: dev acc=0.4105\n",
      "Shuffling training data\n",
      "Iter 27750: loss=5.9236, time=1893.07s\n",
      "iter 27750: dev acc=0.4069\n",
      "Iter 28000: loss=4.3180, time=1903.28s\n",
      "iter 28000: dev acc=0.4060\n",
      "Shuffling training data\n",
      "Iter 28250: loss=4.7353, time=1913.42s\n",
      "iter 28250: dev acc=0.3960\n",
      "Shuffling training data\n",
      "Iter 28500: loss=6.1128, time=1923.97s\n",
      "iter 28500: dev acc=0.3987\n",
      "Shuffling training data\n",
      "Iter 28750: loss=9.1737, time=1933.38s\n",
      "iter 28750: dev acc=0.3960\n",
      "Iter 29000: loss=42.4012, time=1942.41s\n",
      "iter 29000: dev acc=0.4160\n",
      "Shuffling training data\n",
      "Iter 29250: loss=15.2330, time=1951.72s\n",
      "iter 29250: dev acc=0.3978\n",
      "Shuffling training data\n",
      "Iter 29500: loss=8.8780, time=1960.74s\n",
      "iter 29500: dev acc=0.3996\n",
      "Iter 29750: loss=10.1693, time=1969.84s\n",
      "iter 29750: dev acc=0.3906\n",
      "Shuffling training data\n",
      "Iter 30000: loss=7.0154, time=1978.82s\n",
      "iter 30000: dev acc=0.3987\n",
      "Done training\n",
      "Loading best model\n"
     ]
    },
    {
     "name": "stderr",
     "output_type": "stream",
     "text": [
      "/var/folders/nn/3ytl4vrn4ln2fzrpggw5l8300000gn/T/ipykernel_64685/3291092230.py:91: FutureWarning: You are using `torch.load` with `weights_only=False` (the current default value), which uses the default pickle module implicitly. It is possible to construct malicious pickle data which will execute arbitrary code during unpickling (See https://github.com/pytorch/pytorch/blob/main/SECURITY.md#untrusted-models for more details). In a future release, the default value for `weights_only` will be flipped to `True`. This limits the functions that could be executed during unpickling. Arbitrary objects will no longer be allowed to be loaded via this mode unless they are explicitly allowlisted by the user via `torch.serialization.add_safe_globals`. We recommend you start setting `weights_only=True` for any use case where you don't have full control of the loaded file. Please open an issue on GitHub for any issues related to this experimental feature.\n",
      "  ckpt = torch.load(path)\n"
     ]
    },
    {
     "name": "stdout",
     "output_type": "stream",
     "text": [
      "best model iter 4500: train acc=0.5922, dev acc=0.4841, test acc=0.4733\n"
     ]
    }
   ],
   "source": [
    "# Now let's train the Tree LSTM!\n",
    "\n",
    "tree_model = TreeLSTMClassifier(\n",
    "    len(v.w2i), 300, 150, len(t2i), v)\n",
    "\n",
    "with torch.no_grad():\n",
    "  tree_model.embed.weight.data.copy_(torch.from_numpy(vectors))\n",
    "  tree_model.embed.weight.requires_grad = False\n",
    "\n",
    "def do_train(model):\n",
    "\n",
    "  print(model)\n",
    "  print_parameters(model)\n",
    "\n",
    "  model = model.to(device)\n",
    "\n",
    "  optimizer = optim.Adam(model.parameters(), lr=2e-4)\n",
    "\n",
    "  return train_model(\n",
    "      model, optimizer, num_iterations=30000,\n",
    "      print_every=250, eval_every=250,\n",
    "      prep_fn=prepare_treelstm_minibatch,\n",
    "      eval_fn=evaluate,\n",
    "      batch_fn=get_minibatch,\n",
    "      batch_size=25, eval_batch_size=25)\n",
    "\n",
    "results = do_train(tree_model)"
   ]
  },
  {
   "cell_type": "code",
   "execution_count": 82,
   "metadata": {
    "id": "DHcHHaLtguUg"
   },
   "outputs": [
    {
     "data": {
      "image/png": "[encoded data removed]",
      "text/plain": [
       "<Figure size 1000x600 with 2 Axes>"
      ]
     },
     "metadata": {},
     "output_type": "display_data"
    }
   ],
   "source": [
    "# plot\n",
    "loss_values = results[0]\n",
    "accuracy_values = results[1]\n",
    "\n",
    "fig, ax1 = plt.subplots(figsize=(10, 6))\n",
    "ax1.set_xlabel('Evaluation cycle')\n",
    "ax1.set_ylabel('Loss')\n",
    "ax1.plot(loss_values, color='blue', label='Loss')\n",
    "\n",
    "ax2 = ax1.twinx()\n",
    "ax2.set_ylabel('Accuracy')\n",
    "ax2.plot(accuracy_values, color='red', label='Accuracy')\n",
    "\n",
    "plt.title('Training Progress: Loss and Accuracy Over Evaluation Cycles')\n",
    "ax1.grid(visible=True, which='both', linestyle='--', linewidth=0.5)\n",
    "fig.legend(loc='upper right', bbox_to_anchor=(0.99, 0.98), bbox_transform=ax1.transAxes)\n",
    "\n",
    "plt.tight_layout()\n",
    "plt.show()"
   ]
  },
  {
   "cell_type": "markdown",
   "metadata": {
    "id": "f7QZZH86eHqu"
   },
   "source": [
    "# Further experiments and report\n",
    "\n",
    "For your report, you are expected to answer research questions by doing further experiments.\n",
    "\n",
    "## Research Questions\n",
    "\n",
    "Make sure you cover at least the following:\n",
    "\n",
    "- How important is word order for this task?\n",
    "- Does the tree structure help to get a better accuracy?\n",
    "- How does performance depend on the sentence length? Compare the various models. Is there a model that does better on longer sentences? If so, why?\n",
    "- Do you get better performance if you supervise the sentiment **at each node in the tree**? You can extract more training examples by treating every node in each tree as a separate tree. You will need to write a function that extracts all subtrees given a treestring.\n",
    "    - Warning: NLTK's Tree function seems to result in invalid trees in some cases, so be careful if you want to parse the string to a tree structure before extraction the phrases.\n",
    "\n",
    "**To be able to obtain a full grade (10), you should conduct further investigations.** For example, you can also investigate one the following:\n",
    "\n",
    "- When making a wrong prediction, can you figure out at what point in the tree (sentence) the model fails? You can make a prediction at each node to investigate.\n",
    "- How does N-ary Tree LSTM compare to the Child-Sum Tree LSTM?\n",
    "- How do the Tai et al. Tree LSTMs compare to Le & Zuidema's formulation?\n",
    "- Or... your own research question!\n",
    "\n",
    "These examples should give you an idea of the expected scope of your further investigations. The maximum number of points awarded for these further investigations depends on the depth of your analysis, and can also be awarded for one of the further research questions already listed above.\n",
    "\n",
    "In general:\n",
    "\n",
    "- ***When you report numbers, please report the mean accuracy across 3 (or more) runs with different random seed, together with the standard deviation.*** This is because the final performance may vary per random seed.\n",
    "More precisely, you should run each model with 3 different seeds, and for each of these 3 runs, evaluate the best model (according to the validation) on the test dataset. The validation dataset is used for finding the best model over iterations, but the accuracy you report should be on the test dataset.\n",
    "\n",
    "## Report instructions\n",
    "\n",
    "Your report needs to be written in LaTeX. You are required to use the ACL 2023 template which you can download from or edit directly on [Overleaf](https://www.overleaf.com/latex/templates/acl-2023-proceedings-template/qjdgcrdwcnwp). Make sure your names and student numbers are visible at the top. (Tip: you need to uncomment `\\aclfinalcopy`).\n",
    "You can find some general tips about writing a research paper [here](https://www.microsoft.com/en-us/research/academic-program/write-great-research-paper/), but note that you need to make your own judgment about what is appropriate for this project.\n",
    "\n",
    "We expect you to use the following structure:\n",
    "1. Introduction (~1 page) - describe the problem, your research questions and goals, a summary of your findings and contributions. Please cite related work (models, data set) as part of your introduction here, since this is a short paper.\n",
    "    - Introduce the task and the main goal\n",
    "    - Present your research questions\n",
    "    - Motivate the importance of the questions\n",
    "    - Present and explain your expectations\n",
    "    - Make clear whether the research questions are addressed or not addressed in the literature\n",
    "    - Describe the approach you use to answer the research questions\n",
    "    - Summarise your findings\n",
    "2. Background (~1/2-1 page) -\n",
    "cover the main techniques (\"building blocks\") used in your project (e.g. word embeddings, LSTM, Tree-LSTM) and intuitions behind them. Be accurate and concise.\n",
    "    - How does each technique work? (Don't just copy the formulas)\n",
    "    - What is the relation between the techniques?\n",
    "3. Models (~1/2 page) - Describe the architecture of the final models.\n",
    "    - How do you use LSTM or Tree-LSTM for the sentiment classification task?\n",
    "    - What layers do you have, how do you do classification?\n",
    "    - What is your loss function?\n",
    "    - Etc.\n",
    "4. Experiments (~1/2 page) - Describe your experimental setup. This section should allow someone else to reproduce your experiments. Describe how you evaluate the models.\n",
    "    - Task and the data\n",
    "    - Training (model, data, parameters and hyper parameters, training algorithms, supervision signals, etc.)\n",
    "    - Evaluation (e.g. metrics)\n",
    "5. Results and Analysis (~1 page). Present the results and analyse your findings.\n",
    "    - Answer each of the research questions you raised in the introduction.\n",
    "    - Use figures and tables to highlight interesting patterns\n",
    "    - What are the factors that make model A better than model B in task C? Investigate to prove their effect!\n",
    "6. Conclusion (~1/4 page). Present the conclusions that can be drawn from your experiments.\n",
    "    - What have you learned from you experiments?\n",
    "    - How do your findings relate to what is already known in the literature?\n",
    "    - Were the results as expected? Any surprising results? Why?\n",
    "    - Based on what you learned, what would you suggest doing next?\n",
    "\n",
    "\n",
    "General Tips:\n",
    "\n",
    "- Math notation – define each variable (either in running text, or in a pseudo-legenda after or before the equation).\n",
    "- Define technical terminology you need.\n",
    "- Avoid colloquial language – everything can be said in a scientific-sounding way.\n",
    "- Avoid lengthy sentences, stay to the point.\n",
    "- Do not spend space on \"obvious\" things.\n",
    "- Do not go over the page limit. (We will deduct points for that.)\n",
    "- The page limit is 4 pages excluding references and appendix. This is a strict limit; points will be deducted for longer reports.\n",
    "- There is no strict limit to references and appendix. However, the report needs to remain fully self-contained: the appendix should only include content that is not necessary to understand your work. For example, preprocessing decisions, model parameters, pseudocode, sample system inputs/outputs, and other details that are necessary for the exact replication of your work can be put into the appendix.\n",
    "\n",
    "\n",
    "An ideal report:\n",
    "- Precise, scientific, technical, to the point\n",
    "  - Little general “waffle”/chit-chat\n",
    "- Not boring – because you don’t explain obvious things too much\n",
    "- Efficient delivery of (only) the facts that we need to know to understand/reimplement\n",
    "- Results visually well-presented and described with the correct priority of importance of sub-results\n",
    "- Insightful analysis – speculation should connect to something interesting and not be too much; the reader “learns something new”\n",
    "- No typos, no colloquialisms – well-considered language\n",
    "- This normally means several re-draftings (re-orderings of information)\n"
   ]
  }
 ],
 "metadata": {
  "accelerator": "GPU",
  "colab": {
   "provenance": []
  },
  "kernelspec": {
   "display_name": "nlp-env",
   "language": "python",
   "name": "python3"
  },
  "language_info": {
   "codemirror_mode": {
    "name": "ipython",
    "version": 3
   },
   "file_extension": ".py",
   "mimetype": "text/x-python",
   "name": "python",
   "nbconvert_exporter": "python",
   "pygments_lexer": "ipython3",
   "version": "3.12.4"
  }
 },
 "nbformat": 4,
 "nbformat_minor": 0
}
